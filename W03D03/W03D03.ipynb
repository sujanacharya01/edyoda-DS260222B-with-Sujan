{
 "cells": [
  {
   "cell_type": "code",
   "execution_count": 3,
   "id": "014e80d4",
   "metadata": {},
   "outputs": [
    {
     "name": "stdout",
     "output_type": "stream",
     "text": [
      "45 23\n"
     ]
    }
   ],
   "source": [
    "#1st way to swap two values\n",
    "# this fuction is for string and any general value.\n",
    "a = 23\n",
    "b = 45\n",
    "temp = a \n",
    "a = b\n",
    "b = temp\n",
    "print(a,b)"
   ]
  },
  {
   "cell_type": "code",
   "execution_count": 4,
   "id": "1f93685b",
   "metadata": {},
   "outputs": [
    {
     "name": "stdout",
     "output_type": "stream",
     "text": [
      "45 23\n"
     ]
    }
   ],
   "source": [
    "# 2nd way\n",
    "#It's only for integer\n",
    "a = 23\n",
    "b = 45\n",
    "a = a+b\n",
    "b = a-b\n",
    "a = a-b\n",
    "print(a,b)"
   ]
  },
  {
   "cell_type": "code",
   "execution_count": 5,
   "id": "fc1c7e65",
   "metadata": {},
   "outputs": [
    {
     "name": "stdout",
     "output_type": "stream",
     "text": [
      "45 23\n"
     ]
    }
   ],
   "source": [
    "# 3rd way\n",
    "# pythonic way\n",
    "a = 23\n",
    "b = 45\n",
    "a,b=b,a\n",
    "print(a,b)\n"
   ]
  },
  {
   "cell_type": "code",
   "execution_count": 6,
   "id": "70cf8ff9",
   "metadata": {},
   "outputs": [
    {
     "name": "stdout",
     "output_type": "stream",
     "text": [
      "['Ganesh', 'Bhaskar', 'Subbu', 'Vishu', 'Shivu']\n"
     ]
    }
   ],
   "source": [
    "l=[\"Shivu\",\"Bhaskar\",\"Subbu\",\"Vishu\",\"Ganesh\"]\n",
    "l[-1],l[0] = l[0],l[-1] #  it were being swapped.\n",
    "print(l)"
   ]
  },
  {
   "cell_type": "markdown",
   "id": "2c08a58c",
   "metadata": {},
   "source": [
    "### `Dictionary in python`"
   ]
  },
  {
   "cell_type": "code",
   "execution_count": null,
   "id": "d40aaaa9",
   "metadata": {},
   "outputs": [],
   "source": [
    "Dictionary in python is mutable or changeable\n",
    "    The keys of Dictionary is immutable"
   ]
  },
  {
   "cell_type": "code",
   "execution_count": null,
   "id": "534f35ce",
   "metadata": {},
   "outputs": [],
   "source": [
    "dict1 = {} #Empty Dictionary\n",
    "dict2 = dict()\n"
   ]
  },
  {
   "cell_type": "code",
   "execution_count": 4,
   "id": "cc42b520",
   "metadata": {},
   "outputs": [
    {
     "name": "stdout",
     "output_type": "stream",
     "text": [
      "{} {}\n"
     ]
    }
   ],
   "source": [
    "print(dict1,dict2)"
   ]
  },
  {
   "cell_type": "code",
   "execution_count": 6,
   "id": "9c718dee",
   "metadata": {},
   "outputs": [
    {
     "name": "stdout",
     "output_type": "stream",
     "text": [
      "124\n"
     ]
    }
   ],
   "source": [
    "dict3 = {\"Key\":124, 56: \"Value\"}\n",
    "print(dict3['Key'])"
   ]
  },
  {
   "cell_type": "code",
   "execution_count": 7,
   "id": "10056f46",
   "metadata": {},
   "outputs": [
    {
     "name": "stdout",
     "output_type": "stream",
     "text": [
      "Value\n"
     ]
    }
   ],
   "source": [
    "print(dict3[56])"
   ]
  },
  {
   "cell_type": "code",
   "execution_count": 8,
   "id": "1f77ef81",
   "metadata": {},
   "outputs": [
    {
     "ename": "TypeError",
     "evalue": "unhashable type: 'list'",
     "output_type": "error",
     "traceback": [
      "\u001b[1;31m---------------------------------------------------------------------------\u001b[0m",
      "\u001b[1;31mTypeError\u001b[0m                                 Traceback (most recent call last)",
      "Input \u001b[1;32mIn [8]\u001b[0m, in \u001b[0;36m<cell line: 1>\u001b[1;34m()\u001b[0m\n\u001b[1;32m----> 1\u001b[0m dict4 \u001b[38;5;241m=\u001b[39m {[\u001b[38;5;241m1\u001b[39m,\u001b[38;5;241m2\u001b[39m,\u001b[38;5;241m5\u001b[39m]:\u001b[38;5;124m\"\u001b[39m\u001b[38;5;124mHey I am any way not going to run\u001b[39m\u001b[38;5;124m\"\u001b[39m}\n",
      "\u001b[1;31mTypeError\u001b[0m: unhashable type: 'list'"
     ]
    }
   ],
   "source": [
    "dict4 = {[1,2,5]:\"Hey I am any way not going to run\"} # list is unhasable data type"
   ]
  },
  {
   "cell_type": "code",
   "execution_count": 10,
   "id": "07a2112c",
   "metadata": {},
   "outputs": [
    {
     "data": {
      "text/plain": [
       "'I may work'"
      ]
     },
     "execution_count": 10,
     "metadata": {},
     "output_type": "execute_result"
    }
   ],
   "source": [
    "dict5 = {(1,4,8):\"I may work\"} # tuple is a immutable data type.\n",
    "dict5[(1,4,8)]"
   ]
  },
  {
   "cell_type": "code",
   "execution_count": 11,
   "id": "6da0a3be",
   "metadata": {},
   "outputs": [
    {
     "data": {
      "text/plain": [
       "'I may work'"
      ]
     },
     "execution_count": 11,
     "metadata": {},
     "output_type": "execute_result"
    }
   ],
   "source": [
    "dict5.get((1,4,8))"
   ]
  },
  {
   "cell_type": "code",
   "execution_count": 12,
   "id": "1e578b57",
   "metadata": {},
   "outputs": [
    {
     "ename": "KeyError",
     "evalue": "'Pratiksha'",
     "output_type": "error",
     "traceback": [
      "\u001b[1;31m---------------------------------------------------------------------------\u001b[0m",
      "\u001b[1;31mKeyError\u001b[0m                                  Traceback (most recent call last)",
      "Input \u001b[1;32mIn [12]\u001b[0m, in \u001b[0;36m<cell line: 1>\u001b[1;34m()\u001b[0m\n\u001b[1;32m----> 1\u001b[0m \u001b[43mdict5\u001b[49m\u001b[43m[\u001b[49m\u001b[38;5;124;43m\"\u001b[39;49m\u001b[38;5;124;43mPratiksha\u001b[39;49m\u001b[38;5;124;43m\"\u001b[39;49m\u001b[43m]\u001b[49m\n",
      "\u001b[1;31mKeyError\u001b[0m: 'Pratiksha'"
     ]
    }
   ],
   "source": [
    "dict5[\"Pratiksha\"]"
   ]
  },
  {
   "cell_type": "code",
   "execution_count": 13,
   "id": "98cf7554",
   "metadata": {},
   "outputs": [
    {
     "name": "stdout",
     "output_type": "stream",
     "text": [
      "None\n"
     ]
    }
   ],
   "source": [
    "print(dict5.get(\"Pratiksha\"))  # it won't give any error"
   ]
  },
  {
   "cell_type": "code",
   "execution_count": null,
   "id": "4507e581",
   "metadata": {},
   "outputs": [],
   "source": []
  }
 ],
 "metadata": {
  "kernelspec": {
   "display_name": "Python 3 (ipykernel)",
   "language": "python",
   "name": "python3"
  },
  "language_info": {
   "codemirror_mode": {
    "name": "ipython",
    "version": 3
   },
   "file_extension": ".py",
   "mimetype": "text/x-python",
   "name": "python",
   "nbconvert_exporter": "python",
   "pygments_lexer": "ipython3",
   "version": "3.10.2"
  }
 },
 "nbformat": 4,
 "nbformat_minor": 5
}
