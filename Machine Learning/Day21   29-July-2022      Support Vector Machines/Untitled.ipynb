{
 "cells": [
  {
   "cell_type": "markdown",
   "id": "015edeab",
   "metadata": {},
   "source": [
    "Sub-Topics\n",
    "\n",
    "1. Support Vector Machines Intuition\n",
    "2. Max Margin, Support Vectors, Hyperplane\n",
    "3. Implement SVM in python\n",
    "Session Details\n",
    "\n",
    "All about Support Vector Machines"
   ]
  },
  {
   "cell_type": "code",
   "execution_count": null,
   "id": "c6f29896",
   "metadata": {},
   "outputs": [],
   "source": []
  }
 ],
 "metadata": {
  "kernelspec": {
   "display_name": "Python 3 (ipykernel)",
   "language": "python",
   "name": "python3"
  },
  "language_info": {
   "codemirror_mode": {
    "name": "ipython",
    "version": 3
   },
   "file_extension": ".py",
   "mimetype": "text/x-python",
   "name": "python",
   "nbconvert_exporter": "python",
   "pygments_lexer": "ipython3",
   "version": "3.9.12"
  }
 },
 "nbformat": 4,
 "nbformat_minor": 5
}
