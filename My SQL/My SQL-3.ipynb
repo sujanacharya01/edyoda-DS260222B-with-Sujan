{
 "cells": [
  {
   "cell_type": "markdown",
   "id": "891a080d",
   "metadata": {},
   "source": [
    "## Indexing In MySQL"
   ]
  },
  {
   "cell_type": "markdown",
   "id": "5aaa931c",
   "metadata": {},
   "source": [
    "/* My SQL Indexes\n",
    "CREATE INDEX Statementin SQL is used to create indexes in tables. \n",
    "The indexes are used to retrieve data from the database more quickly than others. \n",
    "The use can not see the indexes, and they are just used to speedup queries /searches. \n",
    "Note: Updating the table with indexes takes alot of time than updating a table without indexes. \n",
    "It is because the indexes also need an update. \n",
    "So, only create indexes on those columns that will be frequently searched against. \n",
    "*/"
   ]
  },
  {
   "cell_type": "code",
   "execution_count": null,
   "id": "febdd7f7",
   "metadata": {},
   "outputs": [],
   "source": [
    "create table student (id int NOT NULL, \n",
    "first_name varchar(25) , last_name varchar(25) ,\n",
    "age int\n",
    ");\n",
    "\n",
    "# creating indexes\n",
    "create index index_age\n",
    "on student(age);\n",
    "\n",
    "# creating indexs for two columns\n",
    "create index index_age_first_name\n",
    "on student(age, first_name);\n",
    "desc student;\n",
    "\n",
    "# To drop index\n",
    "alter table student\n",
    "drop index index_age_first_name;\n",
    "\n",
    "# To drop index\n",
    "alter table student\n",
    "drop index index_age"
   ]
  },
  {
   "cell_type": "code",
   "execution_count": null,
   "id": "746b549c",
   "metadata": {},
   "outputs": [],
   "source": []
  },
  {
   "cell_type": "markdown",
   "id": "0de18ca2",
   "metadata": {},
   "source": [
    "## Interview Preparation MySql Views"
   ]
  },
  {
   "cell_type": "code",
   "execution_count": null,
   "id": "16909b8a",
   "metadata": {},
   "outputs": [],
   "source": [
    "Views\n",
    "     It is a visual table based on the results set of an SQL query"
   ]
  },
  {
   "cell_type": "code",
   "execution_count": null,
   "id": "b22a44ab",
   "metadata": {},
   "outputs": [],
   "source": [
    "create table student (\n",
    "student_id int NOT NULL, \n",
    "first_name varchar(25) NOT NULL, \n",
    "last_name varchar(25) NOT NULL,\n",
    "age int,\n",
    "primary key(student_id)\n",
    ");\n",
    "\n",
    "select * from student;\n",
    "\n",
    "insert into student values (1, 'Sujan', 'Achari',25),\n",
    " (2, 'Sadhana', 'A',26),\n",
    "(3, 'Sanjay', 'Naik',28);\n",
    "\n",
    "\n",
    "create table department(\n",
    "student_id int auto_increment,\n",
    "department_name varchar(25) NOT NULL,\n",
    "foreign key(student_id) references student(student_id)\n",
    ");\n",
    "\n",
    "desc department;\n",
    "\n",
    "insert into department values(1,'Computer Science'),\n",
    "(2, 'Electronics'),\n",
    "(3, 'Mechanical');\n",
    "\n",
    "select * from department;\n",
    "select * from student;\n",
    "\n",
    "# creating view\n",
    "create view student_info as\n",
    "select first_name, last_name, age from student inner join department\n",
    "using (student_id);\n",
    "\n",
    "select * from student_info;\n",
    "\n",
    "# To drop view\n",
    "drop view student_info;\n"
   ]
  },
  {
   "cell_type": "code",
   "execution_count": null,
   "id": "be24ed6b",
   "metadata": {},
   "outputs": [],
   "source": []
  },
  {
   "cell_type": "markdown",
   "id": "91b3c4ac",
   "metadata": {},
   "source": [
    "## Discussing All Types Of Joins"
   ]
  },
  {
   "cell_type": "markdown",
   "id": "c43878a9",
   "metadata": {},
   "source": [
    "#### SQL Joins\n",
    "\n",
    "/*\n",
    "1. Inner Join\n",
    "2. Left Join\n",
    "3. Right Join\n",
    "4. Full Join\n",
    "5. Natural Join\n",
    "6. Cross Join\n",
    "*/\n"
   ]
  },
  {
   "cell_type": "code",
   "execution_count": null,
   "id": "7a8a86f7",
   "metadata": {},
   "outputs": [],
   "source": [
    "\n",
    "\n",
    "## Inner Join\n",
    "select * from student inner join department\n",
    "on student.student_id=department.student_id;\n",
    "\n",
    "# when we mentioned pafunctionrticular columns in join \n",
    "select student.first_name, student.last_name, student.age, department.department_name \n",
    "from student inner join department\n",
    "on student.student_id=department.student_id;\n",
    "\n",
    "## Left Join\n",
    "select student.first_name, student.last_name, student.age, department.department_name \n",
    "from student left join department \n",
    "on student.student_id=department.student_id;\n",
    "\n",
    "## Right Join\n",
    "select student.first_name, student.last_name, student.age, department.department_name \n",
    "from student right join department \n",
    "on student.student_id=department.student_id;\n",
    "\n",
    "## Full Outer Join\n",
    "select student.first_name, student.last_name, student.age, department.department_name \n",
    "from student left join department \n",
    "on student.student_id=department.student_id\n",
    "\n",
    "union\n",
    "\n",
    "select student.first_name, student.last_name, student.age, department.department_name \n",
    "from student right join department \n",
    "on student.student_id=department.student_id;\n",
    "\n",
    "## Cross Join\n",
    "# it will do all the possible point\n",
    "select student.first_name, student.last_name, student.age, department.department_name \n",
    "from student cross join department;\n",
    "\n",
    "## Natural Join\n",
    "select student.first_name, student.last_name, student.age, department.department_name \n",
    "from student natural join department;"
   ]
  },
  {
   "cell_type": "code",
   "execution_count": null,
   "id": "87f87f0d",
   "metadata": {},
   "outputs": [],
   "source": []
  },
  {
   "cell_type": "markdown",
   "id": "501f48d3",
   "metadata": {},
   "source": [
    " ## MYSQL Stored Procedures"
   ]
  },
  {
   "cell_type": "code",
   "execution_count": null,
   "id": "edd3279e",
   "metadata": {},
   "outputs": [],
   "source": [
    "use customer;\n",
    "\n",
    "select * from student;\n",
    "\n",
    "call get_student_info;\n",
    "\n",
    "CREATE DEFINER=`root`@`localhost` PROCEDURE `get_student_info`()\n",
    "BEGIN\n",
    "# whatever we mention here it will get executed\n",
    "select * from student;\n",
    "END\n",
    "\n",
    "\n",
    "# When we need a particular information\n",
    "CREATE DEFINER=`root`@`localhost` PROCEDURE `get_student_info`()\n",
    "BEGIN\n",
    "# whatever we mention here it will get executed\n",
    "select * from student where student.age=25;\n",
    "END\n",
    "\n",
    "\n",
    "# Here we can particularly give input\n",
    "CREATE DEFINER=`root`@`localhost` PROCEDURE `get_student_info`(in age int)\n",
    "BEGIN\n",
    "select * from student where student.age=age;\n",
    "END\n",
    "\n",
    "call get_student_info(25);\n",
    "\n",
    "\n",
    "## Out\n",
    "CREATE DEFINER=`root`@`localhost` PROCEDURE `get_student_info`(out records int)\n",
    "BEGIN\n",
    "select count(*) records from student where student.age=25;\n",
    "END\n",
    "\n",
    "call get_student_info(@record);\n",
    "select @record as Totalrecords;\n",
    "\n",
    "## In and Out\n",
    "CREATE DEFINER=`root`@`localhost` PROCEDURE `get_student_info`(inout records int,in age int)\n",
    "BEGIN\n",
    "select count(*) records from student where student.age=age;\n",
    "END\n",
    "\n",
    "call get_student_info(@record, 25);\n",
    "select @record as Totalrecords;\n",
    "\n",
    " "
   ]
  },
  {
   "cell_type": "code",
   "execution_count": null,
   "id": "0e8690e9",
   "metadata": {},
   "outputs": [],
   "source": []
  }
 ],
 "metadata": {
  "kernelspec": {
   "display_name": "Python 3 (ipykernel)",
   "language": "python",
   "name": "python3"
  },
  "language_info": {
   "codemirror_mode": {
    "name": "ipython",
    "version": 3
   },
   "file_extension": ".py",
   "mimetype": "text/x-python",
   "name": "python",
   "nbconvert_exporter": "python",
   "pygments_lexer": "ipython3",
   "version": "3.9.12"
  }
 },
 "nbformat": 4,
 "nbformat_minor": 5
}
