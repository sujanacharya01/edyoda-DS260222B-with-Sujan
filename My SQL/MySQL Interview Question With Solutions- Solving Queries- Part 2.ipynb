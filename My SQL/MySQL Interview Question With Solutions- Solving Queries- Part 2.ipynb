{
 "cells": [
  {
   "cell_type": "code",
   "execution_count": null,
   "id": "bcf2ef24",
   "metadata": {},
   "outputs": [],
   "source": [
    "use company;\n",
    "\n",
    "select * from employee;\n",
    "select * from bonus;\n",
    "select * from designation;\n",
    "\n",
    "## Easy Queries \n",
    "# 1. Write an sql query to retrieve all details where first name from employee\n",
    "# table which starts with 'd'\n",
    "\n",
    "select * from Employee where First_Name like 'd%';\n",
    "\n",
    "# 2. Write an sql query  to print all details of the employee whose salary\n",
    "# between 10000 to 3500\n",
    "## fetch Employee name\n",
    "\n",
    "select * from employee where salary between 10000 and 35000;\n",
    "\n",
    "# concat first and last name get salary details\n",
    "select concat(First_Name, ' ' , Last_Name ) as Employee_Name, \n",
    "Salary from Employee where Emp_Id in\n",
    "(select Emp_Id from Employee where Salary between 10000 and 55000);\n",
    "\n",
    "# 3. SQL Query to retrieve details of the employees who have joined on a date\n",
    "# Dec 2014\n",
    "select * from Employee where year(Joining_Date)=2014 and month(Joining_Date)=12;\n",
    "\n",
    "# 4. SQL Query to fetch number of employees in every department\n",
    "select count(*) from Employee group by Department_Name;\n",
    "\n",
    "select * from Employee where Department_Name=\"Development\";\n",
    "\n",
    "\n",
    "## Intermediate\n",
    "#5. SQL Query to print details of the employee who are also Executives\n",
    "select Employee.First_Name, Designation.Designation from \n",
    "Employee\n",
    "inner join\n",
    "Designation\n",
    "on Employee.Emp_Id = Designation.Emp_Ref_Id\n",
    "and Designation.Designation ='Executive';\n",
    "\n",
    "# 6. SQL query to clone a new table from another table\n",
    "create table Clone_Employee like Employee;\n",
    "select * from Clone_Employee;\n",
    "desc Clone_Employee;\n",
    "\n",
    "# 7. SQL query to show top n salary of employees\n",
    "select * from Employee order by Salary desc limit 4;\n",
    "\n",
    "## Increasing Complexity\n",
    "# 8. SQL query to determine the 4th highest salary\n",
    "select Salary from Employee order by Salary desc limit 3,1;\n",
    "\n",
    "## Assignment for you\n",
    "## SQL query to determine the 4th highest salary without using limit\t"
   ]
  },
  {
   "cell_type": "code",
   "execution_count": null,
   "id": "af983147",
   "metadata": {},
   "outputs": [],
   "source": []
  },
  {
   "cell_type": "code",
   "execution_count": null,
   "id": "cf9ebefa",
   "metadata": {},
   "outputs": [],
   "source": []
  },
  {
   "cell_type": "code",
   "execution_count": null,
   "id": "67e08085",
   "metadata": {},
   "outputs": [],
   "source": []
  },
  {
   "cell_type": "code",
   "execution_count": null,
   "id": "c592add0",
   "metadata": {},
   "outputs": [],
   "source": []
  },
  {
   "cell_type": "code",
   "execution_count": null,
   "id": "ca57224f",
   "metadata": {},
   "outputs": [],
   "source": []
  },
  {
   "cell_type": "code",
   "execution_count": null,
   "id": "aaa48d54",
   "metadata": {},
   "outputs": [],
   "source": []
  },
  {
   "cell_type": "code",
   "execution_count": null,
   "id": "77dde852",
   "metadata": {},
   "outputs": [],
   "source": []
  }
 ],
 "metadata": {
  "kernelspec": {
   "display_name": "Python 3 (ipykernel)",
   "language": "python",
   "name": "python3"
  },
  "language_info": {
   "codemirror_mode": {
    "name": "ipython",
    "version": 3
   },
   "file_extension": ".py",
   "mimetype": "text/x-python",
   "name": "python",
   "nbconvert_exporter": "python",
   "pygments_lexer": "ipython3",
   "version": "3.9.12"
  }
 },
 "nbformat": 4,
 "nbformat_minor": 5
}
