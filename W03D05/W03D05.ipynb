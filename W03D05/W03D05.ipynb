{
 "cells": [
  {
   "cell_type": "code",
   "execution_count": null,
   "id": "72f05038",
   "metadata": {},
   "outputs": [],
   "source": [
    "Dictionary:\n",
    "    Mutable\n",
    "    Key is immutable and unique\n",
    "    |Values can be Mutable or Immutable\n",
    "    |------ Builtin Functions --:>\n",
    "                                get(),update(),pop(),values(),keys(),items(),clear()\n",
    "Set:\n",
    "    Mutable\n",
    "    values of set are immutable and unique\n",
    "    Its an unordered collection\n",
    "    |------ Builtin Functions ----:>\n",
    "                                add(), discard(), pop(), clear(), update()"
   ]
  },
  {
   "cell_type": "markdown",
   "id": "8d4a31ce",
   "metadata": {},
   "source": [
    "`Q1) Store Alphabets as \"keys\" and their ASCII values as \"values\" to those keys. Intuition: Use \"ord\" and \"chr\" Pseudocode: 1.) Loop from a to z. \n",
    "2.) store them as keys and find their ascii to store them as values. \n",
    "3mins-->19:51`"
   ]
  },
  {
   "cell_type": "code",
   "execution_count": 5,
   "id": "d5dc0c7c",
   "metadata": {},
   "outputs": [
    {
     "name": "stdout",
     "output_type": "stream",
     "text": [
      "{'a': 97, 'b': 98, 'c': 99, 'd': 100, 'e': 101, 'f': 102, 'g': 103, 'h': 104, 'i': 105, 'j': 106, 'k': 107, 'l': 108, 'm': 109, 'n': 110, 'o': 111, 'p': 112, 'q': 113, 'r': 114, 's': 115, 't': 116, 'u': 117, 'v': 118, 'w': 119, 'x': 120, 'y': 121, 'z': 122}\n"
     ]
    }
   ],
   "source": [
    "d=dict()\n",
    "for i in range(ord(\"a\"),ord(\"z\")+1):\n",
    "    d[chr(i)]=i\n",
    "print(d)    "
   ]
  },
  {
   "cell_type": "markdown",
   "id": "2dbc4a85",
   "metadata": {},
   "source": [
    "`Q2) Count the number of occurrence of each letter in word \"apple\". Store count of every letter with the letter in a dictionary. Intuition: Use in operator to check if it already exist. Pseudocode: \n",
    "1.)loop over all the chars in \"apple\". \n",
    "2.)if char already exist, increase it's count, else give it count = 1 \n",
    "output: {\"a\":1,\"p\":2,\"l\":1,\"e\":1} 10 mins-->20:01`"
   ]
  },
  {
   "cell_type": "code",
   "execution_count": 4,
   "id": "f5669df2",
   "metadata": {},
   "outputs": [
    {
     "name": "stdout",
     "output_type": "stream",
     "text": [
      "4\n"
     ]
    }
   ],
   "source": [
    "l=[\"apple\",\"apple\",\"apple\",\"apple\"]\n",
    "i=0\n",
    "count=0\n",
    "while i<len(l):\n",
    "    if l[i]==\"apple\":\n",
    "        count+=1\n",
    "    i+=1\n",
    "print(count)    "
   ]
  },
  {
   "cell_type": "code",
   "execution_count": 15,
   "id": "12271932",
   "metadata": {},
   "outputs": [],
   "source": [
    "d = {}\n",
    "d[\"a\"] = 1\n",
    "d[\"p\"] = 1"
   ]
  },
  {
   "cell_type": "code",
   "execution_count": 16,
   "id": "7ef4337e",
   "metadata": {},
   "outputs": [
    {
     "name": "stdout",
     "output_type": "stream",
     "text": [
      "1\n"
     ]
    }
   ],
   "source": [
    "print(d[\"p\"])"
   ]
  },
  {
   "cell_type": "code",
   "execution_count": 17,
   "id": "cc106b4d",
   "metadata": {},
   "outputs": [],
   "source": [
    "d[\"p\"] += 1\n",
    "d[\"l\"] = 1\n",
    "d[\"e\"] = 1"
   ]
  },
  {
   "cell_type": "code",
   "execution_count": 18,
   "id": "75cca6a6",
   "metadata": {},
   "outputs": [
    {
     "name": "stdout",
     "output_type": "stream",
     "text": [
      "{'a': 1, 'p': 2, 'l': 1, 'e': 1}\n"
     ]
    }
   ],
   "source": [
    "print(d)"
   ]
  },
  {
   "cell_type": "code",
   "execution_count": 5,
   "id": "f19326b3",
   "metadata": {},
   "outputs": [
    {
     "name": "stdout",
     "output_type": "stream",
     "text": [
      "sujanacharyaindia\n",
      "{'s': 1, 'u': 1, 'j': 1, 'a': 5, 'n': 2, 'c': 1, 'h': 1, 'r': 1, 'y': 1, 'i': 2, 'd': 1}\n"
     ]
    }
   ],
   "source": [
    "d={}\n",
    "v=input()\n",
    "for i in v:\n",
    "    if i in d.keys():\n",
    "        d[i]+=1\n",
    "    else:\n",
    "        d[i]=1\n",
    "    \n",
    "print(d)        "
   ]
  },
  {
   "cell_type": "code",
   "execution_count": 6,
   "id": "cdab200c",
   "metadata": {},
   "outputs": [],
   "source": [
    "\n",
    "d[i] = v.count(i)"
   ]
  },
  {
   "cell_type": "markdown",
   "id": "3ab9e980",
   "metadata": {},
   "source": [
    "### `Python Set Operations`:"
   ]
  },
  {
   "cell_type": "code",
   "execution_count": null,
   "id": "9371bdfd",
   "metadata": {},
   "outputs": [],
   "source": [
    "Union\n",
    "intersection\n",
    "difference\n",
    "symmetric difference\n",
    "check if subset()\n",
    "check if superset()"
   ]
  },
  {
   "cell_type": "code",
   "execution_count": 11,
   "id": "d14715bb",
   "metadata": {},
   "outputs": [
    {
     "name": "stdout",
     "output_type": "stream",
     "text": [
      "{1, 2, 3, 4, 5, 'Kuladeep', 'Venkata'}\n",
      "{1, 2, 3, 4, 5, 'Kuladeep', 'Venkata'}\n"
     ]
    }
   ],
   "source": [
    "# union\n",
    "A = {1,2,3,4,5}\n",
    "B = {4,5,\"Venkata\",\"Kuladeep\"}\n",
    "C= A|B\n",
    "print(C)\n",
    "#another way\n",
    "print(A.union(B))"
   ]
  },
  {
   "cell_type": "code",
   "execution_count": 12,
   "id": "23620cb4",
   "metadata": {},
   "outputs": [
    {
     "name": "stdout",
     "output_type": "stream",
     "text": [
      "{4, 5}\n",
      "{4, 5}\n"
     ]
    }
   ],
   "source": [
    "#intersection\n",
    "D=A&B\n",
    "print(D)\n",
    "#another way\n",
    "print(A.intersection(B))"
   ]
  },
  {
   "cell_type": "code",
   "execution_count": 14,
   "id": "c637f41a",
   "metadata": {},
   "outputs": [
    {
     "name": "stdout",
     "output_type": "stream",
     "text": [
      "{'Venkata', 'Kuladeep'}\n",
      "{'Venkata', 'Kuladeep'}\n"
     ]
    }
   ],
   "source": [
    "E=B-A\n",
    "print(E)\n",
    "#another way\n",
    "print(B.difference(A))"
   ]
  },
  {
   "cell_type": "code",
   "execution_count": 16,
   "id": "89c3b38d",
   "metadata": {},
   "outputs": [
    {
     "name": "stdout",
     "output_type": "stream",
     "text": [
      "{1, 2, 3, 'Kuladeep', 'Venkata'}\n",
      "{1, 2, 3, 'Kuladeep', 'Venkata'}\n"
     ]
    }
   ],
   "source": [
    "F=A^B\n",
    "print(F)\n",
    "#another way\n",
    "print(A.symmetric_difference(B))"
   ]
  },
  {
   "cell_type": "code",
   "execution_count": 17,
   "id": "24194cab",
   "metadata": {},
   "outputs": [],
   "source": [
    "A = {1,2,3,4,8}\n",
    "B = {2,8}\n",
    "C = {3,8,4}"
   ]
  },
  {
   "cell_type": "code",
   "execution_count": 19,
   "id": "ec22e462",
   "metadata": {},
   "outputs": [
    {
     "name": "stdout",
     "output_type": "stream",
     "text": [
      "True\n"
     ]
    }
   ],
   "source": [
    "print(B.issubset(A))"
   ]
  },
  {
   "cell_type": "code",
   "execution_count": 20,
   "id": "5abe97bb",
   "metadata": {},
   "outputs": [
    {
     "name": "stdout",
     "output_type": "stream",
     "text": [
      "False\n"
     ]
    }
   ],
   "source": [
    "print(C.issubset(B))"
   ]
  },
  {
   "cell_type": "code",
   "execution_count": 21,
   "id": "5cd05695",
   "metadata": {},
   "outputs": [
    {
     "name": "stdout",
     "output_type": "stream",
     "text": [
      "True\n"
     ]
    }
   ],
   "source": [
    "print(A.issuperset(B))"
   ]
  },
  {
   "cell_type": "code",
   "execution_count": 22,
   "id": "73313195",
   "metadata": {},
   "outputs": [
    {
     "name": "stdout",
     "output_type": "stream",
     "text": [
      "True\n"
     ]
    }
   ],
   "source": [
    "print(A.issuperset(C))"
   ]
  },
  {
   "cell_type": "code",
   "execution_count": null,
   "id": "800592c1",
   "metadata": {},
   "outputs": [],
   "source": [
    "Q1) From the below data students = {\"a\",\"b\",\"c\",\"d\",\"e\",\"f\",\"g\",\"h\"} dance = {\"a\",\"b\",\"c\",\"d\"} music = {\"e\",\"f\",\"b\",\"c\"}\n",
    "\n",
    "USE SET to solve: Q) which love both music and dance?"
   ]
  },
  {
   "cell_type": "code",
   "execution_count": 23,
   "id": "26809319",
   "metadata": {},
   "outputs": [],
   "source": [
    "students = {\"a\",\"b\",\"c\",\"d\",\"e\",\"f\",\"g\",\"h\"}\n",
    "dance = {\"a\",\"b\",\"c\",\"d\"}\n",
    "music = {\"e\",\"f\",\"b\",\"c\"}"
   ]
  },
  {
   "cell_type": "code",
   "execution_count": 25,
   "id": "02c03b11",
   "metadata": {},
   "outputs": [
    {
     "name": "stdout",
     "output_type": "stream",
     "text": [
      "{'c', 'b'}\n"
     ]
    }
   ],
   "source": [
    "Both_Music_and_Dance=dance&music\n",
    "print(Both_Music_and_Dance)"
   ]
  },
  {
   "cell_type": "code",
   "execution_count": null,
   "id": "e95a423a",
   "metadata": {},
   "outputs": [],
   "source": [
    "Q1) From the below data students = {\"a\",\"b\",\"c\",\"d\",\"e\",\"f\",\"g\",\"h\"} dance = {\"a\",\"b\",\"c\",\"d\"} music = {\"e\",\"f\",\"b\",\"c\"}\n",
    "\n",
    "USE SET to solve: Q) which love both music and dance?\n",
    "\n",
    "Q2) Find the max appearing char by using sets. s = \"arrcaaaaccffffqqqqqqqqqqqqqqqqqqqqq\"\n",
    "\n",
    "Pseudocode: 1.)Make a copy of unique elements from the string. 2.)Iterate over those and count the occurence in the string."
   ]
  },
  {
   "cell_type": "code",
   "execution_count": null,
   "id": "3a2b4d5f",
   "metadata": {},
   "outputs": [],
   "source": []
  },
  {
   "cell_type": "code",
   "execution_count": null,
   "id": "b331867f",
   "metadata": {},
   "outputs": [],
   "source": []
  },
  {
   "cell_type": "code",
   "execution_count": null,
   "id": "7e26596e",
   "metadata": {},
   "outputs": [],
   "source": []
  },
  {
   "cell_type": "code",
   "execution_count": null,
   "id": "f64634c2",
   "metadata": {},
   "outputs": [],
   "source": []
  }
 ],
 "metadata": {
  "kernelspec": {
   "display_name": "Python 3 (ipykernel)",
   "language": "python",
   "name": "python3"
  },
  "language_info": {
   "codemirror_mode": {
    "name": "ipython",
    "version": 3
   },
   "file_extension": ".py",
   "mimetype": "text/x-python",
   "name": "python",
   "nbconvert_exporter": "python",
   "pygments_lexer": "ipython3",
   "version": "3.10.2"
  }
 },
 "nbformat": 4,
 "nbformat_minor": 5
}
