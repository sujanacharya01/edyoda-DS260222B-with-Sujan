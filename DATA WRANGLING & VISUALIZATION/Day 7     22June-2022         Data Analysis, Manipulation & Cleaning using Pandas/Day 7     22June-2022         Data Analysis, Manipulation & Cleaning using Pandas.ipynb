{
 "cells": [
  {
   "cell_type": "code",
   "execution_count": 3,
   "id": "c7b36bb8",
   "metadata": {},
   "outputs": [],
   "source": [
    "import numpy as np\n",
    "import seaborn as sns  # vsualization\n",
    "import matplotlib.pyplot as plt # vsualization\n",
    "import pandas as pd"
   ]
  },
  {
   "cell_type": "code",
   "execution_count": 10,
   "id": "fa7cf19b",
   "metadata": {},
   "outputs": [
    {
     "data": {
      "text/html": [
       "<div>\n",
       "<style scoped>\n",
       "    .dataframe tbody tr th:only-of-type {\n",
       "        vertical-align: middle;\n",
       "    }\n",
       "\n",
       "    .dataframe tbody tr th {\n",
       "        vertical-align: top;\n",
       "    }\n",
       "\n",
       "    .dataframe thead th {\n",
       "        text-align: right;\n",
       "    }\n",
       "</style>\n",
       "<table border=\"1\" class=\"dataframe\">\n",
       "  <thead>\n",
       "    <tr style=\"text-align: right;\">\n",
       "      <th></th>\n",
       "      <th>Unnamed: 0</th>\n",
       "      <th>S.No.</th>\n",
       "      <th>Emp_name</th>\n",
       "      <th>Emp_id</th>\n",
       "      <th>Production</th>\n",
       "      <th>Productive Hours</th>\n",
       "      <th>Productivity</th>\n",
       "      <th>name2</th>\n",
       "      <th>Age</th>\n",
       "      <th>Sex</th>\n",
       "    </tr>\n",
       "  </thead>\n",
       "  <tbody>\n",
       "    <tr>\n",
       "      <th>0</th>\n",
       "      <td>1</td>\n",
       "      <td>1</td>\n",
       "      <td>Vikas Sharma</td>\n",
       "      <td>815864</td>\n",
       "      <td>48</td>\n",
       "      <td>8.0</td>\n",
       "      <td>48</td>\n",
       "      <td>sujan_acharya</td>\n",
       "      <td>25</td>\n",
       "      <td>m</td>\n",
       "    </tr>\n",
       "    <tr>\n",
       "      <th>1</th>\n",
       "      <td>2</td>\n",
       "      <td>2</td>\n",
       "      <td>Sachin</td>\n",
       "      <td>815426</td>\n",
       "      <td>58</td>\n",
       "      <td>6.0</td>\n",
       "      <td>77</td>\n",
       "      <td>nagendra_naik</td>\n",
       "      <td>3</td>\n",
       "      <td>f</td>\n",
       "    </tr>\n",
       "    <tr>\n",
       "      <th>2</th>\n",
       "      <td>3</td>\n",
       "      <td>3</td>\n",
       "      <td>Rohit</td>\n",
       "      <td>812457</td>\n",
       "      <td>12</td>\n",
       "      <td>4.0</td>\n",
       "      <td>24</td>\n",
       "      <td>shivu_naik</td>\n",
       "      <td>25</td>\n",
       "      <td>m</td>\n",
       "    </tr>\n",
       "    <tr>\n",
       "      <th>3</th>\n",
       "      <td>4</td>\n",
       "      <td>4</td>\n",
       "      <td>Broad</td>\n",
       "      <td>821543</td>\n",
       "      <td>40</td>\n",
       "      <td>7.0</td>\n",
       "      <td>46</td>\n",
       "      <td>kiran_prabhu</td>\n",
       "      <td>6</td>\n",
       "      <td>m</td>\n",
       "    </tr>\n",
       "    <tr>\n",
       "      <th>4</th>\n",
       "      <td>5</td>\n",
       "      <td>5</td>\n",
       "      <td>Gilchrist</td>\n",
       "      <td>821546</td>\n",
       "      <td>54</td>\n",
       "      <td>8.0</td>\n",
       "      <td>54</td>\n",
       "      <td>bushhan_serughar</td>\n",
       "      <td>25</td>\n",
       "      <td>f</td>\n",
       "    </tr>\n",
       "  </tbody>\n",
       "</table>\n",
       "</div>"
      ],
      "text/plain": [
       "   Unnamed: 0  S.No.      Emp_name  Emp_id  Production  Productive Hours  \\\n",
       "0           1      1  Vikas Sharma  815864          48               8.0   \n",
       "1           2      2        Sachin  815426          58               6.0   \n",
       "2           3      3         Rohit  812457          12               4.0   \n",
       "3           4      4         Broad  821543          40               7.0   \n",
       "4           5      5     Gilchrist  821546          54               8.0   \n",
       "\n",
       "   Productivity             name2  Age Sex  \n",
       "0            48     sujan_acharya   25   m  \n",
       "1            77     nagendra_naik    3   f  \n",
       "2            24        shivu_naik   25   m  \n",
       "3            46      kiran_prabhu    6   m  \n",
       "4            54  bushhan_serughar   25   f  "
      ]
     },
     "execution_count": 10,
     "metadata": {},
     "output_type": "execute_result"
    }
   ],
   "source": [
    "df = pd.read_excel(r\"C:\\Users\\91897\\Desktop\\pandas.xlsx\")\n",
    "df.head() # y defaultly it will tell us first 5 records."
   ]
  },
  {
   "cell_type": "code",
   "execution_count": 6,
   "id": "541bde54",
   "metadata": {},
   "outputs": [
    {
     "data": {
      "text/html": [
       "<div>\n",
       "<style scoped>\n",
       "    .dataframe tbody tr th:only-of-type {\n",
       "        vertical-align: middle;\n",
       "    }\n",
       "\n",
       "    .dataframe tbody tr th {\n",
       "        vertical-align: top;\n",
       "    }\n",
       "\n",
       "    .dataframe thead th {\n",
       "        text-align: right;\n",
       "    }\n",
       "</style>\n",
       "<table border=\"1\" class=\"dataframe\">\n",
       "  <thead>\n",
       "    <tr style=\"text-align: right;\">\n",
       "      <th></th>\n",
       "      <th>Unnamed: 0</th>\n",
       "      <th>S.No.</th>\n",
       "      <th>Emp_name</th>\n",
       "      <th>Emp_id</th>\n",
       "      <th>Production</th>\n",
       "      <th>Productive Hours</th>\n",
       "      <th>Productivity</th>\n",
       "      <th>name2</th>\n",
       "    </tr>\n",
       "  </thead>\n",
       "  <tbody>\n",
       "    <tr>\n",
       "      <th>13</th>\n",
       "      <td>14</td>\n",
       "      <td>14</td>\n",
       "      <td>Naman Ojha</td>\n",
       "      <td>848571</td>\n",
       "      <td>54</td>\n",
       "      <td>3.33</td>\n",
       "      <td>130</td>\n",
       "      <td>tanuja_naik</td>\n",
       "    </tr>\n",
       "    <tr>\n",
       "      <th>14</th>\n",
       "      <td>15</td>\n",
       "      <td>15</td>\n",
       "      <td>Manish Pandey</td>\n",
       "      <td>812542</td>\n",
       "      <td>38</td>\n",
       "      <td>3.00</td>\n",
       "      <td>101</td>\n",
       "      <td>kavya_unknown</td>\n",
       "    </tr>\n",
       "    <tr>\n",
       "      <th>15</th>\n",
       "      <td>16</td>\n",
       "      <td>16</td>\n",
       "      <td>Shikhar Dhawan</td>\n",
       "      <td>812543</td>\n",
       "      <td>56</td>\n",
       "      <td>2.67</td>\n",
       "      <td>168</td>\n",
       "      <td>sneha_rao</td>\n",
       "    </tr>\n",
       "    <tr>\n",
       "      <th>16</th>\n",
       "      <td>17</td>\n",
       "      <td>17</td>\n",
       "      <td>Warner</td>\n",
       "      <td>812542</td>\n",
       "      <td>35</td>\n",
       "      <td>4.00</td>\n",
       "      <td>70</td>\n",
       "      <td>pooja_gowda</td>\n",
       "    </tr>\n",
       "    <tr>\n",
       "      <th>17</th>\n",
       "      <td>18</td>\n",
       "      <td>18</td>\n",
       "      <td>Jacobbs</td>\n",
       "      <td>812546</td>\n",
       "      <td>35</td>\n",
       "      <td>3.67</td>\n",
       "      <td>76</td>\n",
       "      <td>abhi_gowda</td>\n",
       "    </tr>\n",
       "  </tbody>\n",
       "</table>\n",
       "</div>"
      ],
      "text/plain": [
       "    Unnamed: 0  S.No.        Emp_name  Emp_id  Production  Productive Hours  \\\n",
       "13          14     14      Naman Ojha  848571          54              3.33   \n",
       "14          15     15   Manish Pandey  812542          38              3.00   \n",
       "15          16     16  Shikhar Dhawan  812543          56              2.67   \n",
       "16          17     17          Warner  812542          35              4.00   \n",
       "17          18     18         Jacobbs  812546          35              3.67   \n",
       "\n",
       "    Productivity          name2  \n",
       "13           130    tanuja_naik  \n",
       "14           101  kavya_unknown  \n",
       "15           168      sneha_rao  \n",
       "16            70    pooja_gowda  \n",
       "17            76     abhi_gowda  "
      ]
     },
     "execution_count": 6,
     "metadata": {},
     "output_type": "execute_result"
    }
   ],
   "source": [
    "df.tail() # tail fun will tell us last records , by defaulty it will tell us last 5 records."
   ]
  },
  {
   "cell_type": "code",
   "execution_count": 7,
   "id": "50c102ab",
   "metadata": {},
   "outputs": [
    {
     "data": {
      "text/plain": [
       "Index(['Unnamed: 0', 'S.No.', 'Emp_name', 'Emp_id', 'Production',\n",
       "       'Productive Hours', 'Productivity', 'name2'],\n",
       "      dtype='object')"
      ]
     },
     "execution_count": 7,
     "metadata": {},
     "output_type": "execute_result"
    }
   ],
   "source": [
    "df.columns # is for columns name in one row"
   ]
  },
  {
   "cell_type": "code",
   "execution_count": 9,
   "id": "c9006dd7",
   "metadata": {},
   "outputs": [
    {
     "name": "stdout",
     "output_type": "stream",
     "text": [
      "<class 'pandas.core.frame.DataFrame'>\n",
      "RangeIndex: 18 entries, 0 to 17\n",
      "Data columns (total 8 columns):\n",
      " #   Column            Non-Null Count  Dtype  \n",
      "---  ------            --------------  -----  \n",
      " 0   Unnamed: 0        18 non-null     int64  \n",
      " 1   S.No.             18 non-null     int64  \n",
      " 2   Emp_name          18 non-null     object \n",
      " 3   Emp_id            18 non-null     int64  \n",
      " 4   Production        18 non-null     int64  \n",
      " 5   Productive Hours  18 non-null     float64\n",
      " 6   Productivity      18 non-null     int64  \n",
      " 7   name2             18 non-null     object \n",
      "dtypes: float64(1), int64(5), object(2)\n",
      "memory usage: 1.2+ KB\n"
     ]
    }
   ],
   "source": [
    "df.info()"
   ]
  },
  {
   "cell_type": "code",
   "execution_count": 10,
   "id": "7e8cbf1d",
   "metadata": {},
   "outputs": [
    {
     "data": {
      "text/html": [
       "<div>\n",
       "<style scoped>\n",
       "    .dataframe tbody tr th:only-of-type {\n",
       "        vertical-align: middle;\n",
       "    }\n",
       "\n",
       "    .dataframe tbody tr th {\n",
       "        vertical-align: top;\n",
       "    }\n",
       "\n",
       "    .dataframe thead th {\n",
       "        text-align: right;\n",
       "    }\n",
       "</style>\n",
       "<table border=\"1\" class=\"dataframe\">\n",
       "  <thead>\n",
       "    <tr style=\"text-align: right;\">\n",
       "      <th></th>\n",
       "      <th>Unnamed: 0</th>\n",
       "      <th>S.No.</th>\n",
       "      <th>Emp_id</th>\n",
       "      <th>Production</th>\n",
       "      <th>Productive Hours</th>\n",
       "      <th>Productivity</th>\n",
       "    </tr>\n",
       "  </thead>\n",
       "  <tbody>\n",
       "    <tr>\n",
       "      <th>count</th>\n",
       "      <td>18.000000</td>\n",
       "      <td>18.000000</td>\n",
       "      <td>18.000000</td>\n",
       "      <td>18.000000</td>\n",
       "      <td>18.000000</td>\n",
       "      <td>18.000000</td>\n",
       "    </tr>\n",
       "    <tr>\n",
       "      <th>mean</th>\n",
       "      <td>9.500000</td>\n",
       "      <td>9.500000</td>\n",
       "      <td>822008.444444</td>\n",
       "      <td>43.722222</td>\n",
       "      <td>4.880000</td>\n",
       "      <td>78.777778</td>\n",
       "    </tr>\n",
       "    <tr>\n",
       "      <th>std</th>\n",
       "      <td>5.338539</td>\n",
       "      <td>5.338539</td>\n",
       "      <td>15895.419360</td>\n",
       "      <td>11.431667</td>\n",
       "      <td>1.668113</td>\n",
       "      <td>34.396572</td>\n",
       "    </tr>\n",
       "    <tr>\n",
       "      <th>min</th>\n",
       "      <td>1.000000</td>\n",
       "      <td>1.000000</td>\n",
       "      <td>811524.000000</td>\n",
       "      <td>12.000000</td>\n",
       "      <td>2.670000</td>\n",
       "      <td>24.000000</td>\n",
       "    </tr>\n",
       "    <tr>\n",
       "      <th>25%</th>\n",
       "      <td>5.250000</td>\n",
       "      <td>5.250000</td>\n",
       "      <td>812542.250000</td>\n",
       "      <td>38.250000</td>\n",
       "      <td>3.752500</td>\n",
       "      <td>55.750000</td>\n",
       "    </tr>\n",
       "    <tr>\n",
       "      <th>50%</th>\n",
       "      <td>9.500000</td>\n",
       "      <td>9.500000</td>\n",
       "      <td>818609.000000</td>\n",
       "      <td>42.500000</td>\n",
       "      <td>4.165000</td>\n",
       "      <td>75.000000</td>\n",
       "    </tr>\n",
       "    <tr>\n",
       "      <th>75%</th>\n",
       "      <td>13.750000</td>\n",
       "      <td>13.750000</td>\n",
       "      <td>821546.000000</td>\n",
       "      <td>53.250000</td>\n",
       "      <td>5.875000</td>\n",
       "      <td>90.000000</td>\n",
       "    </tr>\n",
       "    <tr>\n",
       "      <th>max</th>\n",
       "      <td>18.000000</td>\n",
       "      <td>18.000000</td>\n",
       "      <td>875412.000000</td>\n",
       "      <td>60.000000</td>\n",
       "      <td>8.000000</td>\n",
       "      <td>168.000000</td>\n",
       "    </tr>\n",
       "  </tbody>\n",
       "</table>\n",
       "</div>"
      ],
      "text/plain": [
       "       Unnamed: 0      S.No.         Emp_id  Production  Productive Hours  \\\n",
       "count   18.000000  18.000000      18.000000   18.000000         18.000000   \n",
       "mean     9.500000   9.500000  822008.444444   43.722222          4.880000   \n",
       "std      5.338539   5.338539   15895.419360   11.431667          1.668113   \n",
       "min      1.000000   1.000000  811524.000000   12.000000          2.670000   \n",
       "25%      5.250000   5.250000  812542.250000   38.250000          3.752500   \n",
       "50%      9.500000   9.500000  818609.000000   42.500000          4.165000   \n",
       "75%     13.750000  13.750000  821546.000000   53.250000          5.875000   \n",
       "max     18.000000  18.000000  875412.000000   60.000000          8.000000   \n",
       "\n",
       "       Productivity  \n",
       "count     18.000000  \n",
       "mean      78.777778  \n",
       "std       34.396572  \n",
       "min       24.000000  \n",
       "25%       55.750000  \n",
       "50%       75.000000  \n",
       "75%       90.000000  \n",
       "max      168.000000  "
      ]
     },
     "execution_count": 10,
     "metadata": {},
     "output_type": "execute_result"
    }
   ],
   "source": [
    "df.describe()"
   ]
  },
  {
   "cell_type": "code",
   "execution_count": 11,
   "id": "d5798223",
   "metadata": {},
   "outputs": [
    {
     "data": {
      "text/plain": [
       "0       Vikas Sharma\n",
       "1             Sachin\n",
       "2              Rohit\n",
       "3              Broad\n",
       "4          Gilchrist\n",
       "5            Symonds\n",
       "6            Pollard\n",
       "7           Mccullum\n",
       "8        Chris Gayle\n",
       "9       Morne MorkHD\n",
       "10      S Shreesanth\n",
       "11         Harbhajan\n",
       "12         R.P Singh\n",
       "13        Naman Ojha\n",
       "14     Manish Pandey\n",
       "15    Shikhar Dhawan\n",
       "16            Warner\n",
       "17           Jacobbs\n",
       "Name: Emp_name, dtype: object"
      ]
     },
     "execution_count": 11,
     "metadata": {},
     "output_type": "execute_result"
    }
   ],
   "source": [
    "df['Emp_name']"
   ]
  },
  {
   "cell_type": "code",
   "execution_count": 14,
   "id": "0d66bd52",
   "metadata": {},
   "outputs": [
    {
     "data": {
      "text/html": [
       "<div>\n",
       "<style scoped>\n",
       "    .dataframe tbody tr th:only-of-type {\n",
       "        vertical-align: middle;\n",
       "    }\n",
       "\n",
       "    .dataframe tbody tr th {\n",
       "        vertical-align: top;\n",
       "    }\n",
       "\n",
       "    .dataframe thead th {\n",
       "        text-align: right;\n",
       "    }\n",
       "</style>\n",
       "<table border=\"1\" class=\"dataframe\">\n",
       "  <thead>\n",
       "    <tr style=\"text-align: right;\">\n",
       "      <th></th>\n",
       "      <th>Emp_name</th>\n",
       "      <th>name2</th>\n",
       "    </tr>\n",
       "  </thead>\n",
       "  <tbody>\n",
       "    <tr>\n",
       "      <th>count</th>\n",
       "      <td>18</td>\n",
       "      <td>18</td>\n",
       "    </tr>\n",
       "    <tr>\n",
       "      <th>unique</th>\n",
       "      <td>18</td>\n",
       "      <td>18</td>\n",
       "    </tr>\n",
       "    <tr>\n",
       "      <th>top</th>\n",
       "      <td>Vikas Sharma</td>\n",
       "      <td>sujan_acharya</td>\n",
       "    </tr>\n",
       "    <tr>\n",
       "      <th>freq</th>\n",
       "      <td>1</td>\n",
       "      <td>1</td>\n",
       "    </tr>\n",
       "  </tbody>\n",
       "</table>\n",
       "</div>"
      ],
      "text/plain": [
       "            Emp_name          name2\n",
       "count             18             18\n",
       "unique            18             18\n",
       "top     Vikas Sharma  sujan_acharya\n",
       "freq               1              1"
      ]
     },
     "execution_count": 14,
     "metadata": {},
     "output_type": "execute_result"
    }
   ],
   "source": [
    "df.describe(include=['O']) # include=['O'] is used to get non numberical data and 'O' should be caps"
   ]
  },
  {
   "cell_type": "code",
   "execution_count": 15,
   "id": "3d31edc6",
   "metadata": {},
   "outputs": [
    {
     "data": {
      "text/plain": [
       "float"
      ]
     },
     "execution_count": 15,
     "metadata": {},
     "output_type": "execute_result"
    }
   ],
   "source": [
    "type(1.2)"
   ]
  },
  {
   "cell_type": "code",
   "execution_count": 16,
   "id": "cac9af47",
   "metadata": {},
   "outputs": [
    {
     "data": {
      "text/plain": [
       "bool"
      ]
     },
     "execution_count": 16,
     "metadata": {},
     "output_type": "execute_result"
    }
   ],
   "source": [
    "type(True)"
   ]
  },
  {
   "cell_type": "code",
   "execution_count": 19,
   "id": "916e1bfd",
   "metadata": {},
   "outputs": [
    {
     "data": {
      "text/html": [
       "<div>\n",
       "<style scoped>\n",
       "    .dataframe tbody tr th:only-of-type {\n",
       "        vertical-align: middle;\n",
       "    }\n",
       "\n",
       "    .dataframe tbody tr th {\n",
       "        vertical-align: top;\n",
       "    }\n",
       "\n",
       "    .dataframe thead th {\n",
       "        text-align: right;\n",
       "    }\n",
       "</style>\n",
       "<table border=\"1\" class=\"dataframe\">\n",
       "  <thead>\n",
       "    <tr style=\"text-align: right;\">\n",
       "      <th></th>\n",
       "      <th>Emp_name</th>\n",
       "      <th>Production</th>\n",
       "    </tr>\n",
       "  </thead>\n",
       "  <tbody>\n",
       "    <tr>\n",
       "      <th>0</th>\n",
       "      <td>Vikas Sharma</td>\n",
       "      <td>48</td>\n",
       "    </tr>\n",
       "    <tr>\n",
       "      <th>1</th>\n",
       "      <td>Sachin</td>\n",
       "      <td>58</td>\n",
       "    </tr>\n",
       "    <tr>\n",
       "      <th>2</th>\n",
       "      <td>Rohit</td>\n",
       "      <td>12</td>\n",
       "    </tr>\n",
       "    <tr>\n",
       "      <th>3</th>\n",
       "      <td>Broad</td>\n",
       "      <td>40</td>\n",
       "    </tr>\n",
       "    <tr>\n",
       "      <th>4</th>\n",
       "      <td>Gilchrist</td>\n",
       "      <td>54</td>\n",
       "    </tr>\n",
       "    <tr>\n",
       "      <th>5</th>\n",
       "      <td>Symonds</td>\n",
       "      <td>41</td>\n",
       "    </tr>\n",
       "    <tr>\n",
       "      <th>6</th>\n",
       "      <td>Pollard</td>\n",
       "      <td>42</td>\n",
       "    </tr>\n",
       "    <tr>\n",
       "      <th>7</th>\n",
       "      <td>Mccullum</td>\n",
       "      <td>60</td>\n",
       "    </tr>\n",
       "    <tr>\n",
       "      <th>8</th>\n",
       "      <td>Chris Gayle</td>\n",
       "      <td>46</td>\n",
       "    </tr>\n",
       "    <tr>\n",
       "      <th>9</th>\n",
       "      <td>Morne MorkHD</td>\n",
       "      <td>43</td>\n",
       "    </tr>\n",
       "    <tr>\n",
       "      <th>10</th>\n",
       "      <td>S Shreesanth</td>\n",
       "      <td>51</td>\n",
       "    </tr>\n",
       "    <tr>\n",
       "      <th>11</th>\n",
       "      <td>Harbhajan</td>\n",
       "      <td>39</td>\n",
       "    </tr>\n",
       "    <tr>\n",
       "      <th>12</th>\n",
       "      <td>R.P Singh</td>\n",
       "      <td>35</td>\n",
       "    </tr>\n",
       "    <tr>\n",
       "      <th>13</th>\n",
       "      <td>Naman Ojha</td>\n",
       "      <td>54</td>\n",
       "    </tr>\n",
       "    <tr>\n",
       "      <th>14</th>\n",
       "      <td>Manish Pandey</td>\n",
       "      <td>38</td>\n",
       "    </tr>\n",
       "    <tr>\n",
       "      <th>15</th>\n",
       "      <td>Shikhar Dhawan</td>\n",
       "      <td>56</td>\n",
       "    </tr>\n",
       "    <tr>\n",
       "      <th>16</th>\n",
       "      <td>Warner</td>\n",
       "      <td>35</td>\n",
       "    </tr>\n",
       "    <tr>\n",
       "      <th>17</th>\n",
       "      <td>Jacobbs</td>\n",
       "      <td>35</td>\n",
       "    </tr>\n",
       "  </tbody>\n",
       "</table>\n",
       "</div>"
      ],
      "text/plain": [
       "          Emp_name  Production\n",
       "0     Vikas Sharma          48\n",
       "1           Sachin          58\n",
       "2            Rohit          12\n",
       "3            Broad          40\n",
       "4        Gilchrist          54\n",
       "5          Symonds          41\n",
       "6          Pollard          42\n",
       "7         Mccullum          60\n",
       "8      Chris Gayle          46\n",
       "9     Morne MorkHD          43\n",
       "10    S Shreesanth          51\n",
       "11       Harbhajan          39\n",
       "12       R.P Singh          35\n",
       "13      Naman Ojha          54\n",
       "14   Manish Pandey          38\n",
       "15  Shikhar Dhawan          56\n",
       "16          Warner          35\n",
       "17         Jacobbs          35"
      ]
     },
     "execution_count": 19,
     "metadata": {},
     "output_type": "execute_result"
    }
   ],
   "source": [
    "df[['Emp_name','Production']] # for multiple column we should mention 2[]"
   ]
  },
  {
   "cell_type": "code",
   "execution_count": 20,
   "id": "2a07b9fb",
   "metadata": {},
   "outputs": [
    {
     "data": {
      "text/html": [
       "<div>\n",
       "<style scoped>\n",
       "    .dataframe tbody tr th:only-of-type {\n",
       "        vertical-align: middle;\n",
       "    }\n",
       "\n",
       "    .dataframe tbody tr th {\n",
       "        vertical-align: top;\n",
       "    }\n",
       "\n",
       "    .dataframe thead th {\n",
       "        text-align: right;\n",
       "    }\n",
       "</style>\n",
       "<table border=\"1\" class=\"dataframe\">\n",
       "  <thead>\n",
       "    <tr style=\"text-align: right;\">\n",
       "      <th></th>\n",
       "      <th>Production</th>\n",
       "    </tr>\n",
       "    <tr>\n",
       "      <th>Emp_name</th>\n",
       "      <th></th>\n",
       "    </tr>\n",
       "  </thead>\n",
       "  <tbody>\n",
       "    <tr>\n",
       "      <th>Broad</th>\n",
       "      <td>40.0</td>\n",
       "    </tr>\n",
       "    <tr>\n",
       "      <th>Chris Gayle</th>\n",
       "      <td>46.0</td>\n",
       "    </tr>\n",
       "    <tr>\n",
       "      <th>Gilchrist</th>\n",
       "      <td>54.0</td>\n",
       "    </tr>\n",
       "    <tr>\n",
       "      <th>Harbhajan</th>\n",
       "      <td>39.0</td>\n",
       "    </tr>\n",
       "    <tr>\n",
       "      <th>Jacobbs</th>\n",
       "      <td>35.0</td>\n",
       "    </tr>\n",
       "    <tr>\n",
       "      <th>Manish Pandey</th>\n",
       "      <td>38.0</td>\n",
       "    </tr>\n",
       "    <tr>\n",
       "      <th>Mccullum</th>\n",
       "      <td>60.0</td>\n",
       "    </tr>\n",
       "    <tr>\n",
       "      <th>Morne MorkHD</th>\n",
       "      <td>43.0</td>\n",
       "    </tr>\n",
       "    <tr>\n",
       "      <th>Naman Ojha</th>\n",
       "      <td>54.0</td>\n",
       "    </tr>\n",
       "    <tr>\n",
       "      <th>Pollard</th>\n",
       "      <td>42.0</td>\n",
       "    </tr>\n",
       "    <tr>\n",
       "      <th>R.P Singh</th>\n",
       "      <td>35.0</td>\n",
       "    </tr>\n",
       "    <tr>\n",
       "      <th>Rohit</th>\n",
       "      <td>12.0</td>\n",
       "    </tr>\n",
       "    <tr>\n",
       "      <th>S Shreesanth</th>\n",
       "      <td>51.0</td>\n",
       "    </tr>\n",
       "    <tr>\n",
       "      <th>Sachin</th>\n",
       "      <td>58.0</td>\n",
       "    </tr>\n",
       "    <tr>\n",
       "      <th>Shikhar Dhawan</th>\n",
       "      <td>56.0</td>\n",
       "    </tr>\n",
       "    <tr>\n",
       "      <th>Symonds</th>\n",
       "      <td>41.0</td>\n",
       "    </tr>\n",
       "    <tr>\n",
       "      <th>Vikas Sharma</th>\n",
       "      <td>48.0</td>\n",
       "    </tr>\n",
       "    <tr>\n",
       "      <th>Warner</th>\n",
       "      <td>35.0</td>\n",
       "    </tr>\n",
       "  </tbody>\n",
       "</table>\n",
       "</div>"
      ],
      "text/plain": [
       "                Production\n",
       "Emp_name                  \n",
       "Broad                 40.0\n",
       "Chris Gayle           46.0\n",
       "Gilchrist             54.0\n",
       "Harbhajan             39.0\n",
       "Jacobbs               35.0\n",
       "Manish Pandey         38.0\n",
       "Mccullum              60.0\n",
       "Morne MorkHD          43.0\n",
       "Naman Ojha            54.0\n",
       "Pollard               42.0\n",
       "R.P Singh             35.0\n",
       "Rohit                 12.0\n",
       "S Shreesanth          51.0\n",
       "Sachin                58.0\n",
       "Shikhar Dhawan        56.0\n",
       "Symonds               41.0\n",
       "Vikas Sharma          48.0\n",
       "Warner                35.0"
      ]
     },
     "execution_count": 20,
     "metadata": {},
     "output_type": "execute_result"
    }
   ],
   "source": [
    "df[['Emp_name','Production']].groupby(['Emp_name']).mean()  # it is like a pivot table , we do like pivot table in groupby\n",
    "                                                            # groupby for grouping value"
   ]
  },
  {
   "cell_type": "code",
   "execution_count": 23,
   "id": "cb3aa69a",
   "metadata": {},
   "outputs": [
    {
     "data": {
      "text/plain": [
       "0    1\n",
       "Name: S.No., dtype: int64"
      ]
     },
     "execution_count": 23,
     "metadata": {},
     "output_type": "execute_result"
    }
   ],
   "source": [
    "df[df['S.No.']==1]['S.No.'] "
   ]
  },
  {
   "cell_type": "code",
   "execution_count": 26,
   "id": "31b6bf8e",
   "metadata": {},
   "outputs": [
    {
     "data": {
      "text/plain": [
       "12    35\n",
       "16    35\n",
       "17    35\n",
       "Name: Production, dtype: int64"
      ]
     },
     "execution_count": 26,
     "metadata": {},
     "output_type": "execute_result"
    }
   ],
   "source": [
    "df[df['Production']==35]['Production'] # here we will get to know how many row has 35 value, it's like filter"
   ]
  },
  {
   "cell_type": "code",
   "execution_count": 27,
   "id": "5dbe93fc",
   "metadata": {},
   "outputs": [
    {
     "data": {
      "text/html": [
       "<div>\n",
       "<style scoped>\n",
       "    .dataframe tbody tr th:only-of-type {\n",
       "        vertical-align: middle;\n",
       "    }\n",
       "\n",
       "    .dataframe tbody tr th {\n",
       "        vertical-align: top;\n",
       "    }\n",
       "\n",
       "    .dataframe thead th {\n",
       "        text-align: right;\n",
       "    }\n",
       "</style>\n",
       "<table border=\"1\" class=\"dataframe\">\n",
       "  <thead>\n",
       "    <tr style=\"text-align: right;\">\n",
       "      <th></th>\n",
       "      <th>Unnamed: 0</th>\n",
       "      <th>S.No.</th>\n",
       "      <th>Emp_name</th>\n",
       "      <th>Emp_id</th>\n",
       "      <th>Production</th>\n",
       "      <th>Productive Hours</th>\n",
       "      <th>Productivity</th>\n",
       "      <th>name2</th>\n",
       "    </tr>\n",
       "  </thead>\n",
       "  <tbody>\n",
       "    <tr>\n",
       "      <th>12</th>\n",
       "      <td>13</td>\n",
       "      <td>13</td>\n",
       "      <td>R.P Singh</td>\n",
       "      <td>812542</td>\n",
       "      <td>35</td>\n",
       "      <td>3.67</td>\n",
       "      <td>76</td>\n",
       "      <td>sudeep_jain</td>\n",
       "    </tr>\n",
       "    <tr>\n",
       "      <th>16</th>\n",
       "      <td>17</td>\n",
       "      <td>17</td>\n",
       "      <td>Warner</td>\n",
       "      <td>812542</td>\n",
       "      <td>35</td>\n",
       "      <td>4.00</td>\n",
       "      <td>70</td>\n",
       "      <td>pooja_gowda</td>\n",
       "    </tr>\n",
       "    <tr>\n",
       "      <th>17</th>\n",
       "      <td>18</td>\n",
       "      <td>18</td>\n",
       "      <td>Jacobbs</td>\n",
       "      <td>812546</td>\n",
       "      <td>35</td>\n",
       "      <td>3.67</td>\n",
       "      <td>76</td>\n",
       "      <td>abhi_gowda</td>\n",
       "    </tr>\n",
       "  </tbody>\n",
       "</table>\n",
       "</div>"
      ],
      "text/plain": [
       "    Unnamed: 0  S.No.   Emp_name  Emp_id  Production  Productive Hours  \\\n",
       "12          13     13  R.P Singh  812542          35              3.67   \n",
       "16          17     17     Warner  812542          35              4.00   \n",
       "17          18     18    Jacobbs  812546          35              3.67   \n",
       "\n",
       "    Productivity        name2  \n",
       "12            76  sudeep_jain  \n",
       "16            70  pooja_gowda  \n",
       "17            76   abhi_gowda  "
      ]
     },
     "execution_count": 27,
     "metadata": {},
     "output_type": "execute_result"
    }
   ],
   "source": [
    "df[df['Production']==35] # filtering"
   ]
  },
  {
   "cell_type": "code",
   "execution_count": 28,
   "id": "d478a617",
   "metadata": {},
   "outputs": [
    {
     "data": {
      "text/plain": [
       "0     False\n",
       "1     False\n",
       "2     False\n",
       "3     False\n",
       "4     False\n",
       "5     False\n",
       "6     False\n",
       "7     False\n",
       "8     False\n",
       "9     False\n",
       "10    False\n",
       "11    False\n",
       "12     True\n",
       "13    False\n",
       "14    False\n",
       "15    False\n",
       "16     True\n",
       "17     True\n",
       "Name: Production, dtype: bool"
      ]
     },
     "execution_count": 28,
     "metadata": {},
     "output_type": "execute_result"
    }
   ],
   "source": [
    "df['Production']==35 # if use this one it won't print value it will print True or False"
   ]
  },
  {
   "cell_type": "code",
   "execution_count": 29,
   "id": "d7a35a54",
   "metadata": {},
   "outputs": [
    {
     "data": {
      "text/html": [
       "<div>\n",
       "<style scoped>\n",
       "    .dataframe tbody tr th:only-of-type {\n",
       "        vertical-align: middle;\n",
       "    }\n",
       "\n",
       "    .dataframe tbody tr th {\n",
       "        vertical-align: top;\n",
       "    }\n",
       "\n",
       "    .dataframe thead th {\n",
       "        text-align: right;\n",
       "    }\n",
       "</style>\n",
       "<table border=\"1\" class=\"dataframe\">\n",
       "  <thead>\n",
       "    <tr style=\"text-align: right;\">\n",
       "      <th></th>\n",
       "      <th>Unnamed: 0</th>\n",
       "      <th>S.No.</th>\n",
       "      <th>Emp_name</th>\n",
       "      <th>Emp_id</th>\n",
       "      <th>Production</th>\n",
       "      <th>Productive Hours</th>\n",
       "      <th>Productivity</th>\n",
       "      <th>name2</th>\n",
       "    </tr>\n",
       "  </thead>\n",
       "  <tbody>\n",
       "    <tr>\n",
       "      <th>12</th>\n",
       "      <td>13</td>\n",
       "      <td>13</td>\n",
       "      <td>R.P Singh</td>\n",
       "      <td>812542</td>\n",
       "      <td>35</td>\n",
       "      <td>3.67</td>\n",
       "      <td>76</td>\n",
       "      <td>sudeep_jain</td>\n",
       "    </tr>\n",
       "    <tr>\n",
       "      <th>16</th>\n",
       "      <td>17</td>\n",
       "      <td>17</td>\n",
       "      <td>Warner</td>\n",
       "      <td>812542</td>\n",
       "      <td>35</td>\n",
       "      <td>4.00</td>\n",
       "      <td>70</td>\n",
       "      <td>pooja_gowda</td>\n",
       "    </tr>\n",
       "    <tr>\n",
       "      <th>17</th>\n",
       "      <td>18</td>\n",
       "      <td>18</td>\n",
       "      <td>Jacobbs</td>\n",
       "      <td>812546</td>\n",
       "      <td>35</td>\n",
       "      <td>3.67</td>\n",
       "      <td>76</td>\n",
       "      <td>abhi_gowda</td>\n",
       "    </tr>\n",
       "  </tbody>\n",
       "</table>\n",
       "</div>"
      ],
      "text/plain": [
       "    Unnamed: 0  S.No.   Emp_name  Emp_id  Production  Productive Hours  \\\n",
       "12          13     13  R.P Singh  812542          35              3.67   \n",
       "16          17     17     Warner  812542          35              4.00   \n",
       "17          18     18    Jacobbs  812546          35              3.67   \n",
       "\n",
       "    Productivity        name2  \n",
       "12            76  sudeep_jain  \n",
       "16            70  pooja_gowda  \n",
       "17            76   abhi_gowda  "
      ]
     },
     "execution_count": 29,
     "metadata": {},
     "output_type": "execute_result"
    }
   ],
   "source": [
    "df[df['Production']==35] # here i have print one more df[] to print value"
   ]
  },
  {
   "cell_type": "code",
   "execution_count": 30,
   "id": "a4b7671d",
   "metadata": {},
   "outputs": [
    {
     "data": {
      "text/plain": [
       "35    3\n",
       "54    2\n",
       "48    1\n",
       "58    1\n",
       "12    1\n",
       "40    1\n",
       "41    1\n",
       "42    1\n",
       "60    1\n",
       "46    1\n",
       "43    1\n",
       "51    1\n",
       "39    1\n",
       "38    1\n",
       "56    1\n",
       "Name: Production, dtype: int64"
      ]
     },
     "execution_count": 30,
     "metadata": {},
     "output_type": "execute_result"
    }
   ],
   "source": [
    "df['Production'].value_counts() # to count same value how many times repeated."
   ]
  },
  {
   "cell_type": "code",
   "execution_count": 32,
   "id": "4311b7d3",
   "metadata": {},
   "outputs": [
    {
     "ename": "TypeError",
     "evalue": "no numeric data to plot",
     "output_type": "error",
     "traceback": [
      "\u001b[1;31m---------------------------------------------------------------------------\u001b[0m",
      "\u001b[1;31mTypeError\u001b[0m                                 Traceback (most recent call last)",
      "Input \u001b[1;32mIn [32]\u001b[0m, in \u001b[0;36m<cell line: 1>\u001b[1;34m()\u001b[0m\n\u001b[1;32m----> 1\u001b[0m \u001b[43mdf\u001b[49m\u001b[43m[\u001b[49m\u001b[38;5;124;43m'\u001b[39;49m\u001b[38;5;124;43mEmp_name\u001b[39;49m\u001b[38;5;124;43m'\u001b[39;49m\u001b[43m]\u001b[49m\u001b[38;5;241;43m.\u001b[39;49m\u001b[43mplot\u001b[49m\u001b[43m(\u001b[49m\u001b[43m)\u001b[49m\n",
      "File \u001b[1;32mD:\\Data Science\\edyodha packages\\lib\\site-packages\\pandas\\plotting\\_core.py:972\u001b[0m, in \u001b[0;36mPlotAccessor.__call__\u001b[1;34m(self, *args, **kwargs)\u001b[0m\n\u001b[0;32m    969\u001b[0m             label_name \u001b[38;5;241m=\u001b[39m label_kw \u001b[38;5;129;01mor\u001b[39;00m data\u001b[38;5;241m.\u001b[39mcolumns\n\u001b[0;32m    970\u001b[0m             data\u001b[38;5;241m.\u001b[39mcolumns \u001b[38;5;241m=\u001b[39m label_name\n\u001b[1;32m--> 972\u001b[0m \u001b[38;5;28;01mreturn\u001b[39;00m plot_backend\u001b[38;5;241m.\u001b[39mplot(data, kind\u001b[38;5;241m=\u001b[39mkind, \u001b[38;5;241m*\u001b[39m\u001b[38;5;241m*\u001b[39mkwargs)\n",
      "File \u001b[1;32mD:\\Data Science\\edyodha packages\\lib\\site-packages\\pandas\\plotting\\_matplotlib\\__init__.py:71\u001b[0m, in \u001b[0;36mplot\u001b[1;34m(data, kind, **kwargs)\u001b[0m\n\u001b[0;32m     69\u001b[0m         kwargs[\u001b[38;5;124m\"\u001b[39m\u001b[38;5;124max\u001b[39m\u001b[38;5;124m\"\u001b[39m] \u001b[38;5;241m=\u001b[39m \u001b[38;5;28mgetattr\u001b[39m(ax, \u001b[38;5;124m\"\u001b[39m\u001b[38;5;124mleft_ax\u001b[39m\u001b[38;5;124m\"\u001b[39m, ax)\n\u001b[0;32m     70\u001b[0m plot_obj \u001b[38;5;241m=\u001b[39m PLOT_CLASSES[kind](data, \u001b[38;5;241m*\u001b[39m\u001b[38;5;241m*\u001b[39mkwargs)\n\u001b[1;32m---> 71\u001b[0m \u001b[43mplot_obj\u001b[49m\u001b[38;5;241;43m.\u001b[39;49m\u001b[43mgenerate\u001b[49m\u001b[43m(\u001b[49m\u001b[43m)\u001b[49m\n\u001b[0;32m     72\u001b[0m plot_obj\u001b[38;5;241m.\u001b[39mdraw()\n\u001b[0;32m     73\u001b[0m \u001b[38;5;28;01mreturn\u001b[39;00m plot_obj\u001b[38;5;241m.\u001b[39mresult\n",
      "File \u001b[1;32mD:\\Data Science\\edyodha packages\\lib\\site-packages\\pandas\\plotting\\_matplotlib\\core.py:327\u001b[0m, in \u001b[0;36mMPLPlot.generate\u001b[1;34m(self)\u001b[0m\n\u001b[0;32m    325\u001b[0m \u001b[38;5;28;01mdef\u001b[39;00m \u001b[38;5;21mgenerate\u001b[39m(\u001b[38;5;28mself\u001b[39m):\n\u001b[0;32m    326\u001b[0m     \u001b[38;5;28mself\u001b[39m\u001b[38;5;241m.\u001b[39m_args_adjust()\n\u001b[1;32m--> 327\u001b[0m     \u001b[38;5;28;43mself\u001b[39;49m\u001b[38;5;241;43m.\u001b[39;49m\u001b[43m_compute_plot_data\u001b[49m\u001b[43m(\u001b[49m\u001b[43m)\u001b[49m\n\u001b[0;32m    328\u001b[0m     \u001b[38;5;28mself\u001b[39m\u001b[38;5;241m.\u001b[39m_setup_subplots()\n\u001b[0;32m    329\u001b[0m     \u001b[38;5;28mself\u001b[39m\u001b[38;5;241m.\u001b[39m_make_plot()\n",
      "File \u001b[1;32mD:\\Data Science\\edyodha packages\\lib\\site-packages\\pandas\\plotting\\_matplotlib\\core.py:506\u001b[0m, in \u001b[0;36mMPLPlot._compute_plot_data\u001b[1;34m(self)\u001b[0m\n\u001b[0;32m    504\u001b[0m \u001b[38;5;66;03m# no non-numeric frames or series allowed\u001b[39;00m\n\u001b[0;32m    505\u001b[0m \u001b[38;5;28;01mif\u001b[39;00m is_empty:\n\u001b[1;32m--> 506\u001b[0m     \u001b[38;5;28;01mraise\u001b[39;00m \u001b[38;5;167;01mTypeError\u001b[39;00m(\u001b[38;5;124m\"\u001b[39m\u001b[38;5;124mno numeric data to plot\u001b[39m\u001b[38;5;124m\"\u001b[39m)\n\u001b[0;32m    508\u001b[0m \u001b[38;5;28mself\u001b[39m\u001b[38;5;241m.\u001b[39mdata \u001b[38;5;241m=\u001b[39m numeric_data\u001b[38;5;241m.\u001b[39mapply(\u001b[38;5;28mself\u001b[39m\u001b[38;5;241m.\u001b[39m_convert_to_ndarray)\n",
      "\u001b[1;31mTypeError\u001b[0m: no numeric data to plot"
     ]
    }
   ],
   "source": [
    "df['Emp_name'].plot()  # to visualize data, here we got error because it consider only numeric data."
   ]
  },
  {
   "cell_type": "code",
   "execution_count": 33,
   "id": "a18e317a",
   "metadata": {},
   "outputs": [
    {
     "data": {
      "text/plain": [
       "<AxesSubplot:>"
      ]
     },
     "execution_count": 33,
     "metadata": {},
     "output_type": "execute_result"
    },
    {
     "data": {
      "image/png": "[encoded data removed]",
      "text/plain": [
       "<Figure size 432x288 with 1 Axes>"
      ]
     },
     "metadata": {
      "needs_background": "light"
     },
     "output_type": "display_data"
    }
   ],
   "source": [
    "df['Production'].plot()  # to visualize data"
   ]
  },
  {
   "cell_type": "code",
   "execution_count": 34,
   "id": "7fda80d7",
   "metadata": {},
   "outputs": [
    {
     "name": "stderr",
     "output_type": "stream",
     "text": [
      "D:\\Data Science\\edyodha packages\\lib\\site-packages\\seaborn\\categorical.py:3717: UserWarning: The `factorplot` function has been renamed to `catplot`. The original name will be removed in a future release. Please update your code. Note that the default `kind` in `factorplot` (`'point'`) has changed `'strip'` in `catplot`.\n",
      "  warnings.warn(msg)\n",
      "D:\\Data Science\\edyodha packages\\lib\\site-packages\\seaborn\\_decorators.py:36: FutureWarning: Pass the following variable as a keyword arg: x. From version 0.12, the only valid positional argument will be `data`, and passing other arguments without an explicit keyword will result in an error or misinterpretation.\n",
      "  warnings.warn(\n"
     ]
    },
    {
     "data": {
      "text/plain": [
       "<seaborn.axisgrid.FacetGrid at 0x160faa62e30>"
      ]
     },
     "execution_count": 34,
     "metadata": {},
     "output_type": "execute_result"
    },
    {
     "data": {
      "image/png": "[encoded data removed]",
      "text/plain": [
       "<Figure size 360x360 with 1 Axes>"
      ]
     },
     "metadata": {
      "needs_background": "light"
     },
     "output_type": "display_data"
    }
   ],
   "source": [
    "sns.factorplot('Production', data=df,kind='count')"
   ]
  },
  {
   "cell_type": "code",
   "execution_count": 37,
   "id": "cd7272c1",
   "metadata": {},
   "outputs": [
    {
     "name": "stderr",
     "output_type": "stream",
     "text": [
      "D:\\Data Science\\edyodha packages\\lib\\site-packages\\seaborn\\_decorators.py:36: FutureWarning: Pass the following variable as a keyword arg: x. From version 0.12, the only valid positional argument will be `data`, and passing other arguments without an explicit keyword will result in an error or misinterpretation.\n",
      "  warnings.warn(\n"
     ]
    },
    {
     "data": {
      "text/plain": [
       "<seaborn.axisgrid.FacetGrid at 0x160fe5d14e0>"
      ]
     },
     "execution_count": 37,
     "metadata": {},
     "output_type": "execute_result"
    },
    {
     "data": {
      "image/png": "[encoded data removed]",
      "text/plain": [
       "<Figure size 360x360 with 1 Axes>"
      ]
     },
     "metadata": {
      "needs_background": "light"
     },
     "output_type": "display_data"
    }
   ],
   "source": [
    "sns.catplot('Production', data=df,kind='count')"
   ]
  },
  {
   "cell_type": "code",
   "execution_count": 41,
   "id": "24c41c4f",
   "metadata": {},
   "outputs": [
    {
     "ename": "ValueError",
     "evalue": "Could not interpret input '\tEmp_name\t'",
     "output_type": "error",
     "traceback": [
      "\u001b[1;31m---------------------------------------------------------------------------\u001b[0m",
      "\u001b[1;31mValueError\u001b[0m                                Traceback (most recent call last)",
      "Input \u001b[1;32mIn [41]\u001b[0m, in \u001b[0;36m<cell line: 1>\u001b[1;34m()\u001b[0m\n\u001b[1;32m----> 1\u001b[0m \u001b[43msns\u001b[49m\u001b[38;5;241;43m.\u001b[39;49m\u001b[43mfactorplot\u001b[49m\u001b[43m(\u001b[49m\u001b[38;5;124;43m'\u001b[39;49m\u001b[38;5;124;43mProduction\u001b[39;49m\u001b[38;5;124;43m'\u001b[39;49m\u001b[43m,\u001b[49m\u001b[43m \u001b[49m\u001b[43mdata\u001b[49m\u001b[38;5;241;43m=\u001b[39;49m\u001b[43mdf\u001b[49m\u001b[43m,\u001b[49m\u001b[43mkind\u001b[49m\u001b[38;5;241;43m=\u001b[39;49m\u001b[38;5;124;43m'\u001b[39;49m\u001b[38;5;124;43mcount\u001b[39;49m\u001b[38;5;124;43m'\u001b[39;49m\u001b[43m,\u001b[49m\u001b[43mhue\u001b[49m\u001b[38;5;241;43m=\u001b[39;49m\u001b[38;5;124;43m'\u001b[39;49m\u001b[38;5;124;43m\tEmp_name\t\u001b[39;49m\u001b[38;5;124;43m'\u001b[39;49m\u001b[43m)\u001b[49m\n",
      "File \u001b[1;32mD:\\Data Science\\edyodha packages\\lib\\site-packages\\seaborn\\categorical.py:3727\u001b[0m, in \u001b[0;36mfactorplot\u001b[1;34m(*args, **kwargs)\u001b[0m\n\u001b[0;32m   3723\u001b[0m     warnings\u001b[38;5;241m.\u001b[39mwarn(msg, \u001b[38;5;167;01mUserWarning\u001b[39;00m)\n\u001b[0;32m   3725\u001b[0m kwargs\u001b[38;5;241m.\u001b[39msetdefault(\u001b[38;5;124m\"\u001b[39m\u001b[38;5;124mkind\u001b[39m\u001b[38;5;124m\"\u001b[39m, \u001b[38;5;124m\"\u001b[39m\u001b[38;5;124mpoint\u001b[39m\u001b[38;5;124m\"\u001b[39m)\n\u001b[1;32m-> 3727\u001b[0m \u001b[38;5;28;01mreturn\u001b[39;00m catplot(\u001b[38;5;241m*\u001b[39margs, \u001b[38;5;241m*\u001b[39m\u001b[38;5;241m*\u001b[39mkwargs)\n",
      "File \u001b[1;32mD:\\Data Science\\edyodha packages\\lib\\site-packages\\seaborn\\_decorators.py:46\u001b[0m, in \u001b[0;36m_deprecate_positional_args.<locals>.inner_f\u001b[1;34m(*args, **kwargs)\u001b[0m\n\u001b[0;32m     36\u001b[0m     warnings\u001b[38;5;241m.\u001b[39mwarn(\n\u001b[0;32m     37\u001b[0m         \u001b[38;5;124m\"\u001b[39m\u001b[38;5;124mPass the following variable\u001b[39m\u001b[38;5;132;01m{}\u001b[39;00m\u001b[38;5;124m as \u001b[39m\u001b[38;5;132;01m{}\u001b[39;00m\u001b[38;5;124mkeyword arg\u001b[39m\u001b[38;5;132;01m{}\u001b[39;00m\u001b[38;5;124m: \u001b[39m\u001b[38;5;132;01m{}\u001b[39;00m\u001b[38;5;124m. \u001b[39m\u001b[38;5;124m\"\u001b[39m\n\u001b[0;32m     38\u001b[0m         \u001b[38;5;124m\"\u001b[39m\u001b[38;5;124mFrom version 0.12, the only valid positional argument \u001b[39m\u001b[38;5;124m\"\u001b[39m\n\u001b[1;32m   (...)\u001b[0m\n\u001b[0;32m     43\u001b[0m         \u001b[38;5;167;01mFutureWarning\u001b[39;00m\n\u001b[0;32m     44\u001b[0m     )\n\u001b[0;32m     45\u001b[0m kwargs\u001b[38;5;241m.\u001b[39mupdate({k: arg \u001b[38;5;28;01mfor\u001b[39;00m k, arg \u001b[38;5;129;01min\u001b[39;00m \u001b[38;5;28mzip\u001b[39m(sig\u001b[38;5;241m.\u001b[39mparameters, args)})\n\u001b[1;32m---> 46\u001b[0m \u001b[38;5;28;01mreturn\u001b[39;00m f(\u001b[38;5;241m*\u001b[39m\u001b[38;5;241m*\u001b[39mkwargs)\n",
      "File \u001b[1;32mD:\\Data Science\\edyodha packages\\lib\\site-packages\\seaborn\\categorical.py:3792\u001b[0m, in \u001b[0;36mcatplot\u001b[1;34m(x, y, hue, data, row, col, col_wrap, estimator, ci, n_boot, units, seed, order, hue_order, row_order, col_order, kind, height, aspect, orient, color, palette, legend, legend_out, sharex, sharey, margin_titles, facet_kws, **kwargs)\u001b[0m\n\u001b[0;32m   3790\u001b[0m p \u001b[38;5;241m=\u001b[39m _CategoricalPlotter()\n\u001b[0;32m   3791\u001b[0m p\u001b[38;5;241m.\u001b[39mrequire_numeric \u001b[38;5;241m=\u001b[39m plotter_class\u001b[38;5;241m.\u001b[39mrequire_numeric\n\u001b[1;32m-> 3792\u001b[0m \u001b[43mp\u001b[49m\u001b[38;5;241;43m.\u001b[39;49m\u001b[43mestablish_variables\u001b[49m\u001b[43m(\u001b[49m\u001b[43mx_\u001b[49m\u001b[43m,\u001b[49m\u001b[43m \u001b[49m\u001b[43my_\u001b[49m\u001b[43m,\u001b[49m\u001b[43m \u001b[49m\u001b[43mhue\u001b[49m\u001b[43m,\u001b[49m\u001b[43m \u001b[49m\u001b[43mdata\u001b[49m\u001b[43m,\u001b[49m\u001b[43m \u001b[49m\u001b[43morient\u001b[49m\u001b[43m,\u001b[49m\u001b[43m \u001b[49m\u001b[43morder\u001b[49m\u001b[43m,\u001b[49m\u001b[43m \u001b[49m\u001b[43mhue_order\u001b[49m\u001b[43m)\u001b[49m\n\u001b[0;32m   3793\u001b[0m \u001b[38;5;28;01mif\u001b[39;00m (\n\u001b[0;32m   3794\u001b[0m     order \u001b[38;5;129;01mis\u001b[39;00m \u001b[38;5;129;01mnot\u001b[39;00m \u001b[38;5;28;01mNone\u001b[39;00m\n\u001b[0;32m   3795\u001b[0m     \u001b[38;5;129;01mor\u001b[39;00m (sharex \u001b[38;5;129;01mand\u001b[39;00m p\u001b[38;5;241m.\u001b[39morient \u001b[38;5;241m==\u001b[39m \u001b[38;5;124m\"\u001b[39m\u001b[38;5;124mv\u001b[39m\u001b[38;5;124m\"\u001b[39m)\n\u001b[0;32m   3796\u001b[0m     \u001b[38;5;129;01mor\u001b[39;00m (sharey \u001b[38;5;129;01mand\u001b[39;00m p\u001b[38;5;241m.\u001b[39morient \u001b[38;5;241m==\u001b[39m \u001b[38;5;124m\"\u001b[39m\u001b[38;5;124mh\u001b[39m\u001b[38;5;124m\"\u001b[39m)\n\u001b[0;32m   3797\u001b[0m ):\n\u001b[0;32m   3798\u001b[0m     \u001b[38;5;66;03m# Sync categorical axis between facets to have the same categories\u001b[39;00m\n\u001b[0;32m   3799\u001b[0m     order \u001b[38;5;241m=\u001b[39m p\u001b[38;5;241m.\u001b[39mgroup_names\n",
      "File \u001b[1;32mD:\\Data Science\\edyodha packages\\lib\\site-packages\\seaborn\\categorical.py:153\u001b[0m, in \u001b[0;36m_CategoricalPlotter.establish_variables\u001b[1;34m(self, x, y, hue, data, orient, order, hue_order, units)\u001b[0m\n\u001b[0;32m    151\u001b[0m     \u001b[38;5;28;01mif\u001b[39;00m \u001b[38;5;28misinstance\u001b[39m(var, \u001b[38;5;28mstr\u001b[39m):\n\u001b[0;32m    152\u001b[0m         err \u001b[38;5;241m=\u001b[39m \u001b[38;5;124m\"\u001b[39m\u001b[38;5;124mCould not interpret input \u001b[39m\u001b[38;5;124m'\u001b[39m\u001b[38;5;132;01m{}\u001b[39;00m\u001b[38;5;124m'\u001b[39m\u001b[38;5;124m\"\u001b[39m\u001b[38;5;241m.\u001b[39mformat(var)\n\u001b[1;32m--> 153\u001b[0m         \u001b[38;5;28;01mraise\u001b[39;00m \u001b[38;5;167;01mValueError\u001b[39;00m(err)\n\u001b[0;32m    155\u001b[0m \u001b[38;5;66;03m# Figure out the plotting orientation\u001b[39;00m\n\u001b[0;32m    156\u001b[0m orient \u001b[38;5;241m=\u001b[39m infer_orient(\n\u001b[0;32m    157\u001b[0m     x, y, orient, require_numeric\u001b[38;5;241m=\u001b[39m\u001b[38;5;28mself\u001b[39m\u001b[38;5;241m.\u001b[39mrequire_numeric\n\u001b[0;32m    158\u001b[0m )\n",
      "\u001b[1;31mValueError\u001b[0m: Could not interpret input '\tEmp_name\t'"
     ]
    }
   ],
   "source": [
    "sns.factorplot('Production', data=df,kind='count',hue='\tEmp_name\t')"
   ]
  },
  {
   "cell_type": "code",
   "execution_count": 38,
   "id": "a2d00b10",
   "metadata": {},
   "outputs": [
    {
     "data": {
      "text/plain": [
       "<AxesSubplot:ylabel='Production'>"
      ]
     },
     "execution_count": 38,
     "metadata": {},
     "output_type": "execute_result"
    },
    {
     "data": {
      "image/png": "[encoded data removed]",
      "text/plain": [
       "<Figure size 432x288 with 1 Axes>"
      ]
     },
     "metadata": {},
     "output_type": "display_data"
    }
   ],
   "source": [
    "df['Production'].plot(kind='pie')  # pie chart"
   ]
  },
  {
   "cell_type": "code",
   "execution_count": 39,
   "id": "7ba09be8",
   "metadata": {},
   "outputs": [
    {
     "data": {
      "text/plain": [
       "<AxesSubplot:ylabel='None'>"
      ]
     },
     "execution_count": 39,
     "metadata": {},
     "output_type": "execute_result"
    },
    {
     "data": {
      "image/png": "[encoded data removed]",
      "text/plain": [
       "<Figure size 432x288 with 1 Axes>"
      ]
     },
     "metadata": {},
     "output_type": "display_data"
    }
   ],
   "source": [
    "df.groupby('Production').size().plot(kind='pie') # we "
   ]
  },
  {
   "cell_type": "code",
   "execution_count": 6,
   "id": "60746701",
   "metadata": {},
   "outputs": [],
   "source": [
    "def child(x):\n",
    "    age, sex = x\n",
    "    if age < 16:\n",
    "        return 'Child'\n",
    "    else:\n",
    "        return sex\n",
    "    "
   ]
  },
  {
   "cell_type": "code",
   "execution_count": 11,
   "id": "27a83c15",
   "metadata": {},
   "outputs": [],
   "source": [
    "df['Person'] = df[['Age','Sex']].apply(child, axis=1)  # 'axis' is for run the part in column"
   ]
  },
  {
   "cell_type": "code",
   "execution_count": 12,
   "id": "f2f70154",
   "metadata": {},
   "outputs": [
    {
     "data": {
      "text/plain": [
       "array(['m', 'Child', 'f'], dtype=object)"
      ]
     },
     "execution_count": 12,
     "metadata": {},
     "output_type": "execute_result"
    }
   ],
   "source": [
    "df['Person'].unique()"
   ]
  },
  {
   "cell_type": "code",
   "execution_count": 13,
   "id": "ba1d7354",
   "metadata": {},
   "outputs": [
    {
     "data": {
      "text/html": [
       "<div>\n",
       "<style scoped>\n",
       "    .dataframe tbody tr th:only-of-type {\n",
       "        vertical-align: middle;\n",
       "    }\n",
       "\n",
       "    .dataframe tbody tr th {\n",
       "        vertical-align: top;\n",
       "    }\n",
       "\n",
       "    .dataframe thead th {\n",
       "        text-align: right;\n",
       "    }\n",
       "</style>\n",
       "<table border=\"1\" class=\"dataframe\">\n",
       "  <thead>\n",
       "    <tr style=\"text-align: right;\">\n",
       "      <th></th>\n",
       "      <th>Unnamed: 0</th>\n",
       "      <th>S.No.</th>\n",
       "      <th>Emp_name</th>\n",
       "      <th>Emp_id</th>\n",
       "      <th>Production</th>\n",
       "      <th>Productive Hours</th>\n",
       "      <th>Productivity</th>\n",
       "      <th>name2</th>\n",
       "      <th>Age</th>\n",
       "      <th>Sex</th>\n",
       "      <th>Person</th>\n",
       "    </tr>\n",
       "  </thead>\n",
       "  <tbody>\n",
       "    <tr>\n",
       "      <th>0</th>\n",
       "      <td>1</td>\n",
       "      <td>1</td>\n",
       "      <td>Vikas Sharma</td>\n",
       "      <td>815864</td>\n",
       "      <td>48</td>\n",
       "      <td>8.00</td>\n",
       "      <td>48</td>\n",
       "      <td>sujan_acharya</td>\n",
       "      <td>25</td>\n",
       "      <td>m</td>\n",
       "      <td>m</td>\n",
       "    </tr>\n",
       "    <tr>\n",
       "      <th>1</th>\n",
       "      <td>2</td>\n",
       "      <td>2</td>\n",
       "      <td>Sachin</td>\n",
       "      <td>815426</td>\n",
       "      <td>58</td>\n",
       "      <td>6.00</td>\n",
       "      <td>77</td>\n",
       "      <td>nagendra_naik</td>\n",
       "      <td>3</td>\n",
       "      <td>f</td>\n",
       "      <td>Child</td>\n",
       "    </tr>\n",
       "    <tr>\n",
       "      <th>2</th>\n",
       "      <td>3</td>\n",
       "      <td>3</td>\n",
       "      <td>Rohit</td>\n",
       "      <td>812457</td>\n",
       "      <td>12</td>\n",
       "      <td>4.00</td>\n",
       "      <td>24</td>\n",
       "      <td>shivu_naik</td>\n",
       "      <td>25</td>\n",
       "      <td>m</td>\n",
       "      <td>m</td>\n",
       "    </tr>\n",
       "    <tr>\n",
       "      <th>3</th>\n",
       "      <td>4</td>\n",
       "      <td>4</td>\n",
       "      <td>Broad</td>\n",
       "      <td>821543</td>\n",
       "      <td>40</td>\n",
       "      <td>7.00</td>\n",
       "      <td>46</td>\n",
       "      <td>kiran_prabhu</td>\n",
       "      <td>6</td>\n",
       "      <td>m</td>\n",
       "      <td>Child</td>\n",
       "    </tr>\n",
       "    <tr>\n",
       "      <th>4</th>\n",
       "      <td>5</td>\n",
       "      <td>5</td>\n",
       "      <td>Gilchrist</td>\n",
       "      <td>821546</td>\n",
       "      <td>54</td>\n",
       "      <td>8.00</td>\n",
       "      <td>54</td>\n",
       "      <td>bushhan_serughar</td>\n",
       "      <td>25</td>\n",
       "      <td>f</td>\n",
       "      <td>f</td>\n",
       "    </tr>\n",
       "    <tr>\n",
       "      <th>5</th>\n",
       "      <td>6</td>\n",
       "      <td>6</td>\n",
       "      <td>Symonds</td>\n",
       "      <td>824513</td>\n",
       "      <td>41</td>\n",
       "      <td>7.00</td>\n",
       "      <td>47</td>\n",
       "      <td>jeevita_mesta</td>\n",
       "      <td>25</td>\n",
       "      <td>m</td>\n",
       "      <td>m</td>\n",
       "    </tr>\n",
       "    <tr>\n",
       "      <th>6</th>\n",
       "      <td>7</td>\n",
       "      <td>7</td>\n",
       "      <td>Pollard</td>\n",
       "      <td>875412</td>\n",
       "      <td>42</td>\n",
       "      <td>5.50</td>\n",
       "      <td>61</td>\n",
       "      <td>swathi_mesta</td>\n",
       "      <td>3</td>\n",
       "      <td>f</td>\n",
       "      <td>Child</td>\n",
       "    </tr>\n",
       "    <tr>\n",
       "      <th>7</th>\n",
       "      <td>8</td>\n",
       "      <td>8</td>\n",
       "      <td>Mccullum</td>\n",
       "      <td>822135</td>\n",
       "      <td>60</td>\n",
       "      <td>4.00</td>\n",
       "      <td>120</td>\n",
       "      <td>pannaga_karanth</td>\n",
       "      <td>24</td>\n",
       "      <td>f</td>\n",
       "      <td>f</td>\n",
       "    </tr>\n",
       "    <tr>\n",
       "      <th>8</th>\n",
       "      <td>9</td>\n",
       "      <td>9</td>\n",
       "      <td>Chris Gayle</td>\n",
       "      <td>821546</td>\n",
       "      <td>46</td>\n",
       "      <td>5.00</td>\n",
       "      <td>74</td>\n",
       "      <td>subramanya_bandekar</td>\n",
       "      <td>24</td>\n",
       "      <td>m</td>\n",
       "      <td>m</td>\n",
       "    </tr>\n",
       "    <tr>\n",
       "      <th>9</th>\n",
       "      <td>10</td>\n",
       "      <td>10</td>\n",
       "      <td>Morne MorkHD</td>\n",
       "      <td>821354</td>\n",
       "      <td>43</td>\n",
       "      <td>4.67</td>\n",
       "      <td>74</td>\n",
       "      <td>vishu_devadiga</td>\n",
       "      <td>27</td>\n",
       "      <td>f</td>\n",
       "      <td>f</td>\n",
       "    </tr>\n",
       "  </tbody>\n",
       "</table>\n",
       "</div>"
      ],
      "text/plain": [
       "   Unnamed: 0  S.No.      Emp_name  Emp_id  Production  Productive Hours  \\\n",
       "0           1      1  Vikas Sharma  815864          48              8.00   \n",
       "1           2      2        Sachin  815426          58              6.00   \n",
       "2           3      3         Rohit  812457          12              4.00   \n",
       "3           4      4         Broad  821543          40              7.00   \n",
       "4           5      5     Gilchrist  821546          54              8.00   \n",
       "5           6      6       Symonds  824513          41              7.00   \n",
       "6           7      7       Pollard  875412          42              5.50   \n",
       "7           8      8      Mccullum  822135          60              4.00   \n",
       "8           9      9   Chris Gayle  821546          46              5.00   \n",
       "9          10     10  Morne MorkHD  821354          43              4.67   \n",
       "\n",
       "   Productivity                name2  Age Sex Person  \n",
       "0            48        sujan_acharya   25   m      m  \n",
       "1            77        nagendra_naik    3   f  Child  \n",
       "2            24           shivu_naik   25   m      m  \n",
       "3            46         kiran_prabhu    6   m  Child  \n",
       "4            54     bushhan_serughar   25   f      f  \n",
       "5            47        jeevita_mesta   25   m      m  \n",
       "6            61         swathi_mesta    3   f  Child  \n",
       "7           120      pannaga_karanth   24   f      f  \n",
       "8            74  subramanya_bandekar   24   m      m  \n",
       "9            74       vishu_devadiga   27   f      f  "
      ]
     },
     "execution_count": 13,
     "metadata": {},
     "output_type": "execute_result"
    }
   ],
   "source": [
    "df.head(10)"
   ]
  },
  {
   "cell_type": "code",
   "execution_count": null,
   "id": "1e8cb131",
   "metadata": {},
   "outputs": [],
   "source": []
  },
  {
   "cell_type": "code",
   "execution_count": null,
   "id": "77d4ef25",
   "metadata": {},
   "outputs": [],
   "source": []
  },
  {
   "cell_type": "code",
   "execution_count": null,
   "id": "5ae56110",
   "metadata": {},
   "outputs": [],
   "source": []
  }
 ],
 "metadata": {
  "kernelspec": {
   "display_name": "Python 3 (ipykernel)",
   "language": "python",
   "name": "python3"
  },
  "language_info": {
   "codemirror_mode": {
    "name": "ipython",
    "version": 3
   },
   "file_extension": ".py",
   "mimetype": "text/x-python",
   "name": "python",
   "nbconvert_exporter": "python",
   "pygments_lexer": "ipython3",
   "version": "3.10.2"
  }
 },
 "nbformat": 4,
 "nbformat_minor": 5
}
