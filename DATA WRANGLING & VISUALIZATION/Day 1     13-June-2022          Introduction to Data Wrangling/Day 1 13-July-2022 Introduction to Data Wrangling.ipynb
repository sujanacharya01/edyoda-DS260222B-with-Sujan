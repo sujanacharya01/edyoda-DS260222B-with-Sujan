{
 "cells": [
  {
   "cell_type": "code",
   "execution_count": 18,
   "id": "3e6d3659",
   "metadata": {},
   "outputs": [],
   "source": [
    "What is the NumPy library in Python? "
   ]
  },
  {
   "cell_type": "code",
   "execution_count": null,
   "id": "dc0759e6",
   "metadata": {},
   "outputs": [],
   "source": [
    "NumPy stands for Numerical Python and is one of the most useful scientific libraries in Python programming.\n",
    "It provides support for large multidimensional array objects and various tools to work with them."
   ]
  },
  {
   "cell_type": "code",
   "execution_count": null,
   "id": "bf6c14a8",
   "metadata": {},
   "outputs": [],
   "source": []
  },
  {
   "cell_type": "code",
   "execution_count": null,
   "id": "bd7f5075",
   "metadata": {},
   "outputs": [],
   "source": [
    "Other well known Python Libraries :\n",
    "    \n",
    "Pandas : Pandas for data extraction and preparation.\n",
    "Matplotlib : Matplotlib for data visualization.\n",
    "Scikit-learn : Scikit-learn for implementing machine learning algorithms.\n",
    "\n",
    "\n",
    "About Numpy Library:\n",
    "\n",
    "1) It is foundation of python programming for machine learning: Pandas,Scipy & Scikit-learn is built using numpy .\n",
    "2) Multi-dimensional Data structure.\n",
    "3) Homogenous Data thus its fast.\n",
    "4) It has huge mathematical library available on it for doing numerical computation."
   ]
  },
  {
   "cell_type": "code",
   "execution_count": null,
   "id": "9162fb00",
   "metadata": {},
   "outputs": [],
   "source": []
  },
  {
   "cell_type": "code",
   "execution_count": null,
   "id": "d2140295",
   "metadata": {},
   "outputs": [],
   "source": [
    "Application of Numpy:\n",
    "    \n",
    "1. To analyse data and to apply mathematical operations on data.\n",
    "2. To build ML algorithms : To init/update weights.\n",
    "3. Image processing ."
   ]
  },
  {
   "cell_type": "code",
   "execution_count": null,
   "id": "6469bd79",
   "metadata": {},
   "outputs": [],
   "source": []
  },
  {
   "cell_type": "code",
   "execution_count": 15,
   "id": "1ed2b788",
   "metadata": {},
   "outputs": [],
   "source": [
    "##Importing Numpy package\n",
    "import numpy as np"
   ]
  },
  {
   "cell_type": "code",
   "execution_count": 3,
   "id": "62026511",
   "metadata": {},
   "outputs": [
    {
     "data": {
      "text/plain": [
       "list"
      ]
     },
     "execution_count": 3,
     "metadata": {},
     "output_type": "execute_result"
    }
   ],
   "source": [
    "a=[45,56,78,87,98] # list\n",
    "type(a)"
   ]
  },
  {
   "cell_type": "code",
   "execution_count": 9,
   "id": "2bc0baf4",
   "metadata": {},
   "outputs": [
    {
     "data": {
      "text/plain": [
       "array([45, 56, 78, 87, 98])"
      ]
     },
     "execution_count": 9,
     "metadata": {},
     "output_type": "execute_result"
    }
   ],
   "source": [
    "from numpy import array\n",
    "b=array(a)\n",
    "b\n"
   ]
  },
  {
   "cell_type": "code",
   "execution_count": 11,
   "id": "bf7b21ca",
   "metadata": {},
   "outputs": [
    {
     "data": {
      "text/plain": [
       "numpy.ndarray"
      ]
     },
     "execution_count": 11,
     "metadata": {},
     "output_type": "execute_result"
    }
   ],
   "source": [
    "type(b)"
   ]
  },
  {
   "cell_type": "code",
   "execution_count": null,
   "id": "4ee815f8",
   "metadata": {},
   "outputs": [],
   "source": []
  },
  {
   "cell_type": "code",
   "execution_count": 5,
   "id": "1c6f9583",
   "metadata": {},
   "outputs": [],
   "source": [
    "np_weight = np.array([45,56,78,87,98])"
   ]
  },
  {
   "cell_type": "code",
   "execution_count": 6,
   "id": "501f69ea",
   "metadata": {},
   "outputs": [
    {
     "data": {
      "text/plain": [
       "array([45, 56, 78, 87, 98])"
      ]
     },
     "execution_count": 6,
     "metadata": {},
     "output_type": "execute_result"
    }
   ],
   "source": [
    "np_weight"
   ]
  },
  {
   "cell_type": "code",
   "execution_count": null,
   "id": "0003662f",
   "metadata": {},
   "outputs": [],
   "source": []
  },
  {
   "cell_type": "code",
   "execution_count": 7,
   "id": "7379f6cf",
   "metadata": {},
   "outputs": [],
   "source": [
    "list_we=[45,56,78,87,98]"
   ]
  },
  {
   "cell_type": "code",
   "execution_count": 8,
   "id": "21cfb1c7",
   "metadata": {},
   "outputs": [
    {
     "data": {
      "text/plain": [
       "numpy.ndarray"
      ]
     },
     "execution_count": 8,
     "metadata": {},
     "output_type": "execute_result"
    }
   ],
   "source": [
    "type(np_weight)"
   ]
  },
  {
   "cell_type": "code",
   "execution_count": 9,
   "id": "d72b0d4b",
   "metadata": {},
   "outputs": [],
   "source": []
  },
  {
   "cell_type": "code",
   "execution_count": 11,
   "id": "e20fea0a",
   "metadata": {},
   "outputs": [
    {
     "data": {
      "text/plain": [
       "[45, 56, 78, 87, 98]"
      ]
     },
     "execution_count": 11,
     "metadata": {},
     "output_type": "execute_result"
    }
   ],
   "source": [
    "list_we"
   ]
  },
  {
   "cell_type": "code",
   "execution_count": 12,
   "id": "ac656e30",
   "metadata": {},
   "outputs": [
    {
     "data": {
      "text/plain": [
       "list"
      ]
     },
     "execution_count": 12,
     "metadata": {},
     "output_type": "execute_result"
    }
   ],
   "source": [
    "type(list_we)"
   ]
  },
  {
   "cell_type": "code",
   "execution_count": null,
   "id": "db39dad6",
   "metadata": {},
   "outputs": [],
   "source": []
  },
  {
   "cell_type": "markdown",
   "id": "5e6792e6",
   "metadata": {},
   "source": [
    "## Python Lists vs NumPy Arrays – What’s the Difference?"
   ]
  },
  {
   "cell_type": "code",
   "execution_count": null,
   "id": "eaf971d4",
   "metadata": {},
   "outputs": [],
   "source": [
    "1. Memory space - Numpy data structures take up less space\n",
    "2. Performance - they have a need for speed and are faster than lists\n",
    "\n",
    "The main benefits of using NumPy arrays are smaller memory consumption and better runtime behavior. \n",
    "Vectorization : Elimination of for loops"
   ]
  },
  {
   "cell_type": "code",
   "execution_count": null,
   "id": "e4fa017a",
   "metadata": {},
   "outputs": [],
   "source": []
  },
  {
   "cell_type": "code",
   "execution_count": 14,
   "id": "4598ee88",
   "metadata": {},
   "outputs": [
    {
     "name": "stdout",
     "output_type": "stream",
     "text": [
      "python list took : 431.7128658294678\n",
      "numpy array took : 39.97349739074707\n"
     ]
    }
   ],
   "source": [
    "import numpy as np\n",
    "import time\n",
    "size = 1000000  #Size of array \n",
    "\n",
    "### Declare python list\n",
    "L1 = range(size)\n",
    "L2 = range(size)\n",
    "\n",
    "# declare two arrays\n",
    "a1 = np.arange(size)  \n",
    "a2 = np.arange(size)\n",
    "\n",
    "## list\n",
    "start = time.time()\n",
    "result = [(x+y) for x,y in zip(L1 , L2)]\n",
    "print(\"python list took :\" ,(time.time()-start)*1000 )\n",
    "\n",
    "## numpy array\n",
    "start = time.time()\n",
    "result = a1 + a2\n",
    "print(\"numpy array took :\" ,(time.time() - start)*1000)"
   ]
  },
  {
   "cell_type": "code",
   "execution_count": 18,
   "id": "3199a928",
   "metadata": {},
   "outputs": [
    {
     "data": {
      "text/plain": [
       "<zip at 0x1d1aeff8a40>"
      ]
     },
     "execution_count": 18,
     "metadata": {},
     "output_type": "execute_result"
    }
   ],
   "source": [
    "# Zip Function\n",
    "L1 = list(range(10))\n",
    "L2 = list(range(10))\n",
    "list(zip(L1,L2))\n",
    "(zip(L1,L2))     # if we don't use list in zip function, then we will get "
   ]
  },
  {
   "cell_type": "code",
   "execution_count": 19,
   "id": "cfd29992",
   "metadata": {},
   "outputs": [
    {
     "data": {
      "text/plain": [
       "[(0, 0),\n",
       " (1, 1),\n",
       " (2, 2),\n",
       " (3, 3),\n",
       " (4, 4),\n",
       " (5, 5),\n",
       " (6, 6),\n",
       " (7, 7),\n",
       " (8, 8),\n",
       " (9, 9)]"
      ]
     },
     "execution_count": 19,
     "metadata": {},
     "output_type": "execute_result"
    }
   ],
   "source": [
    "# Zip Function\n",
    "L1 = list(range(10))\n",
    "L2 = list(range(10))\n",
    "list(zip(L1,L2))  # with list"
   ]
  },
  {
   "cell_type": "code",
   "execution_count": null,
   "id": "0fc9a3bf",
   "metadata": {},
   "outputs": [],
   "source": []
  }
 ],
 "metadata": {
  "kernelspec": {
   "display_name": "Python 3 (ipykernel)",
   "language": "python",
   "name": "python3"
  },
  "language_info": {
   "codemirror_mode": {
    "name": "ipython",
    "version": 3
   },
   "file_extension": ".py",
   "mimetype": "text/x-python",
   "name": "python",
   "nbconvert_exporter": "python",
   "pygments_lexer": "ipython3",
   "version": "3.10.2"
  }
 },
 "nbformat": 4,
 "nbformat_minor": 5
}
