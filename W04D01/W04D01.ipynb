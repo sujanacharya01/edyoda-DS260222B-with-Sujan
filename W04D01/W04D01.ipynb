{
 "cells": [
  {
   "cell_type": "code",
   "execution_count": 1,
   "id": "8025f360",
   "metadata": {},
   "outputs": [],
   "source": [
    "l = [1,5,8,\"Adil\",\"Meraj\",\"Arman\",\"Zomato\",\"RRR\",\"Hrsha\",8.12,\"Bachan Pandey\",\"Kashmir files\",83,\\\n",
    "     \"Pushpa\"]"
   ]
  },
  {
   "cell_type": "code",
   "execution_count": 3,
   "id": "3a54f84a",
   "metadata": {},
   "outputs": [
    {
     "name": "stdout",
     "output_type": "stream",
     "text": [
      "14\n"
     ]
    }
   ],
   "source": [
    "count=0\n",
    "for i in l:\n",
    "    count+=1\n",
    "print(count)    "
   ]
  },
  {
   "cell_type": "code",
   "execution_count": 4,
   "id": "864954c2",
   "metadata": {},
   "outputs": [
    {
     "name": "stdout",
     "output_type": "stream",
     "text": [
      "6\n"
     ]
    }
   ],
   "source": [
    "t = (1,5,98,7,9,6)\n",
    "count_tuple = 0\n",
    "for i in t:\n",
    "    count_tuple+=1\n",
    "print(count_tuple)    "
   ]
  },
  {
   "cell_type": "code",
   "execution_count": 5,
   "id": "f1012c94",
   "metadata": {},
   "outputs": [
    {
     "name": "stdout",
     "output_type": "stream",
     "text": [
      "3\n"
     ]
    }
   ],
   "source": [
    "d = {1:None, False:[1,2,3], \"Saikumar\":\"Yes sir\"}\n",
    "count_dict = 0\n",
    "for i in d:\n",
    "    count_dict+=1\n",
    "print(count_dict)    "
   ]
  },
  {
   "cell_type": "code",
   "execution_count": 6,
   "id": "9dfb5c81",
   "metadata": {},
   "outputs": [
    {
     "name": "stdout",
     "output_type": "stream",
     "text": [
      "2\n"
     ]
    }
   ],
   "source": [
    "d={1:None,True:[1,2,3],\"test\":\"hello\"} # here we got output as 2 because True = 1, so that python consider the latest one.\n",
    "count_dic =0\n",
    "for i in d:\n",
    "    count_dic+=1\n",
    "print(count_dic)"
   ]
  },
  {
   "cell_type": "code",
   "execution_count": 7,
   "id": "8469028d",
   "metadata": {},
   "outputs": [
    {
     "data": {
      "text/plain": [
       "[1, 2, 3]"
      ]
     },
     "execution_count": 7,
     "metadata": {},
     "output_type": "execute_result"
    }
   ],
   "source": [
    "d[True]"
   ]
  },
  {
   "cell_type": "code",
   "execution_count": 8,
   "id": "6e6f0adb",
   "metadata": {},
   "outputs": [
    {
     "data": {
      "text/plain": [
       "[1, 2, 3]"
      ]
     },
     "execution_count": 8,
     "metadata": {},
     "output_type": "execute_result"
    }
   ],
   "source": [
    "d[1]"
   ]
  },
  {
   "cell_type": "code",
   "execution_count": 9,
   "id": "c2711a8a",
   "metadata": {},
   "outputs": [
    {
     "data": {
      "text/plain": [
       "14"
      ]
     },
     "execution_count": 9,
     "metadata": {},
     "output_type": "execute_result"
    }
   ],
   "source": [
    "len(l)"
   ]
  },
  {
   "cell_type": "code",
   "execution_count": null,
   "id": "e4b04012",
   "metadata": {},
   "outputs": [],
   "source": [
    "# How to make these functions manually"
   ]
  },
  {
   "cell_type": "code",
   "execution_count": 10,
   "id": "23eaf0c6",
   "metadata": {},
   "outputs": [],
   "source": [
    "#syntax\n",
    "def name_of_the_function(parameters):\n",
    "    ''' what this function is going to do '''\n",
    "    #statements"
   ]
  },
  {
   "cell_type": "code",
   "execution_count": 25,
   "id": "a1fca0ae",
   "metadata": {},
   "outputs": [],
   "source": [
    "def length(iterable): #function Definition\n",
    "    '''This function finds out the length of the iterable'''\n",
    "    count = 0\n",
    "    for i in iterable:\n",
    "        count+=1\n",
    "    return count"
   ]
  },
  {
   "cell_type": "code",
   "execution_count": 29,
   "id": "dcfbdead",
   "metadata": {},
   "outputs": [
    {
     "data": {
      "text/plain": [
       "14"
      ]
     },
     "execution_count": 29,
     "metadata": {},
     "output_type": "execute_result"
    }
   ],
   "source": [
    "length(l)  # function calling"
   ]
  },
  {
   "cell_type": "code",
   "execution_count": 30,
   "id": "95a63bb6",
   "metadata": {},
   "outputs": [
    {
     "name": "stdout",
     "output_type": "stream",
     "text": [
      "5\n"
     ]
    }
   ],
   "source": [
    "l=[12,32,34,23,'kavya']\n",
    "\n",
    "def length(iterable):\n",
    "    '''length of the list'''\n",
    "    count=0\n",
    "    for i in iterable:\n",
    "        count+=1\n",
    "    return count\n",
    "print(length(l))"
   ]
  },
  {
   "cell_type": "code",
   "execution_count": 31,
   "id": "2556964f",
   "metadata": {},
   "outputs": [],
   "source": [
    "def length(iterable): #function Definition\n",
    "    '''This function finds out the length of the iterable'''\n",
    "    count = 0\n",
    "    for i in iterable:\n",
    "        count+=1\n",
    "    print(\"Hello\")\n",
    "    return count\n",
    "    print(\"Hello\")"
   ]
  },
  {
   "cell_type": "code",
   "execution_count": 32,
   "id": "18b9928e",
   "metadata": {},
   "outputs": [
    {
     "name": "stdout",
     "output_type": "stream",
     "text": [
      "Hello\n"
     ]
    },
    {
     "data": {
      "text/plain": [
       "5"
      ]
     },
     "execution_count": 32,
     "metadata": {},
     "output_type": "execute_result"
    }
   ],
   "source": [
    "length(l)"
   ]
  },
  {
   "cell_type": "code",
   "execution_count": 33,
   "id": "dabea516",
   "metadata": {},
   "outputs": [
    {
     "ename": "TypeError",
     "evalue": "'int' object is not iterable",
     "output_type": "error",
     "traceback": [
      "\u001b[1;31m---------------------------------------------------------------------------\u001b[0m",
      "\u001b[1;31mTypeError\u001b[0m                                 Traceback (most recent call last)",
      "Input \u001b[1;32mIn [33]\u001b[0m, in \u001b[0;36m<cell line: 1>\u001b[1;34m()\u001b[0m\n\u001b[1;32m----> 1\u001b[0m \u001b[43mlength\u001b[49m\u001b[43m(\u001b[49m\u001b[38;5;241;43m23\u001b[39;49m\u001b[43m)\u001b[49m\n",
      "Input \u001b[1;32mIn [31]\u001b[0m, in \u001b[0;36mlength\u001b[1;34m(iterable)\u001b[0m\n\u001b[0;32m      2\u001b[0m \u001b[38;5;124;03m'''This function finds out the length of the iterable'''\u001b[39;00m\n\u001b[0;32m      3\u001b[0m count \u001b[38;5;241m=\u001b[39m \u001b[38;5;241m0\u001b[39m\n\u001b[1;32m----> 4\u001b[0m \u001b[38;5;28;01mfor\u001b[39;00m i \u001b[38;5;129;01min\u001b[39;00m iterable:\n\u001b[0;32m      5\u001b[0m     count\u001b[38;5;241m+\u001b[39m\u001b[38;5;241m=\u001b[39m\u001b[38;5;241m1\u001b[39m\n\u001b[0;32m      6\u001b[0m \u001b[38;5;28mprint\u001b[39m(\u001b[38;5;124m\"\u001b[39m\u001b[38;5;124mHello\u001b[39m\u001b[38;5;124m\"\u001b[39m)\n",
      "\u001b[1;31mTypeError\u001b[0m: 'int' object is not iterable"
     ]
    }
   ],
   "source": [
    "length(23)"
   ]
  },
  {
   "cell_type": "code",
   "execution_count": 42,
   "id": "5a75c73a",
   "metadata": {},
   "outputs": [],
   "source": [
    "def add (num1,num2):\n",
    "    return num1+num2 "
   ]
  },
  {
   "cell_type": "code",
   "execution_count": 43,
   "id": "8ceb54cf",
   "metadata": {},
   "outputs": [
    {
     "data": {
      "text/plain": [
       "74"
      ]
     },
     "execution_count": 43,
     "metadata": {},
     "output_type": "execute_result"
    }
   ],
   "source": [
    "add(8,66)"
   ]
  },
  {
   "cell_type": "code",
   "execution_count": 44,
   "id": "3c3071a2",
   "metadata": {},
   "outputs": [
    {
     "data": {
      "text/plain": [
       "'Mona Dukandar'"
      ]
     },
     "execution_count": 44,
     "metadata": {},
     "output_type": "execute_result"
    }
   ],
   "source": [
    "add(\"Mona\",\" Dukandar\")"
   ]
  },
  {
   "cell_type": "code",
   "execution_count": 3,
   "id": "8f16e275",
   "metadata": {},
   "outputs": [],
   "source": [
    "def funt_one():\n",
    "    print(\"Ganesh\")"
   ]
  },
  {
   "cell_type": "code",
   "execution_count": 4,
   "id": "17e1ccc4",
   "metadata": {},
   "outputs": [
    {
     "name": "stdout",
     "output_type": "stream",
     "text": [
      "Ganesh\n"
     ]
    }
   ],
   "source": [
    "funt_one()"
   ]
  },
  {
   "cell_type": "code",
   "execution_count": 5,
   "id": "45ab6bd6",
   "metadata": {},
   "outputs": [],
   "source": [
    "def funt_two():\n",
    "    \"\"\"Nothing in this function\"\"\""
   ]
  },
  {
   "cell_type": "code",
   "execution_count": 6,
   "id": "f1a64a7d",
   "metadata": {},
   "outputs": [
    {
     "name": "stdout",
     "output_type": "stream",
     "text": [
      "None\n"
     ]
    }
   ],
   "source": [
    "print(funt_two())"
   ]
  },
  {
   "cell_type": "code",
   "execution_count": null,
   "id": "608220e5",
   "metadata": {},
   "outputs": [],
   "source": [
    "None is the default return type of the function"
   ]
  },
  {
   "cell_type": "code",
   "execution_count": 8,
   "id": "e30207b2",
   "metadata": {},
   "outputs": [],
   "source": [
    "x = len([1,2,3])"
   ]
  },
  {
   "cell_type": "code",
   "execution_count": 9,
   "id": "7dea8091",
   "metadata": {},
   "outputs": [
    {
     "name": "stdout",
     "output_type": "stream",
     "text": [
      "3\n"
     ]
    }
   ],
   "source": [
    "print(x)"
   ]
  },
  {
   "cell_type": "code",
   "execution_count": 10,
   "id": "323ab7b2",
   "metadata": {},
   "outputs": [
    {
     "name": "stdout",
     "output_type": "stream",
     "text": [
      "Ganesh\n"
     ]
    }
   ],
   "source": [
    "y = funt_one() # it will print the funct_one value"
   ]
  },
  {
   "cell_type": "code",
   "execution_count": 11,
   "id": "71a06ddb",
   "metadata": {},
   "outputs": [
    {
     "name": "stdout",
     "output_type": "stream",
     "text": [
      "None\n"
     ]
    }
   ],
   "source": [
    "print(y)"
   ]
  },
  {
   "cell_type": "code",
   "execution_count": null,
   "id": "dc7e2e30",
   "metadata": {},
   "outputs": [],
   "source": [
    "Q) WAP to define a function which takes a single int value and checks if it is even or odd\n"
   ]
  },
  {
   "cell_type": "code",
   "execution_count": 64,
   "id": "4909cb35",
   "metadata": {},
   "outputs": [],
   "source": [
    "def check_even_odd(num):\n",
    "    if num%2==0:\n",
    "        print(\"Even\")\n",
    "    else:\n",
    "        print(\"Odd\")"
   ]
  },
  {
   "cell_type": "code",
   "execution_count": 65,
   "id": "01ece589",
   "metadata": {},
   "outputs": [
    {
     "name": "stdout",
     "output_type": "stream",
     "text": [
      "Odd\n"
     ]
    }
   ],
   "source": [
    "check_even_odd(55)"
   ]
  },
  {
   "cell_type": "code",
   "execution_count": 66,
   "id": "c91b22aa",
   "metadata": {},
   "outputs": [
    {
     "ename": "NameError",
     "evalue": "name 'var' is not defined",
     "output_type": "error",
     "traceback": [
      "\u001b[1;31m---------------------------------------------------------------------------\u001b[0m",
      "\u001b[1;31mNameError\u001b[0m                                 Traceback (most recent call last)",
      "Input \u001b[1;32mIn [66]\u001b[0m, in \u001b[0;36m<cell line: 1>\u001b[1;34m()\u001b[0m\n\u001b[1;32m----> 1\u001b[0m \u001b[43mvar\u001b[49m(\u001b[38;5;124m\"\u001b[39m\u001b[38;5;124mlike\u001b[39m\u001b[38;5;124m\"\u001b[39m)\n",
      "\u001b[1;31mNameError\u001b[0m: name 'var' is not defined"
     ]
    }
   ],
   "source": [
    "var(\"like\") #it's not defined"
   ]
  },
  {
   "cell_type": "code",
   "execution_count": 67,
   "id": "f6588b5f",
   "metadata": {},
   "outputs": [],
   "source": [
    "var = 25\n",
    "def test_func():\n",
    "    print(var)"
   ]
  },
  {
   "cell_type": "code",
   "execution_count": 68,
   "id": "4697945c",
   "metadata": {},
   "outputs": [
    {
     "name": "stdout",
     "output_type": "stream",
     "text": [
      "25\n"
     ]
    }
   ],
   "source": [
    "test_func()"
   ]
  },
  {
   "cell_type": "code",
   "execution_count": 72,
   "id": "71fed8b3",
   "metadata": {},
   "outputs": [],
   "source": [
    "var = 25\n",
    "def test_func():\n",
    "    var = 32\n",
    "    print(var)\n",
    "    "
   ]
  },
  {
   "cell_type": "code",
   "execution_count": 73,
   "id": "0a8776aa",
   "metadata": {},
   "outputs": [
    {
     "name": "stdout",
     "output_type": "stream",
     "text": [
      "32\n"
     ]
    }
   ],
   "source": [
    "test_func()"
   ]
  },
  {
   "cell_type": "code",
   "execution_count": 79,
   "id": "8068ff53",
   "metadata": {},
   "outputs": [
    {
     "name": "stdout",
     "output_type": "stream",
     "text": [
      "Sayali\n"
     ]
    }
   ],
   "source": [
    "val = \"Sayali\"\n",
    "def change_name():\n",
    "    val = \"Mona\"\n",
    "    print(val)\n",
    "print(val)"
   ]
  },
  {
   "cell_type": "code",
   "execution_count": 80,
   "id": "1fbad89f",
   "metadata": {},
   "outputs": [
    {
     "name": "stdout",
     "output_type": "stream",
     "text": [
      "Mona\n",
      "Sayali\n"
     ]
    }
   ],
   "source": [
    "change_name()\n",
    "print(val)\n"
   ]
  },
  {
   "cell_type": "code",
   "execution_count": 81,
   "id": "cee9def2",
   "metadata": {},
   "outputs": [],
   "source": [
    "def func1():\n",
    "    v = \"Mayank\""
   ]
  },
  {
   "cell_type": "code",
   "execution_count": 82,
   "id": "28884211",
   "metadata": {},
   "outputs": [
    {
     "ename": "NameError",
     "evalue": "name 'v' is not defined",
     "output_type": "error",
     "traceback": [
      "\u001b[1;31m---------------------------------------------------------------------------\u001b[0m",
      "\u001b[1;31mNameError\u001b[0m                                 Traceback (most recent call last)",
      "Input \u001b[1;32mIn [82]\u001b[0m, in \u001b[0;36m<cell line: 1>\u001b[1;34m()\u001b[0m\n\u001b[1;32m----> 1\u001b[0m \u001b[38;5;28mprint\u001b[39m(\u001b[43mv\u001b[49m)\n",
      "\u001b[1;31mNameError\u001b[0m: name 'v' is not defined"
     ]
    }
   ],
   "source": [
    "print(v) # local variable cannot get it outside."
   ]
  },
  {
   "cell_type": "code",
   "execution_count": 83,
   "id": "ef84758b",
   "metadata": {},
   "outputs": [
    {
     "ename": "NameError",
     "evalue": "name 'v' is not defined",
     "output_type": "error",
     "traceback": [
      "\u001b[1;31m---------------------------------------------------------------------------\u001b[0m",
      "\u001b[1;31mNameError\u001b[0m                                 Traceback (most recent call last)",
      "Input \u001b[1;32mIn [83]\u001b[0m, in \u001b[0;36m<cell line: 2>\u001b[1;34m()\u001b[0m\n\u001b[0;32m      1\u001b[0m func1()\n\u001b[1;32m----> 2\u001b[0m \u001b[38;5;28mprint\u001b[39m(\u001b[43mv\u001b[49m)\n",
      "\u001b[1;31mNameError\u001b[0m: name 'v' is not defined"
     ]
    }
   ],
   "source": [
    "func1()  # local variable cannot get it outside.\n",
    "print(v)"
   ]
  },
  {
   "cell_type": "code",
   "execution_count": 93,
   "id": "1eef9b2b",
   "metadata": {},
   "outputs": [
    {
     "name": "stdout",
     "output_type": "stream",
     "text": [
      "Mona\n",
      "Mona\n"
     ]
    }
   ],
   "source": [
    "val=\"Sayali\"\n",
    "def change_name():\n",
    "    global val  # if we mention global variable inside the function global variable also consider local variable\n",
    "    val=\"Mona\"\n",
    "    print(val)\n",
    "change_name()\n",
    "print(val)   "
   ]
  },
  {
   "cell_type": "code",
   "execution_count": 94,
   "id": "b73db50b",
   "metadata": {},
   "outputs": [
    {
     "name": "stdout",
     "output_type": "stream",
     "text": [
      "Sayali\n",
      "Sayali\n"
     ]
    }
   ],
   "source": [
    "val = \"Sayali\"\n",
    "def change_name():\n",
    "    print(val)   # if there is no local variable then python will check the global variable\n",
    "change_name()\n",
    "print(val)"
   ]
  },
  {
   "cell_type": "code",
   "execution_count": 98,
   "id": "c3ec502c",
   "metadata": {},
   "outputs": [],
   "source": [
    "def funct1():\n",
    "    #defining funct2\n",
    "    def funct2():\n",
    "        print(\"Varun\")\n",
    "    #calling funct2\n",
    "    funct2()\n",
    "    print(\"Sharon\")"
   ]
  },
  {
   "cell_type": "code",
   "execution_count": 96,
   "id": "df9a4429",
   "metadata": {},
   "outputs": [
    {
     "name": "stdout",
     "output_type": "stream",
     "text": [
      "Varun\n",
      "Sharon\n"
     ]
    }
   ],
   "source": [
    "funct1()"
   ]
  },
  {
   "cell_type": "code",
   "execution_count": 97,
   "id": "7d903278",
   "metadata": {},
   "outputs": [
    {
     "data": {
      "text/plain": [
       "8"
      ]
     },
     "execution_count": 97,
     "metadata": {},
     "output_type": "execute_result"
    }
   ],
   "source": [
    "max([1,2,8,6])"
   ]
  },
  {
   "cell_type": "code",
   "execution_count": null,
   "id": "4fcc974e",
   "metadata": {},
   "outputs": [],
   "source": [
    "#max example in text document"
   ]
  },
  {
   "cell_type": "code",
   "execution_count": 106,
   "id": "7b377658",
   "metadata": {},
   "outputs": [],
   "source": [
    "def max(iter):\n",
    "\tmax1 = float(\"-inf\")\n",
    "\tfor i in iter:\n",
    "\t\tif max1<i:\n",
    "\t\t\tmax1=i\n",
    "\treturn str(max1) + \" Maximum Value\""
   ]
  },
  {
   "cell_type": "code",
   "execution_count": 107,
   "id": "3b2e2713",
   "metadata": {},
   "outputs": [
    {
     "name": "stdout",
     "output_type": "stream",
     "text": [
      "8 Maximum Value\n"
     ]
    }
   ],
   "source": [
    "l=[1,2,3,-5,8]\n",
    "print(max(l))"
   ]
  },
  {
   "cell_type": "code",
   "execution_count": null,
   "id": "ff1248be",
   "metadata": {},
   "outputs": [],
   "source": [
    "# function_question.py"
   ]
  },
  {
   "cell_type": "code",
   "execution_count": 108,
   "id": "071dc6f6",
   "metadata": {},
   "outputs": [
    {
     "name": "stdout",
     "output_type": "stream",
     "text": [
      "odd\n"
     ]
    }
   ],
   "source": [
    "def return_even_or_odd(num):\n",
    "\tif num%2==0:\n",
    "\t\treturn \"even\"\n",
    "\telse:\n",
    "\t\treturn \"odd\"\n",
    "\n",
    "x  = return_even_or_odd(79)\n",
    "print(x)"
   ]
  },
  {
   "cell_type": "code",
   "execution_count": null,
   "id": "fc64be56",
   "metadata": {},
   "outputs": [],
   "source": [
    "# length_test.py "
   ]
  },
  {
   "cell_type": "code",
   "execution_count": 110,
   "id": "f8473592",
   "metadata": {},
   "outputs": [
    {
     "name": "stdout",
     "output_type": "stream",
     "text": [
      "[1, 5, 8, 'Priya']\n"
     ]
    }
   ],
   "source": [
    "def len(param):\n",
    "\treturn param\n",
    "l = [1,5,8,\"Priya\"]\n",
    "print(len(l))"
   ]
  },
  {
   "cell_type": "code",
   "execution_count": null,
   "id": "ee3e2961",
   "metadata": {},
   "outputs": [],
   "source": [
    "# return_max_value.py "
   ]
  },
  {
   "cell_type": "code",
   "execution_count": 112,
   "id": "f66bf27d",
   "metadata": {},
   "outputs": [
    {
     "name": "stdout",
     "output_type": "stream",
     "text": [
      "9 Maximum Value\n"
     ]
    }
   ],
   "source": [
    "def max(iter):\n",
    "\tmax1 = float(\"-inf\")\n",
    "\tfor i in iter:\n",
    "\t\tif max1<i:\n",
    "\t\t\tmax1=i\n",
    "\treturn str(max1) + \" Maximum Value\"\n",
    "print(max([1,2,8,-1,0,9]))"
   ]
  },
  {
   "cell_type": "code",
   "execution_count": null,
   "id": "7f7211c6",
   "metadata": {},
   "outputs": [],
   "source": [
    "# string_validator.py"
   ]
  },
  {
   "cell_type": "code",
   "execution_count": 113,
   "id": "7354f706",
   "metadata": {},
   "outputs": [
    {
     "name": "stdout",
     "output_type": "stream",
     "text": [
      "True\n"
     ]
    }
   ],
   "source": [
    "s = \"Hi I am in Edyoda\"\n",
    "def check_string(string):\n",
    "\treturn \"edyoda\" in string.lower()\n",
    "print(check_string(s))"
   ]
  },
  {
   "cell_type": "code",
   "execution_count": null,
   "id": "9c5bbbc5",
   "metadata": {},
   "outputs": [],
   "source": []
  }
 ],
 "metadata": {
  "kernelspec": {
   "display_name": "Python 3 (ipykernel)",
   "language": "python",
   "name": "python3"
  },
  "language_info": {
   "codemirror_mode": {
    "name": "ipython",
    "version": 3
   },
   "file_extension": ".py",
   "mimetype": "text/x-python",
   "name": "python",
   "nbconvert_exporter": "python",
   "pygments_lexer": "ipython3",
   "version": "3.10.2"
  }
 },
 "nbformat": 4,
 "nbformat_minor": 5
}
