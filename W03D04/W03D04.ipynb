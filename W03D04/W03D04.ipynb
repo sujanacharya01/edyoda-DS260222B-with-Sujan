{
 "cells": [
  {
   "cell_type": "code",
   "execution_count": 13,
   "id": "5e566b57",
   "metadata": {},
   "outputs": [],
   "source": [
    "# -oo to +oo\n",
    "l = float(\"inf\")"
   ]
  },
  {
   "cell_type": "code",
   "execution_count": 14,
   "id": "b3b8cf4a",
   "metadata": {},
   "outputs": [
    {
     "data": {
      "text/plain": [
       "False"
      ]
     },
     "execution_count": 14,
     "metadata": {},
     "output_type": "execute_result"
    }
   ],
   "source": [
    "99>l"
   ]
  },
  {
   "cell_type": "code",
   "execution_count": 3,
   "id": "45883378",
   "metadata": {},
   "outputs": [
    {
     "data": {
      "text/plain": [
       "True"
      ]
     },
     "execution_count": 3,
     "metadata": {},
     "output_type": "execute_result"
    }
   ],
   "source": [
    "99<l"
   ]
  },
  {
   "cell_type": "code",
   "execution_count": 5,
   "id": "0b489248",
   "metadata": {},
   "outputs": [],
   "source": [
    "g = float(\"-inf\")"
   ]
  },
  {
   "cell_type": "code",
   "execution_count": 6,
   "id": "71f974f8",
   "metadata": {},
   "outputs": [
    {
     "data": {
      "text/plain": [
       "True"
      ]
     },
     "execution_count": 6,
     "metadata": {},
     "output_type": "execute_result"
    }
   ],
   "source": [
    "99>g"
   ]
  },
  {
   "cell_type": "code",
   "execution_count": 7,
   "id": "08542c24",
   "metadata": {},
   "outputs": [
    {
     "data": {
      "text/plain": [
       "False"
      ]
     },
     "execution_count": 7,
     "metadata": {},
     "output_type": "execute_result"
    }
   ],
   "source": [
    "99<g"
   ]
  },
  {
   "cell_type": "code",
   "execution_count": 8,
   "id": "0df86da9",
   "metadata": {},
   "outputs": [],
   "source": [
    "import math\n",
    "po_inf = math.inf"
   ]
  },
  {
   "cell_type": "code",
   "execution_count": 9,
   "id": "3fc98ffb",
   "metadata": {},
   "outputs": [
    {
     "data": {
      "text/plain": [
       "False"
      ]
     },
     "execution_count": 9,
     "metadata": {},
     "output_type": "execute_result"
    }
   ],
   "source": [
    "-1 > po_inf"
   ]
  },
  {
   "cell_type": "code",
   "execution_count": 11,
   "id": "d815433f",
   "metadata": {},
   "outputs": [],
   "source": [
    "ne_inf = -math.inf"
   ]
  },
  {
   "cell_type": "code",
   "execution_count": 12,
   "id": "fb973279",
   "metadata": {},
   "outputs": [
    {
     "data": {
      "text/plain": [
       "True"
      ]
     },
     "execution_count": 12,
     "metadata": {},
     "output_type": "execute_result"
    }
   ],
   "source": [
    "-1 > ne_inf"
   ]
  },
  {
   "cell_type": "code",
   "execution_count": 15,
   "id": "a9c9ebc5",
   "metadata": {},
   "outputs": [],
   "source": [
    "dict1 = {\"Student_name\":\"Arman\", \"Age\":22, 24: 12, \"30\": \"15\", (1,): False, True: 2+3j, 854 : [8,5,4]}"
   ]
  },
  {
   "cell_type": "code",
   "execution_count": 16,
   "id": "ed901cc1",
   "metadata": {},
   "outputs": [
    {
     "name": "stdout",
     "output_type": "stream",
     "text": [
      "Arman\n",
      "22\n",
      "12\n",
      "15\n",
      "False\n",
      "(2+3j)\n",
      "[8, 5, 4]\n"
     ]
    }
   ],
   "source": [
    "print(dict1[\"Student_name\"])\n",
    "print(dict1[\"Age\"])\n",
    "print(dict1[24])\n",
    "print(dict1[\"30\"])\n",
    "print(dict1[(1,)])\n",
    "print(dict1[True])\n",
    "print(dict1[854])"
   ]
  },
  {
   "cell_type": "code",
   "execution_count": 17,
   "id": "fa0907a9",
   "metadata": {},
   "outputs": [
    {
     "ename": "KeyError",
     "evalue": "'Talib'",
     "output_type": "error",
     "traceback": [
      "\u001b[1;31m---------------------------------------------------------------------------\u001b[0m",
      "\u001b[1;31mKeyError\u001b[0m                                  Traceback (most recent call last)",
      "Input \u001b[1;32mIn [17]\u001b[0m, in \u001b[0;36m<cell line: 1>\u001b[1;34m()\u001b[0m\n\u001b[1;32m----> 1\u001b[0m \u001b[43mdict1\u001b[49m\u001b[43m[\u001b[49m\u001b[38;5;124;43m\"\u001b[39;49m\u001b[38;5;124;43mTalib\u001b[39;49m\u001b[38;5;124;43m\"\u001b[39;49m\u001b[43m]\u001b[49m\n",
      "\u001b[1;31mKeyError\u001b[0m: 'Talib'"
     ]
    }
   ],
   "source": [
    "dict1[\"Talib\"] # we got error because talib is not mentioned in dictionary key."
   ]
  },
  {
   "cell_type": "code",
   "execution_count": 18,
   "id": "1b797ab6",
   "metadata": {},
   "outputs": [
    {
     "name": "stdout",
     "output_type": "stream",
     "text": [
      "None\n"
     ]
    }
   ],
   "source": [
    "print(dict1.get(\"Talib\")) # if we use .get and ,if a key element is not in the dictionary then we wo'nt get error.\n",
    "                          # the output would be the none."
   ]
  },
  {
   "cell_type": "code",
   "execution_count": 19,
   "id": "e397da3d",
   "metadata": {},
   "outputs": [
    {
     "name": "stdout",
     "output_type": "stream",
     "text": [
      "22\n"
     ]
    }
   ],
   "source": [
    "print(dict1.get(\"Age\"))"
   ]
  },
  {
   "cell_type": "markdown",
   "id": "93b04109",
   "metadata": {},
   "source": [
    "### Add an element to a dictionary"
   ]
  },
  {
   "cell_type": "code",
   "execution_count": 20,
   "id": "9e38502f",
   "metadata": {},
   "outputs": [],
   "source": [
    "d = {\"address\": \"Bangluru\"}"
   ]
  },
  {
   "cell_type": "code",
   "execution_count": 21,
   "id": "9d83dcf7",
   "metadata": {},
   "outputs": [],
   "source": [
    "d[\"country\"] = \"India\" # assigning key and values to the dictionary."
   ]
  },
  {
   "cell_type": "code",
   "execution_count": 22,
   "id": "a8c54c21",
   "metadata": {},
   "outputs": [
    {
     "data": {
      "text/plain": [
       "{'address': 'Bangluru', 'country': 'India'}"
      ]
     },
     "execution_count": 22,
     "metadata": {},
     "output_type": "execute_result"
    }
   ],
   "source": [
    "d"
   ]
  },
  {
   "cell_type": "code",
   "execution_count": 23,
   "id": "17381585",
   "metadata": {},
   "outputs": [],
   "source": [
    "t = (23,\"Meraj\")\n",
    "d[t] = \"some value\"  # this way also we can assign key and values to the dictionary."
   ]
  },
  {
   "cell_type": "code",
   "execution_count": 24,
   "id": "10b02832",
   "metadata": {},
   "outputs": [
    {
     "data": {
      "text/plain": [
       "{'address': 'Bangluru', 'country': 'India', (23, 'Meraj'): 'some value'}"
      ]
     },
     "execution_count": 24,
     "metadata": {},
     "output_type": "execute_result"
    }
   ],
   "source": [
    "d"
   ]
  },
  {
   "cell_type": "markdown",
   "id": "c6fe1e82",
   "metadata": {},
   "source": [
    "### `Update value in dictionary`"
   ]
  },
  {
   "cell_type": "code",
   "execution_count": 26,
   "id": "b0864d81",
   "metadata": {},
   "outputs": [],
   "source": [
    "d2 = {'address': 'Bangluru', 'country': 'India', (23, 'Meraj'): 'some value'}\n",
    "d2[(23,\"Meraj\")] = \"Some Value ++\""
   ]
  },
  {
   "cell_type": "code",
   "execution_count": 27,
   "id": "ce2d9069",
   "metadata": {},
   "outputs": [
    {
     "name": "stdout",
     "output_type": "stream",
     "text": [
      "{'address': 'Bangluru', 'country': 'India', (23, 'Meraj'): 'Some Value ++'}\n"
     ]
    }
   ],
   "source": [
    "print(d2)"
   ]
  },
  {
   "cell_type": "code",
   "execution_count": 29,
   "id": "e7a70ed0",
   "metadata": {},
   "outputs": [
    {
     "ename": "TypeError",
     "evalue": "pop expected at least 1 argument, got 0",
     "output_type": "error",
     "traceback": [
      "\u001b[1;31m---------------------------------------------------------------------------\u001b[0m",
      "\u001b[1;31mTypeError\u001b[0m                                 Traceback (most recent call last)",
      "Input \u001b[1;32mIn [29]\u001b[0m, in \u001b[0;36m<cell line: 1>\u001b[1;34m()\u001b[0m\n\u001b[1;32m----> 1\u001b[0m \u001b[43md2\u001b[49m\u001b[38;5;241;43m.\u001b[39;49m\u001b[43mpop\u001b[49m\u001b[43m(\u001b[49m\u001b[43m)\u001b[49m\n",
      "\u001b[1;31mTypeError\u001b[0m: pop expected at least 1 argument, got 0"
     ]
    }
   ],
   "source": [
    "d2.pop() # pop expected at least 1 argument"
   ]
  },
  {
   "cell_type": "code",
   "execution_count": 30,
   "id": "df831f44",
   "metadata": {},
   "outputs": [
    {
     "data": {
      "text/plain": [
       "'Bangluru'"
      ]
     },
     "execution_count": 30,
     "metadata": {},
     "output_type": "execute_result"
    }
   ],
   "source": [
    "d2.pop('address') # it will remove the \"address\" key and it's value."
   ]
  },
  {
   "cell_type": "code",
   "execution_count": 31,
   "id": "5c5bf960",
   "metadata": {},
   "outputs": [
    {
     "name": "stdout",
     "output_type": "stream",
     "text": [
      "{'country': 'India', (23, 'Meraj'): 'Some Value ++'}\n"
     ]
    }
   ],
   "source": [
    "print(d2)"
   ]
  },
  {
   "cell_type": "code",
   "execution_count": 32,
   "id": "e2174f07",
   "metadata": {},
   "outputs": [],
   "source": [
    "d2.clear() # it will clear a entire dictionary."
   ]
  },
  {
   "cell_type": "code",
   "execution_count": 33,
   "id": "59c679ce",
   "metadata": {},
   "outputs": [
    {
     "name": "stdout",
     "output_type": "stream",
     "text": [
      "{}\n"
     ]
    }
   ],
   "source": [
    "print(d2)"
   ]
  },
  {
   "cell_type": "code",
   "execution_count": 34,
   "id": "0377067d",
   "metadata": {},
   "outputs": [],
   "source": [
    "d3 = {\"Mango\":\"green\",\"apple\":\"Red\",\"Banana\":\"Yellow\",\"Banana\":\"Green\",\"Litchi\":\"Red\"}"
   ]
  },
  {
   "cell_type": "code",
   "execution_count": 35,
   "id": "c08d079d",
   "metadata": {},
   "outputs": [
    {
     "name": "stdout",
     "output_type": "stream",
     "text": [
      "{'Mango': 'green', 'apple': 'Red', 'Banana': 'Green', 'Litchi': 'Red'}\n"
     ]
    }
   ],
   "source": [
    "print(d3) # in this example Banana keys has been mentioned twice so that it will consider the latest value."
   ]
  },
  {
   "cell_type": "code",
   "execution_count": 36,
   "id": "8294945b",
   "metadata": {},
   "outputs": [
    {
     "data": {
      "text/plain": [
       "1"
      ]
     },
     "execution_count": 36,
     "metadata": {},
     "output_type": "execute_result"
    }
   ],
   "source": [
    "d4 = {1:1, 2:2, 3:3}\n",
    "d4[1]"
   ]
  },
  {
   "cell_type": "code",
   "execution_count": 37,
   "id": "52f5a05c",
   "metadata": {},
   "outputs": [
    {
     "data": {
      "text/plain": [
       "dict_keys(['Mango', 'apple', 'Banana', 'Litchi'])"
      ]
     },
     "execution_count": 37,
     "metadata": {},
     "output_type": "execute_result"
    }
   ],
   "source": [
    "d3.keys()"
   ]
  },
  {
   "cell_type": "code",
   "execution_count": 38,
   "id": "2f300ad5",
   "metadata": {},
   "outputs": [
    {
     "data": {
      "text/plain": [
       "dict_keys"
      ]
     },
     "execution_count": 38,
     "metadata": {},
     "output_type": "execute_result"
    }
   ],
   "source": [
    "type(d3.keys())"
   ]
  },
  {
   "cell_type": "code",
   "execution_count": 40,
   "id": "5be963f0",
   "metadata": {},
   "outputs": [
    {
     "name": "stdout",
     "output_type": "stream",
     "text": [
      "Mango green\n",
      "apple Red\n",
      "Banana Green\n",
      "Litchi Red\n"
     ]
    }
   ],
   "source": [
    "for i in d3.keys():\n",
    "    print(i,d3[i])"
   ]
  },
  {
   "cell_type": "code",
   "execution_count": 41,
   "id": "5aa7eb69",
   "metadata": {},
   "outputs": [
    {
     "data": {
      "text/plain": [
       "dict_values(['green', 'Red', 'Green', 'Red'])"
      ]
     },
     "execution_count": 41,
     "metadata": {},
     "output_type": "execute_result"
    }
   ],
   "source": [
    "d3.values()"
   ]
  },
  {
   "cell_type": "code",
   "execution_count": 42,
   "id": "113038b1",
   "metadata": {},
   "outputs": [
    {
     "name": "stdout",
     "output_type": "stream",
     "text": [
      "green\n",
      "Red\n",
      "Green\n",
      "Red\n"
     ]
    }
   ],
   "source": [
    "for i in d3.values():\n",
    "    print(i)"
   ]
  },
  {
   "cell_type": "code",
   "execution_count": 43,
   "id": "cdd2ec1c",
   "metadata": {},
   "outputs": [],
   "source": [
    "d5 = {1:1, 2:1, 3:1}"
   ]
  },
  {
   "cell_type": "code",
   "execution_count": 44,
   "id": "7d053a05",
   "metadata": {},
   "outputs": [
    {
     "data": {
      "text/plain": [
       "1"
      ]
     },
     "execution_count": 44,
     "metadata": {},
     "output_type": "execute_result"
    }
   ],
   "source": [
    "d5[1]"
   ]
  },
  {
   "cell_type": "code",
   "execution_count": 45,
   "id": "70b1f53f",
   "metadata": {},
   "outputs": [
    {
     "data": {
      "text/plain": [
       "1"
      ]
     },
     "execution_count": 45,
     "metadata": {},
     "output_type": "execute_result"
    }
   ],
   "source": [
    "d5[2]"
   ]
  },
  {
   "cell_type": "code",
   "execution_count": 46,
   "id": "0b9eb8cc",
   "metadata": {},
   "outputs": [
    {
     "data": {
      "text/plain": [
       "1"
      ]
     },
     "execution_count": 46,
     "metadata": {},
     "output_type": "execute_result"
    }
   ],
   "source": [
    "d5[3]"
   ]
  },
  {
   "cell_type": "code",
   "execution_count": 47,
   "id": "68f59f63",
   "metadata": {},
   "outputs": [],
   "source": [
    "d = dict(Kuladeep=\"Pathak\",Sharon=\"Seeli\") # this is another way to assign value to the dictionary.\n",
    "                                           # here we didn't mention string to key but it will consider as a string."
   ]
  },
  {
   "cell_type": "code",
   "execution_count": 48,
   "id": "62efb1bf",
   "metadata": {},
   "outputs": [
    {
     "name": "stdout",
     "output_type": "stream",
     "text": [
      "{'Kuladeep': 'Pathak', 'Sharon': 'Seeli'}\n"
     ]
    }
   ],
   "source": [
    "print(d)"
   ]
  },
  {
   "cell_type": "code",
   "execution_count": 49,
   "id": "e3f1edbc",
   "metadata": {},
   "outputs": [
    {
     "data": {
      "text/plain": [
       "dict_items([('Kuladeep', 'Pathak'), ('Sharon', 'Seeli')])"
      ]
     },
     "execution_count": 49,
     "metadata": {},
     "output_type": "execute_result"
    }
   ],
   "source": [
    "d.items()"
   ]
  },
  {
   "cell_type": "code",
   "execution_count": 50,
   "id": "615e2644",
   "metadata": {},
   "outputs": [
    {
     "name": "stdout",
     "output_type": "stream",
     "text": [
      "('Kuladeep', 'Pathak')\n",
      "('Sharon', 'Seeli')\n"
     ]
    }
   ],
   "source": [
    "for i in d.items():\n",
    "    print(i)"
   ]
  },
  {
   "cell_type": "code",
   "execution_count": 51,
   "id": "2478a99f",
   "metadata": {},
   "outputs": [
    {
     "ename": "SyntaxError",
     "evalue": "expression cannot contain assignment, perhaps you meant \"==\"? (837332735.py, line 1)",
     "output_type": "error",
     "traceback": [
      "\u001b[1;36m  Input \u001b[1;32mIn [51]\u001b[1;36m\u001b[0m\n\u001b[1;33m    d2 = dict((1,2,3)=\"Meghna\")\u001b[0m\n\u001b[1;37m              ^\u001b[0m\n\u001b[1;31mSyntaxError\u001b[0m\u001b[1;31m:\u001b[0m expression cannot contain assignment, perhaps you meant \"==\"?\n"
     ]
    }
   ],
   "source": [
    "d2 = dict((1,2,3)=\"Meghna\")"
   ]
  },
  {
   "cell_type": "code",
   "execution_count": 52,
   "id": "26542acc",
   "metadata": {},
   "outputs": [],
   "source": [
    "d3 = dict(one=1,two=2,three=3)"
   ]
  },
  {
   "cell_type": "code",
   "execution_count": 53,
   "id": "3d5edf7d",
   "metadata": {},
   "outputs": [
    {
     "name": "stdout",
     "output_type": "stream",
     "text": [
      "{'one': 1, 'two': 2, 'three': 3}\n"
     ]
    }
   ],
   "source": [
    "print(d3)"
   ]
  },
  {
   "cell_type": "code",
   "execution_count": 54,
   "id": "faa9058b",
   "metadata": {},
   "outputs": [],
   "source": [
    "#Q) {1:1, 2:4, 3:9, 4:16, 5:25}"
   ]
  },
  {
   "cell_type": "code",
   "execution_count": 55,
   "id": "cf8aa744",
   "metadata": {},
   "outputs": [],
   "source": [
    "d = {}\n",
    "for i in range(1,6):\n",
    "    d[i] = i*i"
   ]
  },
  {
   "cell_type": "code",
   "execution_count": 56,
   "id": "681dcea1",
   "metadata": {},
   "outputs": [
    {
     "name": "stdout",
     "output_type": "stream",
     "text": [
      "{1: 1, 2: 4, 3: 9, 4: 16, 5: 25}\n"
     ]
    }
   ],
   "source": [
    "print(d)"
   ]
  },
  {
   "cell_type": "code",
   "execution_count": 57,
   "id": "042d38f2",
   "metadata": {},
   "outputs": [
    {
     "data": {
      "text/plain": [
       "65"
      ]
     },
     "execution_count": 57,
     "metadata": {},
     "output_type": "execute_result"
    }
   ],
   "source": [
    "ord(\"A\")"
   ]
  },
  {
   "cell_type": "code",
   "execution_count": 58,
   "id": "d382c0bf",
   "metadata": {},
   "outputs": [
    {
     "data": {
      "text/plain": [
       "'O'"
      ]
     },
     "execution_count": 58,
     "metadata": {},
     "output_type": "execute_result"
    }
   ],
   "source": [
    "chr(79)"
   ]
  },
  {
   "cell_type": "code",
   "execution_count": null,
   "id": "1835b2f0",
   "metadata": {},
   "outputs": [],
   "source": [
    "Q) {\"A\":65,\"B\":66,\"C\":67...}"
   ]
  },
  {
   "cell_type": "code",
   "execution_count": 68,
   "id": "59bda763",
   "metadata": {},
   "outputs": [
    {
     "name": "stdout",
     "output_type": "stream",
     "text": [
      "{'A': 65, 'B': 66, 'C': 67, 'D': 68, 'E': 69, 'F': 70, 'G': 71, 'H': 72, 'I': 73, 'J': 74, 'K': 75, 'L': 76, 'M': 77, 'N': 78, 'O': 79, 'P': 80, 'Q': 81, 'R': 82, 'S': 83, 'T': 84, 'U': 85, 'V': 86, 'W': 87, 'X': 88, 'Y': 89, 'Z': 90, '[': 91, '\\\\': 92, ']': 93, '^': 94, '_': 95, '`': 96, 'a': 97, 'b': 98, 'c': 99, 'd': 100, 'e': 101, 'f': 102, 'g': 103, 'h': 104, 'i': 105, 'j': 106, 'k': 107, 'l': 108, 'm': 109, 'n': 110, 'o': 111, 'p': 112, 'q': 113, 'r': 114, 's': 115, 't': 116, 'u': 117, 'v': 118, 'w': 119, 'x': 120, 'y': 121, 'z': 122}\n"
     ]
    }
   ],
   "source": [
    "d ={}\n",
    "for i in range(ord(\"A\"),ord(\"z\")+1):\n",
    "    d[chr(i)]=i\n",
    "print(d)\n",
    "    "
   ]
  },
  {
   "cell_type": "markdown",
   "id": "42d7def7",
   "metadata": {},
   "source": [
    "### `Set`"
   ]
  },
  {
   "cell_type": "code",
   "execution_count": null,
   "id": "24a86f2d",
   "metadata": {},
   "outputs": [],
   "source": [
    "\n",
    "A set is an unordered collection of items. Every Set element is unique(no duplicates) and must be IMMUTABLE(unchangeble). \n",
    "Our Set itself is MUTABLE"
   ]
  },
  {
   "cell_type": "code",
   "execution_count": null,
   "id": "5f679825",
   "metadata": {},
   "outputs": [],
   "source": [
    "Set itself is mutable but set values are immutable."
   ]
  },
  {
   "cell_type": "code",
   "execution_count": 69,
   "id": "942a44f3",
   "metadata": {},
   "outputs": [],
   "source": [
    "s = {1,2.3}"
   ]
  },
  {
   "cell_type": "code",
   "execution_count": 70,
   "id": "c0adee36",
   "metadata": {},
   "outputs": [
    {
     "name": "stdout",
     "output_type": "stream",
     "text": [
      "<class 'set'>\n"
     ]
    }
   ],
   "source": [
    "print(type(s))"
   ]
  },
  {
   "cell_type": "code",
   "execution_count": 71,
   "id": "09a27d65",
   "metadata": {},
   "outputs": [
    {
     "name": "stdout",
     "output_type": "stream",
     "text": [
      "<class 'dict'>\n"
     ]
    }
   ],
   "source": [
    "s = {} # python will consider as dictionary\n",
    "print(type(s))"
   ]
  },
  {
   "cell_type": "code",
   "execution_count": 72,
   "id": "5af367f4",
   "metadata": {},
   "outputs": [
    {
     "name": "stdout",
     "output_type": "stream",
     "text": [
      "<class 'set'>\n"
     ]
    }
   ],
   "source": [
    "s = set()  # to create a empty set\n",
    "print(type(s))"
   ]
  },
  {
   "cell_type": "code",
   "execution_count": 73,
   "id": "75b9d5dd",
   "metadata": {},
   "outputs": [],
   "source": [
    "s.add(\"Saikumar\")"
   ]
  },
  {
   "cell_type": "code",
   "execution_count": 74,
   "id": "fc52977d",
   "metadata": {},
   "outputs": [],
   "source": [
    "s.add(\"TALIB\")"
   ]
  },
  {
   "cell_type": "code",
   "execution_count": 75,
   "id": "81cc6afe",
   "metadata": {},
   "outputs": [],
   "source": [
    "s.add(123)"
   ]
  },
  {
   "cell_type": "code",
   "execution_count": 76,
   "id": "de693b9f",
   "metadata": {},
   "outputs": [],
   "source": [
    "t = (1,2)\n",
    "s.add(t)"
   ]
  },
  {
   "cell_type": "code",
   "execution_count": 77,
   "id": "594d08fd",
   "metadata": {},
   "outputs": [
    {
     "ename": "TypeError",
     "evalue": "unhashable type: 'list'",
     "output_type": "error",
     "traceback": [
      "\u001b[1;31m---------------------------------------------------------------------------\u001b[0m",
      "\u001b[1;31mTypeError\u001b[0m                                 Traceback (most recent call last)",
      "Input \u001b[1;32mIn [77]\u001b[0m, in \u001b[0;36m<cell line: 2>\u001b[1;34m()\u001b[0m\n\u001b[0;32m      1\u001b[0m l \u001b[38;5;241m=\u001b[39m [\u001b[38;5;241m1\u001b[39m,\u001b[38;5;241m2\u001b[39m,\u001b[38;5;241m3\u001b[39m]\n\u001b[1;32m----> 2\u001b[0m \u001b[43ms\u001b[49m\u001b[38;5;241;43m.\u001b[39;49m\u001b[43madd\u001b[49m\u001b[43m(\u001b[49m\u001b[43ml\u001b[49m\u001b[43m)\u001b[49m\n",
      "\u001b[1;31mTypeError\u001b[0m: unhashable type: 'list'"
     ]
    }
   ],
   "source": [
    "l = [1,2,3] # list is a mutable data type .it cannot be assigned as a key.\n",
    "s.add(l)"
   ]
  },
  {
   "cell_type": "code",
   "execution_count": 78,
   "id": "382330da",
   "metadata": {},
   "outputs": [
    {
     "name": "stdout",
     "output_type": "stream",
     "text": [
      "sujna\n",
      "shivu\n",
      "bhaskar\n"
     ]
    }
   ],
   "source": [
    "for i in range(3):\n",
    "    s.add(input())"
   ]
  },
  {
   "cell_type": "code",
   "execution_count": 79,
   "id": "257f36d4",
   "metadata": {},
   "outputs": [
    {
     "name": "stdout",
     "output_type": "stream",
     "text": [
      "{(1, 2), 'shivu', 'TALIB', 'bhaskar', 123, 'sujna', 'Saikumar'}\n"
     ]
    }
   ],
   "source": [
    "print(s) # output won't be in a order so that set is an unordered data type."
   ]
  },
  {
   "cell_type": "code",
   "execution_count": 80,
   "id": "a3c6b7f8",
   "metadata": {},
   "outputs": [],
   "source": [
    "# another way to assign values to the set.\n",
    "s.update([\"Sayali\",\"Pratiksha\",\"Priya\"])"
   ]
  },
  {
   "cell_type": "code",
   "execution_count": 81,
   "id": "7af504cf",
   "metadata": {},
   "outputs": [
    {
     "name": "stdout",
     "output_type": "stream",
     "text": [
      "{(1, 2), 'Sayali', 'Priya', 'shivu', 'TALIB', 'bhaskar', 'Pratiksha', 123, 'sujna', 'Saikumar'}\n"
     ]
    }
   ],
   "source": [
    "print(s)"
   ]
  },
  {
   "cell_type": "code",
   "execution_count": 83,
   "id": "37aa2ee8",
   "metadata": {},
   "outputs": [],
   "source": [
    "s.discard(123) # it will remove the value in the set."
   ]
  },
  {
   "cell_type": "code",
   "execution_count": 84,
   "id": "c4a0e8c5",
   "metadata": {},
   "outputs": [
    {
     "name": "stdout",
     "output_type": "stream",
     "text": [
      "{(1, 2), 'Sayali', 'Priya', 'shivu', 'TALIB', 'bhaskar', 'Pratiksha', 'sujna', 'Saikumar'}\n"
     ]
    }
   ],
   "source": [
    "print(s)"
   ]
  },
  {
   "cell_type": "code",
   "execution_count": 85,
   "id": "5b41cab5",
   "metadata": {},
   "outputs": [
    {
     "name": "stdout",
     "output_type": "stream",
     "text": [
      "None\n"
     ]
    }
   ],
   "source": [
    "print(s.discard(\"Armaan\")) # the given value is not inside the set it won't show any error output will be none."
   ]
  },
  {
   "cell_type": "code",
   "execution_count": 86,
   "id": "3dffd984",
   "metadata": {},
   "outputs": [],
   "source": [
    "s.remove((1,2)) # it will remove the value in the set."
   ]
  },
  {
   "cell_type": "code",
   "execution_count": 87,
   "id": "6cdbd8ab",
   "metadata": {},
   "outputs": [
    {
     "name": "stdout",
     "output_type": "stream",
     "text": [
      "{'Sayali', 'Priya', 'shivu', 'TALIB', 'bhaskar', 'Pratiksha', 'sujna', 'Saikumar'}\n"
     ]
    }
   ],
   "source": [
    "print(s)"
   ]
  },
  {
   "cell_type": "code",
   "execution_count": 88,
   "id": "e3408afb",
   "metadata": {},
   "outputs": [
    {
     "ename": "KeyError",
     "evalue": "'Kunal'",
     "output_type": "error",
     "traceback": [
      "\u001b[1;31m---------------------------------------------------------------------------\u001b[0m",
      "\u001b[1;31mKeyError\u001b[0m                                  Traceback (most recent call last)",
      "Input \u001b[1;32mIn [88]\u001b[0m, in \u001b[0;36m<cell line: 1>\u001b[1;34m()\u001b[0m\n\u001b[1;32m----> 1\u001b[0m \u001b[43ms\u001b[49m\u001b[38;5;241;43m.\u001b[39;49m\u001b[43mremove\u001b[49m\u001b[43m(\u001b[49m\u001b[38;5;124;43m\"\u001b[39;49m\u001b[38;5;124;43mKunal\u001b[39;49m\u001b[38;5;124;43m\"\u001b[39;49m\u001b[43m)\u001b[49m\n",
      "\u001b[1;31mKeyError\u001b[0m: 'Kunal'"
     ]
    }
   ],
   "source": [
    "s.remove(\"Kunal\")  # the given value is not inside the set it will show the error."
   ]
  },
  {
   "cell_type": "code",
   "execution_count": 89,
   "id": "cedbe0a3",
   "metadata": {},
   "outputs": [],
   "source": [
    "s.clear() # it will clear entire value inside the set."
   ]
  },
  {
   "cell_type": "code",
   "execution_count": 90,
   "id": "d6f4e784",
   "metadata": {},
   "outputs": [
    {
     "name": "stdout",
     "output_type": "stream",
     "text": [
      "set()\n"
     ]
    }
   ],
   "source": [
    "print(s)"
   ]
  },
  {
   "cell_type": "code",
   "execution_count": 91,
   "id": "aea71afd",
   "metadata": {},
   "outputs": [],
   "source": [
    "del s # it will delete the value or set etc."
   ]
  },
  {
   "cell_type": "code",
   "execution_count": 92,
   "id": "32296939",
   "metadata": {},
   "outputs": [
    {
     "ename": "NameError",
     "evalue": "name 's' is not defined",
     "output_type": "error",
     "traceback": [
      "\u001b[1;31m---------------------------------------------------------------------------\u001b[0m",
      "\u001b[1;31mNameError\u001b[0m                                 Traceback (most recent call last)",
      "Input \u001b[1;32mIn [92]\u001b[0m, in \u001b[0;36m<cell line: 1>\u001b[1;34m()\u001b[0m\n\u001b[1;32m----> 1\u001b[0m \u001b[38;5;28mprint\u001b[39m(\u001b[43ms\u001b[49m)\n",
      "\u001b[1;31mNameError\u001b[0m: name 's' is not defined"
     ]
    }
   ],
   "source": [
    "print(s)"
   ]
  },
  {
   "cell_type": "code",
   "execution_count": null,
   "id": "e1752b93",
   "metadata": {},
   "outputs": [],
   "source": [
    "H/W:\n",
    "    pop() and other builtin methods"
   ]
  }
 ],
 "metadata": {
  "kernelspec": {
   "display_name": "Python 3 (ipykernel)",
   "language": "python",
   "name": "python3"
  },
  "language_info": {
   "codemirror_mode": {
    "name": "ipython",
    "version": 3
   },
   "file_extension": ".py",
   "mimetype": "text/x-python",
   "name": "python",
   "nbconvert_exporter": "python",
   "pygments_lexer": "ipython3",
   "version": "3.10.2"
  }
 },
 "nbformat": 4,
 "nbformat_minor": 5
}
