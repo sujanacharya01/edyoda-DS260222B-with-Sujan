{
 "cells": [
  {
   "cell_type": "code",
   "execution_count": 3,
   "id": "825a6f8a",
   "metadata": {},
   "outputs": [
    {
     "name": "stdout",
     "output_type": "stream",
     "text": [
      "sujan\n"
     ]
    }
   ],
   "source": [
    "# format()\n",
    "s=input()\n",
    "st=\"name is \" + s + \"xjh\""
   ]
  },
  {
   "cell_type": "code",
   "execution_count": 4,
   "id": "0786d75a",
   "metadata": {},
   "outputs": [
    {
     "data": {
      "text/plain": [
       "'name is sujanxjh'"
      ]
     },
     "execution_count": 4,
     "metadata": {},
     "output_type": "execute_result"
    }
   ],
   "source": [
    "st"
   ]
  },
  {
   "cell_type": "code",
   "execution_count": 11,
   "id": "14327a0f",
   "metadata": {},
   "outputs": [
    {
     "name": "stdout",
     "output_type": "stream",
     "text": [
      "25\n"
     ]
    },
    {
     "ename": "TypeError",
     "evalue": "can only concatenate str (not \"int\") to str",
     "output_type": "error",
     "traceback": [
      "\u001b[1;31m---------------------------------------------------------------------------\u001b[0m",
      "\u001b[1;31mTypeError\u001b[0m                                 Traceback (most recent call last)",
      "Input \u001b[1;32mIn [11]\u001b[0m, in \u001b[0;36m<cell line: 2>\u001b[1;34m()\u001b[0m\n\u001b[0;32m      1\u001b[0m s\u001b[38;5;241m=\u001b[39m\u001b[38;5;28mint\u001b[39m(\u001b[38;5;28minput\u001b[39m()) \u001b[38;5;66;03m# if i give integer it will show the error.\u001b[39;00m\n\u001b[1;32m----> 2\u001b[0m st\u001b[38;5;241m=\u001b[39m\u001b[38;5;124;43m\"\u001b[39;49m\u001b[38;5;124;43mname is \u001b[39;49m\u001b[38;5;124;43m\"\u001b[39;49m\u001b[43m \u001b[49m\u001b[38;5;241;43m+\u001b[39;49m\u001b[43m \u001b[49m\u001b[43ms\u001b[49m \u001b[38;5;241m+\u001b[39m \u001b[38;5;124m\"\u001b[39m\u001b[38;5;124mxjh\u001b[39m\u001b[38;5;124m\"\u001b[39m\n",
      "\u001b[1;31mTypeError\u001b[0m: can only concatenate str (not \"int\") to str"
     ]
    }
   ],
   "source": [
    "s=int(input()) # if i give integer it will show the error.\n",
    "st=\"name is \" + s + \"xjh\""
   ]
  },
  {
   "cell_type": "code",
   "execution_count": 12,
   "id": "3d0ee8f3",
   "metadata": {},
   "outputs": [
    {
     "name": "stdout",
     "output_type": "stream",
     "text": [
      "26\n",
      "My name is 26\n"
     ]
    }
   ],
   "source": [
    "s=int(input())\n",
    "st = \"My name is {}\".format(s)\n",
    "print(st)"
   ]
  },
  {
   "cell_type": "code",
   "execution_count": 13,
   "id": "afe435af",
   "metadata": {},
   "outputs": [
    {
     "name": "stdout",
     "output_type": "stream",
     "text": [
      "arman,naga and ganesh are goimg to party\n"
     ]
    }
   ],
   "source": [
    "party=\"{},{} and {} are going to party\".format(\"arman\",\"naga\",\"ganesh\")\n",
    "print(party)"
   ]
  },
  {
   "cell_type": "code",
   "execution_count": 17,
   "id": "fce0d7a8",
   "metadata": {},
   "outputs": [
    {
     "name": "stdout",
     "output_type": "stream",
     "text": [
      "sujan\n",
      "shivu\n",
      "bhaskar\n",
      "sujan,shivu and bhaskar are going to party\n"
     ]
    }
   ],
   "source": [
    "l=input()\n",
    "j=input()\n",
    "k=input()\n",
    "party=\"{},{} and {} are going to party\".format(l,j,k)\n",
    "print(party)"
   ]
  },
  {
   "cell_type": "code",
   "execution_count": 22,
   "id": "e0cfa587",
   "metadata": {},
   "outputs": [
    {
     "name": "stdout",
     "output_type": "stream",
     "text": [
      "Bharath and Vinay are new joiners to the party\n"
     ]
    }
   ],
   "source": [
    "doubleparty=\"{std2} and {std} are new joiners to the party\".format(std=\"Vinay\",std2=\"Bharath\")\n",
    "print(doubleparty)"
   ]
  },
  {
   "cell_type": "code",
   "execution_count": 23,
   "id": "39625f7b",
   "metadata": {},
   "outputs": [
    {
     "name": "stdout",
     "output_type": "stream",
     "text": [
      "Bharath and Vinay are new joiners to the party\n"
     ]
    }
   ],
   "source": [
    "doubleparty=\"{std2} and {std} are new joiners to the party\".format\\ # \\ used to write code contuniation in new line\n",
    "(std=\"Vinay\",std2=\"Bharath\")\n",
    "print(doubleparty)"
   ]
  },
  {
   "cell_type": "code",
   "execution_count": 24,
   "id": "670284e7",
   "metadata": {},
   "outputs": [
    {
     "name": "stdout",
     "output_type": "stream",
     "text": [
      "5+10 add to 15\n"
     ]
    }
   ],
   "source": [
    "# f string python 3.6+\n",
    "a=5\n",
    "b=10\n",
    "c=f\"{a}+{b} add to 15\"\n",
    "print(c)"
   ]
  },
  {
   "cell_type": "code",
   "execution_count": null,
   "id": "e1c3901f",
   "metadata": {},
   "outputs": [],
   "source": [
    "#list\n",
    "  mutable or changeable\n",
    "  it's collection of a different data types including list itself.\n",
    "  it supports indexing\n"
   ]
  },
  {
   "cell_type": "code",
   "execution_count": null,
   "id": "c0b8991e",
   "metadata": {},
   "outputs": [],
   "source": [
    "l=[1,2,5]\n",
    "# append it adds one time at a time to the list at the end position"
   ]
  },
  {
   "cell_type": "code",
   "execution_count": 28,
   "id": "ba28cd8f",
   "metadata": {},
   "outputs": [
    {
     "name": "stdout",
     "output_type": "stream",
     "text": [
      "[1, 2, 5, 'sujan']\n"
     ]
    }
   ],
   "source": [
    "l=[1,2,5]\n",
    "l.append(\"sujan\")\n",
    "print(l)"
   ]
  },
  {
   "cell_type": "code",
   "execution_count": 29,
   "id": "c175848b",
   "metadata": {},
   "outputs": [
    {
     "name": "stdout",
     "output_type": "stream",
     "text": [
      "[]\n"
     ]
    }
   ],
   "source": [
    "l=[1,2,5]\n",
    "l.clear()\n",
    "print(l)"
   ]
  },
  {
   "cell_type": "code",
   "execution_count": 31,
   "id": "cf8c8b82",
   "metadata": {},
   "outputs": [
    {
     "name": "stdout",
     "output_type": "stream",
     "text": [
      "['sujan', 'bhaskar', 'shivu']\n"
     ]
    }
   ],
   "source": [
    "list_2= [\"sujan\",\"bhaskar\",6,\"shivu\"]\n",
    "list_2.remove(6)\n",
    "print(list_2)"
   ]
  },
  {
   "cell_type": "code",
   "execution_count": 34,
   "id": "ee804ead",
   "metadata": {},
   "outputs": [
    {
     "data": {
      "text/plain": [
       "'amit'"
      ]
     },
     "execution_count": 34,
     "metadata": {},
     "output_type": "execute_result"
    }
   ],
   "source": [
    "list_2= [\"sujan\",\"amit\",\"bhaskar\",6,\"shivu\"]\n",
    "list_2.pop(1) # if we mention the index then pop will tell you the value ot it can through it out."
   ]
  },
  {
   "cell_type": "code",
   "execution_count": 3,
   "id": "62dd8f18",
   "metadata": {},
   "outputs": [
    {
     "name": "stdout",
     "output_type": "stream",
     "text": [
      "['sujan', 'amit', 'bhaskar', 6]\n"
     ]
    }
   ],
   "source": [
    "list_2= [\"sujan\",\"amit\",\"bhaskar\",6,\"shivu\"]\n",
    "list_2.pop() # if we did not mention any index number it will pop out the last value.\n",
    "print(list_2)"
   ]
  },
  {
   "cell_type": "code",
   "execution_count": 4,
   "id": "e332fc8b",
   "metadata": {},
   "outputs": [
    {
     "ename": "IndexError",
     "evalue": "pop index out of range",
     "output_type": "error",
     "traceback": [
      "\u001b[1;31m---------------------------------------------------------------------------\u001b[0m",
      "\u001b[1;31mIndexError\u001b[0m                                Traceback (most recent call last)",
      "Input \u001b[1;32mIn [4]\u001b[0m, in \u001b[0;36m<cell line: 1>\u001b[1;34m()\u001b[0m\n\u001b[1;32m----> 1\u001b[0m \u001b[43mlist_2\u001b[49m\u001b[38;5;241;43m.\u001b[39;49m\u001b[43mpop\u001b[49m\u001b[43m(\u001b[49m\u001b[38;5;241;43m13\u001b[39;49m\u001b[43m)\u001b[49m\n",
      "\u001b[1;31mIndexError\u001b[0m: pop index out of range"
     ]
    }
   ],
   "source": [
    "list_2.pop(13) # Here mentioned index is not available."
   ]
  },
  {
   "cell_type": "code",
   "execution_count": 5,
   "id": "8f01b1be",
   "metadata": {},
   "outputs": [
    {
     "ename": "TypeError",
     "evalue": "'str' object cannot be interpreted as an integer",
     "output_type": "error",
     "traceback": [
      "\u001b[1;31m---------------------------------------------------------------------------\u001b[0m",
      "\u001b[1;31mTypeError\u001b[0m                                 Traceback (most recent call last)",
      "Input \u001b[1;32mIn [5]\u001b[0m, in \u001b[0;36m<cell line: 1>\u001b[1;34m()\u001b[0m\n\u001b[1;32m----> 1\u001b[0m \u001b[43mlist_2\u001b[49m\u001b[38;5;241;43m.\u001b[39;49m\u001b[43mpop\u001b[49m\u001b[43m(\u001b[49m\u001b[38;5;124;43m\"\u001b[39;49m\u001b[38;5;124;43marman\u001b[39;49m\u001b[38;5;124;43m\"\u001b[39;49m\u001b[43m)\u001b[49m\n",
      "\u001b[1;31mTypeError\u001b[0m: 'str' object cannot be interpreted as an integer"
     ]
    }
   ],
   "source": [
    "list_2.pop(\"arman\")"
   ]
  },
  {
   "cell_type": "code",
   "execution_count": 9,
   "id": "d1db9846",
   "metadata": {},
   "outputs": [
    {
     "name": "stdout",
     "output_type": "stream",
     "text": [
      "Enter the number of items you want to insert: 2\n",
      "sujan\n",
      "['sujan']\n",
      "india\n",
      "['sujan', 'india']\n"
     ]
    }
   ],
   "source": [
    "n=int(input(\"Enter the number of items you want to insert: \"))\n",
    "l=[]\n",
    "for i in range(n):\n",
    "        l.append(input())\n",
    "        print(l)         \n",
    "         "
   ]
  },
  {
   "cell_type": "code",
   "execution_count": 10,
   "id": "96a5fb05",
   "metadata": {},
   "outputs": [
    {
     "name": "stdout",
     "output_type": "stream",
     "text": [
      "['Banana', 'Mango', 'Orange', 'Watermelon']\n"
     ]
    }
   ],
   "source": [
    "fruits=[\"Banana\",\"Orange\",\"Watermelon\"]\n",
    "fruits.insert(1,\"Mango\") # here mango has been inserted at 1st index.\n",
    "print(fruits)"
   ]
  },
  {
   "cell_type": "code",
   "execution_count": 12,
   "id": "c9ae44a7",
   "metadata": {},
   "outputs": [
    {
     "name": "stdout",
     "output_type": "stream",
     "text": [
      "['Banana', 'Mango', 'Orange', (1, 2, 3), 'Watermelon']\n"
     ]
    }
   ],
   "source": [
    "tuple1=(1,2,3)\n",
    "fruits.insert(3,tuple1) # here whole tuple is consider as 3rd index.\n",
    "print(fruits)"
   ]
  },
  {
   "cell_type": "code",
   "execution_count": 13,
   "id": "cbd2cb2e",
   "metadata": {},
   "outputs": [
    {
     "name": "stdout",
     "output_type": "stream",
     "text": [
      "2730447712640\n",
      "[1, 2, 9, 4, 7, 8]\n",
      "2730447712640\n"
     ]
    }
   ],
   "source": [
    "l=[1,2,4,7,8]\n",
    "print(id(l))\n",
    "l.insert(2,9)\n",
    "print(l)\n",
    "print(id(l))"
   ]
  },
  {
   "cell_type": "code",
   "execution_count": 14,
   "id": "75a03af0",
   "metadata": {},
   "outputs": [
    {
     "name": "stdout",
     "output_type": "stream",
     "text": [
      "[]\n"
     ]
    }
   ],
   "source": [
    "l=[1,2,4,7,8]\n",
    "l.clear() # this function will remove all the values.\n",
    "print(l)"
   ]
  },
  {
   "cell_type": "code",
   "execution_count": 15,
   "id": "ce4ee2e6",
   "metadata": {},
   "outputs": [
    {
     "ename": "NameError",
     "evalue": "name 'l' is not defined",
     "output_type": "error",
     "traceback": [
      "\u001b[1;31m---------------------------------------------------------------------------\u001b[0m",
      "\u001b[1;31mNameError\u001b[0m                                 Traceback (most recent call last)",
      "Input \u001b[1;32mIn [15]\u001b[0m, in \u001b[0;36m<cell line: 3>\u001b[1;34m()\u001b[0m\n\u001b[0;32m      1\u001b[0m l\u001b[38;5;241m=\u001b[39m[\u001b[38;5;241m1\u001b[39m,\u001b[38;5;241m2\u001b[39m,\u001b[38;5;241m4\u001b[39m,\u001b[38;5;241m7\u001b[39m,\u001b[38;5;241m8\u001b[39m]\n\u001b[0;32m      2\u001b[0m \u001b[38;5;28;01mdel\u001b[39;00m l\n\u001b[1;32m----> 3\u001b[0m \u001b[38;5;28mprint\u001b[39m(\u001b[43ml\u001b[49m)\n",
      "\u001b[1;31mNameError\u001b[0m: name 'l' is not defined"
     ]
    }
   ],
   "source": [
    "l=[1,2,4,7,8]\n",
    "del l        # here we got error because delete function delete the entire memory. \n",
    "print(l)"
   ]
  },
  {
   "cell_type": "code",
   "execution_count": 17,
   "id": "a9772095",
   "metadata": {},
   "outputs": [
    {
     "name": "stdout",
     "output_type": "stream",
     "text": [
      "[-55, -3, -1, 0, 1, 5, 44, 68]\n"
     ]
    }
   ],
   "source": [
    "l=[1,5,-1,44,0,-3,-55,68]\n",
    "l.sort() # here it's sorted in ascending order.\n",
    "print(l)"
   ]
  },
  {
   "cell_type": "code",
   "execution_count": 18,
   "id": "cdf27877",
   "metadata": {},
   "outputs": [
    {
     "name": "stdout",
     "output_type": "stream",
     "text": [
      "[68, 44, 5, 1, 0, -1, -3, -55]\n"
     ]
    }
   ],
   "source": [
    "l.sort(reverse=True) # here it's sorted in descending order.\n",
    "print(l)"
   ]
  },
  {
   "cell_type": "code",
   "execution_count": 33,
   "id": "b6e39758",
   "metadata": {},
   "outputs": [
    {
     "name": "stdout",
     "output_type": "stream",
     "text": [
      "['Orange', 'Watermelon', 'Papaya']\n",
      "['Orange', 'Watermelon', 'Papaya', 'Apple']\n",
      "['Banana', 'Watermelon', 'Apple']\n",
      "['Orange', 'Papaya']\n",
      "['Orange', 'Watermelon', 'Papaya']\n",
      "['Apple', 'Papaya', 'Watermelon', 'Orange', 'Banana']\n"
     ]
    }
   ],
   "source": [
    "fruits=[\"Banana\",\"Orange\",\"Watermelon\",\"Papaya\",\"Apple\"]\n",
    "print(fruits[1:4])\n",
    "print(fruits[1:])\n",
    "print(fruits[::2])\n",
    "print(fruits[1::2])\n",
    "print(fruits[1:4:1])\n",
    "print(fruits[::-1])"
   ]
  },
  {
   "cell_type": "markdown",
   "id": "158d6d7d",
   "metadata": {},
   "source": [
    "# Tuple"
   ]
  },
  {
   "cell_type": "code",
   "execution_count": 13,
   "id": "59559689",
   "metadata": {},
   "outputs": [
    {
     "data": {
      "text/plain": [
       "2"
      ]
     },
     "execution_count": 13,
     "metadata": {},
     "output_type": "execute_result"
    }
   ],
   "source": [
    "t=(1,3,5,8,3,5,8,5)\n",
    "t.count(5) # it will count the value which is mentioned inside the ()\n"
   ]
  },
  {
   "cell_type": "code",
   "execution_count": 14,
   "id": "1fddf58b",
   "metadata": {},
   "outputs": [
    {
     "name": "stdout",
     "output_type": "stream",
     "text": [
      "<class 'list'>\n"
     ]
    }
   ],
   "source": [
    "l=[\"Harsha\"]\n",
    "print(type(l))"
   ]
  },
  {
   "cell_type": "code",
   "execution_count": 15,
   "id": "faa94d18",
   "metadata": {},
   "outputs": [
    {
     "name": "stdout",
     "output_type": "stream",
     "text": [
      "<class 'str'>\n"
     ]
    }
   ],
   "source": [
    "l=(\"Harsha\")\n",
    "print(type(l))"
   ]
  },
  {
   "cell_type": "code",
   "execution_count": 33,
   "id": "f5ef54c0",
   "metadata": {},
   "outputs": [
    {
     "name": "stdout",
     "output_type": "stream",
     "text": [
      "<class 'tuple'>\n",
      "('Krishna',)\n",
      "<class 'tuple'>\n"
     ]
    }
   ],
   "source": [
    "l=(\"Harsha\",) # if we want to add single element inside the tuple then we should use , \n",
    "print(type(l))\n",
    "k=\"Krishna\", # we can get the tuple with value +, without()\n",
    "print(k)\n",
    "print(type(k))"
   ]
  },
  {
   "cell_type": "code",
   "execution_count": 17,
   "id": "485584a0",
   "metadata": {},
   "outputs": [],
   "source": [
    "t=([1,2,3],10,15,20)"
   ]
  },
  {
   "cell_type": "code",
   "execution_count": 19,
   "id": "423a17ed",
   "metadata": {},
   "outputs": [
    {
     "name": "stdout",
     "output_type": "stream",
     "text": [
      "<class 'list'>\n"
     ]
    }
   ],
   "source": [
    "print(type(t[0]))"
   ]
  },
  {
   "cell_type": "code",
   "execution_count": 26,
   "id": "29212ae5",
   "metadata": {},
   "outputs": [
    {
     "name": "stdout",
     "output_type": "stream",
     "text": [
      "([1, 2, 3, 'sujan'], 10, 15, 20)\n"
     ]
    }
   ],
   "source": [
    "t=([1,2,3],10,15,20)\n",
    "t[0].append(\"sujan\") # list can be modified inside the tuple.\n",
    "print(t)"
   ]
  },
  {
   "cell_type": "code",
   "execution_count": 28,
   "id": "d5a4e9c9",
   "metadata": {},
   "outputs": [
    {
     "name": "stdout",
     "output_type": "stream",
     "text": [
      "1\n",
      "3\n",
      "5\n"
     ]
    }
   ],
   "source": [
    "t=(1,3,5)\n",
    "print(t[0])\n",
    "print(t[1])\n",
    "print(t[2])"
   ]
  },
  {
   "cell_type": "code",
   "execution_count": 30,
   "id": "067b740b",
   "metadata": {},
   "outputs": [
    {
     "name": "stdout",
     "output_type": "stream",
     "text": [
      "1\n",
      "3\n",
      "6\n"
     ]
    }
   ],
   "source": [
    "a,b,c=(1,3,6)\n",
    "print(a)\n",
    "print(b)\n",
    "print(c)"
   ]
  },
  {
   "cell_type": "code",
   "execution_count": 31,
   "id": "c9954eb7",
   "metadata": {},
   "outputs": [
    {
     "name": "stdout",
     "output_type": "stream",
     "text": [
      "1\n",
      "3\n",
      "5\n"
     ]
    }
   ],
   "source": [
    "x,y,z=t\n",
    "print(x)\n",
    "print(y)\n",
    "print(z)"
   ]
  },
  {
   "cell_type": "code",
   "execution_count": 34,
   "id": "bcdbcd97",
   "metadata": {},
   "outputs": [
    {
     "data": {
      "text/plain": [
       "'Maruti'"
      ]
     },
     "execution_count": 34,
     "metadata": {},
     "output_type": "execute_result"
    }
   ],
   "source": [
    "t=(\"Ganesh\",\"Shekar\",\"Maruti\",\"Gnanesh\")\n",
    "t[-2]     # negative indexing can be done in list,tuple and string."
   ]
  },
  {
   "cell_type": "code",
   "execution_count": 37,
   "id": "ec08dbc1",
   "metadata": {},
   "outputs": [
    {
     "name": "stdout",
     "output_type": "stream",
     "text": [
      "enter names by comma seperations sujan,shivu,bhaskar\n"
     ]
    }
   ],
   "source": [
    "s,d,x=input(\"enter names by comma seperations \").split(\",\")"
   ]
  },
  {
   "cell_type": "code",
   "execution_count": 38,
   "id": "c04cfbb8",
   "metadata": {},
   "outputs": [
    {
     "name": "stdout",
     "output_type": "stream",
     "text": [
      "sujan\n"
     ]
    }
   ],
   "source": [
    "print(s)"
   ]
  },
  {
   "cell_type": "code",
   "execution_count": 39,
   "id": "3ee6946f",
   "metadata": {},
   "outputs": [
    {
     "name": "stdout",
     "output_type": "stream",
     "text": [
      "bhaskar\n"
     ]
    }
   ],
   "source": [
    "print(x)"
   ]
  },
  {
   "cell_type": "code",
   "execution_count": 40,
   "id": "dfd04d04",
   "metadata": {},
   "outputs": [
    {
     "name": "stdout",
     "output_type": "stream",
     "text": [
      "shivu\n"
     ]
    }
   ],
   "source": [
    "print(d)"
   ]
  },
  {
   "cell_type": "code",
   "execution_count": null,
   "id": "1c9e3924",
   "metadata": {},
   "outputs": [],
   "source": []
  }
 ],
 "metadata": {
  "kernelspec": {
   "display_name": "Python 3 (ipykernel)",
   "language": "python",
   "name": "python3"
  },
  "language_info": {
   "codemirror_mode": {
    "name": "ipython",
    "version": 3
   },
   "file_extension": ".py",
   "mimetype": "text/x-python",
   "name": "python",
   "nbconvert_exporter": "python",
   "pygments_lexer": "ipython3",
   "version": "3.10.2"
  }
 },
 "nbformat": 4,
 "nbformat_minor": 5
}
