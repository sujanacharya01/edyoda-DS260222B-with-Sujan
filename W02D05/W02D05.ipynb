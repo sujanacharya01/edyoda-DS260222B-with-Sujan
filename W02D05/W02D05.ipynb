{
 "cells": [
  {
   "cell_type": "code",
   "execution_count": null,
   "id": "05e34584",
   "metadata": {},
   "outputs": [],
   "source": [
    "a = 23\n",
    "for i in range(a+1):\n",
    "    print(i)"
   ]
  },
  {
   "cell_type": "code",
   "execution_count": null,
   "id": "2ab07d96",
   "metadata": {},
   "outputs": [],
   "source": [
    "# range(stop)\n",
    "# range(start,stop)\n",
    "# range(start,stop,step)"
   ]
  },
  {
   "cell_type": "code",
   "execution_count": null,
   "id": "d5467ea0",
   "metadata": {},
   "outputs": [],
   "source": [
    "#5-10\n",
    "for i in range(5,10):\n",
    "    print(i)\n",
    "    "
   ]
  },
  {
   "cell_type": "code",
   "execution_count": null,
   "id": "d1574aaa",
   "metadata": {},
   "outputs": [],
   "source": [
    "for i in range (10):\n",
    "    for j in range(i+1):\n",
    "        if j==3:\n",
    "            print(j)\n",
    "            break\n",
    "        else:\n",
    "            print(j,end=\" \")\n",
    "    print() \n",
    "    print(j)\n",
    "        \n",
    "            "
   ]
  },
  {
   "cell_type": "code",
   "execution_count": null,
   "id": "2e6ae1e1",
   "metadata": {},
   "outputs": [],
   "source": [
    "# *\n",
    "# * *\n",
    "# * * *\n",
    "# * * * *\n",
    "# print(\"*\",end=\" \")\n"
   ]
  },
  {
   "cell_type": "code",
   "execution_count": null,
   "id": "065bf3ca",
   "metadata": {},
   "outputs": [],
   "source": [
    "for i in range(4):\n",
    "    for j in range(i+1):\n",
    "        print(\"*\",end=\" \")\n",
    "    print(\"\")"
   ]
  },
  {
   "cell_type": "code",
   "execution_count": null,
   "id": "5fa24dfd",
   "metadata": {},
   "outputs": [],
   "source": [
    "#My solutions:\n",
    "for i in range(4):\n",
    "    for j in range(i+1):\n",
    "        if j==3:\n",
    "            print(\"*\")\n",
    "            break\n",
    "        else:\n",
    "            print(\"*\",end=\" \")\n",
    "    print()      \n",
    "    \n",
    "        "
   ]
  },
  {
   "cell_type": "code",
   "execution_count": null,
   "id": "9aef8174",
   "metadata": {},
   "outputs": [],
   "source": [
    "# break --> it drops out from college\n",
    "# continue --> bunks the class"
   ]
  },
  {
   "cell_type": "code",
   "execution_count": null,
   "id": "bca9d8e2",
   "metadata": {},
   "outputs": [],
   "source": [
    "for i in range(10): \n",
    "    if i==4:         # in this example continue statement did not consider the 4 because it bunked the class 4.\n",
    "        continue\n",
    "    print(i)"
   ]
  },
  {
   "cell_type": "markdown",
   "id": "21a14cd9",
   "metadata": {},
   "source": [
    "## While Loop "
   ]
  },
  {
   "cell_type": "markdown",
   "id": "c5836df4",
   "metadata": {},
   "source": [
    "The while loop in Python Programming is used to `iterate over a block of code as long as the \n",
    "expression is True`"
   ]
  },
  {
   "cell_type": "code",
   "execution_count": null,
   "id": "fe96b270",
   "metadata": {},
   "outputs": [],
   "source": [
    "x=0\n",
    "while x<10:\n",
    "    print(x)\n",
    "    x+=1"
   ]
  },
  {
   "cell_type": "code",
   "execution_count": null,
   "id": "c88ded1f",
   "metadata": {},
   "outputs": [],
   "source": [
    "# #Syntax\n",
    "# while condition:\n",
    "#     #statement"
   ]
  },
  {
   "cell_type": "code",
   "execution_count": null,
   "id": "d708bb3d",
   "metadata": {},
   "outputs": [],
   "source": [
    "# even numbers from 0 to 10\n",
    "count = 0\n",
    "while count<11:\n",
    "    if count%2==0:\n",
    "        print(count)\n",
    "    count+=1"
   ]
  },
  {
   "cell_type": "code",
   "execution_count": null,
   "id": "16e26dbe",
   "metadata": {},
   "outputs": [],
   "source": []
  },
  {
   "cell_type": "code",
   "execution_count": 2,
   "id": "fbfbf709",
   "metadata": {},
   "outputs": [
    {
     "name": "stdout",
     "output_type": "stream",
     "text": [
      "10\n",
      "8\n",
      "6\n",
      "4\n",
      "2\n",
      "0\n",
      "The history saving thread hit an unexpected error (OperationalError('database or disk is full')).History will not be written to the database.\n"
     ]
    }
   ],
   "source": [
    "# even numbers from 0 to 10\n",
    "count = 10\n",
    "while count>-1:\n",
    "    if count%2==0:\n",
    "        print(count)\n",
    "    count-=1"
   ]
  },
  {
   "cell_type": "code",
   "execution_count": null,
   "id": "923b790b",
   "metadata": {},
   "outputs": [],
   "source": [
    "# mini undo and redo\n",
    "count = 0\n",
    "while True:\n",
    "    option = input(\"Do you want to start: Y/N\")\n",
    "    if option == \"Y\":\n",
    "        choice = input(\"Forward or Backward: F/B\")\n",
    "        if choice == \"F\":\n",
    "            count+=1\n",
    "            print(\"Page is\",count)\n",
    "        elif choice == \"B\":\n",
    "            count-=1\n",
    "            print(\"Page is\",count)\n",
    "        else:\n",
    "            print(\"Incorrect choice!!\")\n",
    "    else:\n",
    "        print(\"Exiting....\")\n",
    "        break"
   ]
  }
 ],
 "metadata": {
  "kernelspec": {
   "display_name": "Python 3 (ipykernel)",
   "language": "python",
   "name": "python3"
  },
  "language_info": {
   "codemirror_mode": {
    "name": "ipython",
    "version": 3
   },
   "file_extension": ".py",
   "mimetype": "text/x-python",
   "name": "python",
   "nbconvert_exporter": "python",
   "pygments_lexer": "ipython3",
   "version": "3.10.2"
  }
 },
 "nbformat": 4,
 "nbformat_minor": 5
}
