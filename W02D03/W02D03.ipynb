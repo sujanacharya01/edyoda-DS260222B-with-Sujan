{
 "cells": [
  {
   "cell_type": "code",
   "execution_count": null,
   "id": "f45f656b",
   "metadata": {},
   "outputs": [],
   "source": [
    "if condition:\n",
    "    #statements\n",
    "else:\n",
    "    #statement"
   ]
  },
  {
   "cell_type": "code",
   "execution_count": null,
   "id": "5ea90b36",
   "metadata": {},
   "outputs": [],
   "source": [
    "if condtion1:\n",
    "    #statement1\n",
    "elif condition2:\n",
    "    #statement2\n",
    "else:\n",
    "    #statement3"
   ]
  },
  {
   "cell_type": "code",
   "execution_count": null,
   "id": "8d4f0abe",
   "metadata": {},
   "outputs": [],
   "source": [
    "if outer_condition1:\n",
    "    #statement1\n",
    "    if inner_conditionA:\n",
    "        #statementA\n",
    "    else:\n",
    "        #statementB\n",
    "else:\n",
    "     if inner_conditionC:\n",
    "        #statementC"
   ]
  },
  {
   "cell_type": "code",
   "execution_count": null,
   "id": "1d93f59f",
   "metadata": {},
   "outputs": [],
   "source": [
    "Q)print Even if the number given is even else print odd"
   ]
  },
  {
   "cell_type": "code",
   "execution_count": 2,
   "id": "88d522b7",
   "metadata": {},
   "outputs": [
    {
     "name": "stdout",
     "output_type": "stream",
     "text": [
      "6\n",
      "Even\n"
     ]
    }
   ],
   "source": [
    "num = int(input())\n",
    "if num%2 ==0:\n",
    "    print(\"Even\")\n",
    "else:\n",
    "    print(\"Odd\")"
   ]
  },
  {
   "cell_type": "code",
   "execution_count": null,
   "id": "1c96e491",
   "metadata": {},
   "outputs": [],
   "source": [
    "short hand if else statement"
   ]
  },
  {
   "cell_type": "code",
   "execution_count": 5,
   "id": "4d531088",
   "metadata": {},
   "outputs": [
    {
     "name": "stdout",
     "output_type": "stream",
     "text": [
      "7\n",
      "Odd\n"
     ]
    }
   ],
   "source": [
    "num = int(input())\n",
    "print(\"Even\") if num%2 ==0 else print(\"Odd\")"
   ]
  },
  {
   "cell_type": "code",
   "execution_count": null,
   "id": "2ebcc324",
   "metadata": {},
   "outputs": [],
   "source": [
    "statement1 if condition else statement2 "
   ]
  },
  {
   "cell_type": "code",
   "execution_count": null,
   "id": "f1242190",
   "metadata": {},
   "outputs": [],
   "source": [
    "# check if the number is positive zero or negative"
   ]
  },
  {
   "cell_type": "code",
   "execution_count": 8,
   "id": "d86fb535",
   "metadata": {},
   "outputs": [
    {
     "name": "stdout",
     "output_type": "stream",
     "text": [
      "-1\n",
      "negative\n"
     ]
    }
   ],
   "source": [
    "num = int(input())\n",
    "if num>0:\n",
    "    print(\"positive\")\n",
    "elif num ==0:\n",
    "    print(\"zero\")\n",
    "else:\n",
    "    print(\"negative\")"
   ]
  },
  {
   "cell_type": "code",
   "execution_count": null,
   "id": "adce9fb4",
   "metadata": {},
   "outputs": [],
   "source": [
    "short hand if else statement"
   ]
  },
  {
   "cell_type": "code",
   "execution_count": 12,
   "id": "b3b5fe4c",
   "metadata": {},
   "outputs": [
    {
     "ename": "SyntaxError",
     "evalue": "expected 'else' after 'if' expression (2981383381.py, line 1)",
     "output_type": "error",
     "traceback": [
      "\u001b[1;36m  Input \u001b[1;32mIn [12]\u001b[1;36m\u001b[0m\n\u001b[1;33m    print(\"Posiitive\") if num>0 elif num<0 print(\"Negative\") else print\u001b[0m\n\u001b[1;37m    ^\u001b[0m\n\u001b[1;31mSyntaxError\u001b[0m\u001b[1;31m:\u001b[0m expected 'else' after 'if' expression\n"
     ]
    }
   ],
   "source": [
    "print(\"Posiitive\") if num>0 elif num<0 print(\"Negative\") else print \n",
    "# we cannot run mutiplan statement in a single line"
   ]
  },
  {
   "cell_type": "code",
   "execution_count": 15,
   "id": "cc04d96c",
   "metadata": {},
   "outputs": [
    {
     "name": "stdout",
     "output_type": "stream",
     "text": [
      "save water\n"
     ]
    }
   ],
   "source": [
    "#short hand if else statement\n",
    "\n",
    "val='Not Thursty'\n",
    "print(\"Drink water\") if val == 'Thursty' else print(\"save water\")"
   ]
  },
  {
   "cell_type": "code",
   "execution_count": 1,
   "id": "89522d82",
   "metadata": {},
   "outputs": [
    {
     "name": "stdout",
     "output_type": "stream",
     "text": [
      "thirsty\n",
      "drink water\n"
     ]
    }
   ],
   "source": [
    "val = input()\n",
    "if val == \"thirsty\":\n",
    "    print (\"drink water\")\n",
    "else:\n",
    "    print(\"save water\")"
   ]
  },
  {
   "cell_type": "code",
   "execution_count": 17,
   "id": "94a5e92d",
   "metadata": {},
   "outputs": [
    {
     "name": "stdout",
     "output_type": "stream",
     "text": [
      "hello\n"
     ]
    }
   ],
   "source": [
    "val=\" \" # if we give space we will get output\n",
    "if val:\n",
    "    print(\"hello\")"
   ]
  },
  {
   "cell_type": "code",
   "execution_count": null,
   "id": "3b13e59e",
   "metadata": {},
   "outputs": [],
   "source": [
    "val=\"\" # without space we will not get output\n",
    "if val:\n",
    "    print(\"hello\")"
   ]
  },
  {
   "cell_type": "code",
   "execution_count": null,
   "id": "83426002",
   "metadata": {},
   "outputs": [],
   "source": [
    "if condition --> True else: "
   ]
  },
  {
   "cell_type": "code",
   "execution_count": null,
   "id": "e9a5c3fc",
   "metadata": {},
   "outputs": [],
   "source": [
    "and ->Boolean value \n",
    "or -> Boolean value\n",
    "not -> Boolean value"
   ]
  },
  {
   "cell_type": "code",
   "execution_count": 22,
   "id": "366339f5",
   "metadata": {},
   "outputs": [
    {
     "name": "stdout",
     "output_type": "stream",
     "text": [
      "Talib is saved!!\n"
     ]
    }
   ],
   "source": [
    "club = [\"Talib\",\"Mayank\",\"Sujan\",\"Syali\",\"Ruchika\"]\n",
    "if \"Sujan\" in club or \"Vinay\" in club:\n",
    "     print(\"Talib is saved!!\")\n",
    "else:\n",
    "    print(\"Terror of Ganesh!!\")"
   ]
  },
  {
   "cell_type": "code",
   "execution_count": 23,
   "id": "a806e7b1",
   "metadata": {},
   "outputs": [
    {
     "name": "stdout",
     "output_type": "stream",
     "text": [
      "Terror of Ganesh!!\n"
     ]
    }
   ],
   "source": [
    "club = [\"Talib\",\"Mayank\",\"Syali\",\"Ruchika\"]\n",
    "if \"Sujan\" in club or \"Vinay\" in club: \n",
    "    print(\"Talib is saved!!\")\n",
    "else:\n",
    "    print(\"Terror of Ganesh!!\")"
   ]
  },
  {
   "cell_type": "code",
   "execution_count": null,
   "id": "02da26e1",
   "metadata": {},
   "outputs": [],
   "source": [
    "Q if value is less than 2 and greater than zero print one else print other number"
   ]
  },
  {
   "cell_type": "code",
   "execution_count": 2,
   "id": "e8796926",
   "metadata": {},
   "outputs": [
    {
     "name": "stdout",
     "output_type": "stream",
     "text": [
      "4\n",
      "Other\n"
     ]
    }
   ],
   "source": [
    "value = int(input())\n",
    "if value >0 and value<2:\n",
    "    print(\"One\")\n",
    "else:\n",
    "    print(\"Other\")"
   ]
  },
  {
   "cell_type": "code",
   "execution_count": null,
   "id": "2254a0ee",
   "metadata": {},
   "outputs": [],
   "source": [
    "Truthy Falsy"
   ]
  },
  {
   "cell_type": "code",
   "execution_count": null,
   "id": "0e29328b",
   "metadata": {},
   "outputs": [],
   "source": [
    "False equivalents:\n",
    "    0,'',None,0j,False,[],(),{},set()..."
   ]
  },
  {
   "cell_type": "code",
   "execution_count": 5,
   "id": "9a1e220d",
   "metadata": {},
   "outputs": [
    {
     "name": "stdout",
     "output_type": "stream",
     "text": [
      "LOL\n"
     ]
    }
   ],
   "source": [
    "val = ''\n",
    "if val:\n",
    "    print(\"Hello\")\n",
    "else:\n",
    "    print(\"LOL\")"
   ]
  },
  {
   "cell_type": "code",
   "execution_count": 6,
   "id": "c2fff697",
   "metadata": {},
   "outputs": [
    {
     "name": "stdout",
     "output_type": "stream",
     "text": [
      "LOL\n"
     ]
    }
   ],
   "source": [
    "val = None\n",
    "if val:\n",
    "    print(\"Hello\")\n",
    "else:\n",
    "    print(\"LOL\")"
   ]
  },
  {
   "cell_type": "code",
   "execution_count": 7,
   "id": "02c3ea1f",
   "metadata": {},
   "outputs": [
    {
     "name": "stdout",
     "output_type": "stream",
     "text": [
      "LOL\n"
     ]
    }
   ],
   "source": [
    "val = 0j\n",
    "if val:\n",
    "    print(\"Hello\")\n",
    "else:\n",
    "    print(\"LOL\")"
   ]
  },
  {
   "cell_type": "code",
   "execution_count": null,
   "id": "94070506",
   "metadata": {},
   "outputs": [],
   "source": [
    "True Equivalents:\n",
    "    1,-1,1.1,<space>,'name',..."
   ]
  },
  {
   "cell_type": "code",
   "execution_count": 8,
   "id": "14db5842",
   "metadata": {},
   "outputs": [
    {
     "name": "stdout",
     "output_type": "stream",
     "text": [
      "Hello\n"
     ]
    }
   ],
   "source": [
    "val = 23\n",
    "if val:\n",
    "    print(\"Hello\")\n",
    "else:\n",
    "    print(\"LOL\")"
   ]
  },
  {
   "cell_type": "markdown",
   "id": "a3dc0b2a",
   "metadata": {},
   "source": [
    "`iterable`"
   ]
  },
  {
   "cell_type": "code",
   "execution_count": null,
   "id": "b9eb91e1",
   "metadata": {},
   "outputs": [],
   "source": [
    "An iterable is any python object capable of returning its members one at a time\n",
    "collections:\n",
    "    str,list,tuple,set,dict,range..."
   ]
  },
  {
   "cell_type": "code",
   "execution_count": null,
   "id": "0710668e",
   "metadata": {},
   "outputs": [],
   "source": [
    "loop is something which helps us to iterate"
   ]
  },
  {
   "cell_type": "code",
   "execution_count": null,
   "id": "a8345847",
   "metadata": {},
   "outputs": [],
   "source": [
    "# for loop"
   ]
  },
  {
   "cell_type": "code",
   "execution_count": 9,
   "id": "ef8b57ad",
   "metadata": {},
   "outputs": [
    {
     "name": "stdout",
     "output_type": "stream",
     "text": [
      "apple\n",
      "mango\n",
      "banana\n"
     ]
    }
   ],
   "source": [
    "fruit_basket = [\"apple\",\"mango\",\"banana\",\"orange\"]\n",
    "\n",
    "print(fruit_basket[0])     # without for loop, we can run the condition with the help of index, but it's too long process.\n",
    "print(fruit_basket[1])\n",
    "print(fruit_basket[2])"
   ]
  },
  {
   "cell_type": "code",
   "execution_count": 10,
   "id": "c66f3252",
   "metadata": {},
   "outputs": [
    {
     "name": "stdout",
     "output_type": "stream",
     "text": [
      "apple\n",
      "mango\n",
      "banana\n",
      "orange\n"
     ]
    }
   ],
   "source": [
    "fruit_basket = [\"apple\",\"mango\",\"banana\",\"orange\"]\n",
    "for i in fruit_basket:\n",
    "    print(i)"
   ]
  },
  {
   "cell_type": "code",
   "execution_count": 11,
   "id": "9846c7aa",
   "metadata": {},
   "outputs": [
    {
     "name": "stdout",
     "output_type": "stream",
     "text": [
      "mango\n",
      "orange\n"
     ]
    }
   ],
   "source": [
    "fruit_basket = [\"apple\",\"mango\",\"banana\",\"orange\"]\n",
    "for i in fruit_basket:\n",
    "    if \"o\" in i:\n",
    "        print(i)"
   ]
  },
  {
   "cell_type": "code",
   "execution_count": 12,
   "id": "4b1f6885",
   "metadata": {},
   "outputs": [
    {
     "name": "stdout",
     "output_type": "stream",
     "text": [
      "apple\n",
      "mango\n",
      "banana\n",
      "orange\n"
     ]
    }
   ],
   "source": [
    "fruit_basket = [\"apple\",\"mango\",\"banana\",\"orange\"]\n",
    "for fruit in fruit_basket:\n",
    "    print(fruit)"
   ]
  },
  {
   "cell_type": "code",
   "execution_count": 1,
   "id": "accb2d2f",
   "metadata": {},
   "outputs": [
    {
     "ename": "NameError",
     "evalue": "name 'banana' is not defined",
     "output_type": "error",
     "traceback": [
      "\u001b[1;31m---------------------------------------------------------------------------\u001b[0m",
      "\u001b[1;31mNameError\u001b[0m                                 Traceback (most recent call last)",
      "Input \u001b[1;32mIn [1]\u001b[0m, in \u001b[0;36m<cell line: 1>\u001b[1;34m()\u001b[0m\n\u001b[1;32m----> 1\u001b[0m fruit_basket\u001b[38;5;241m=\u001b[39m [\u001b[38;5;124m'\u001b[39m\u001b[38;5;124mapple\u001b[39m\u001b[38;5;124m'\u001b[39m,\u001b[38;5;124m'\u001b[39m\u001b[38;5;124morange\u001b[39m\u001b[38;5;124m'\u001b[39m,\u001b[43mbanana\u001b[49m,mango]\n\u001b[0;32m      2\u001b[0m \u001b[38;5;28;01mfor\u001b[39;00m i \u001b[38;5;129;01min\u001b[39;00m fruit_basket: \u001b[38;5;66;03m# if we are not mentioned any text value inside the string then we will get error\u001b[39;00m\n\u001b[0;32m      3\u001b[0m     \u001b[38;5;28;01mif\u001b[39;00m \u001b[38;5;124m\"\u001b[39m\u001b[38;5;124mo\u001b[39m\u001b[38;5;124m\"\u001b[39m \u001b[38;5;129;01min\u001b[39;00m i:\n",
      "\u001b[1;31mNameError\u001b[0m: name 'banana' is not defined"
     ]
    }
   ],
   "source": [
    "fruit_basket= ['apple','orange',banana,mango]\n",
    "for i in fruit_basket: # if we are not mentioned any text value inside the string then we will get error\n",
    "    if \"o\" in i:\n",
    "        print(i)"
   ]
  },
  {
   "cell_type": "code",
   "execution_count": 18,
   "id": "6f9611f5",
   "metadata": {},
   "outputs": [
    {
     "name": "stdout",
     "output_type": "stream",
     "text": [
      "usha\n",
      "Kumari\n",
      "luna\n"
     ]
    }
   ],
   "source": [
    "k=[\"usha\",\"Jerry\",\"Kumari\",\"Tom\",\"luna\"]\n",
    "for i in k:\n",
    "    if \"u\"in k: # here we will not get output because we have wrongly mentioned k instaed of i.\n",
    "        print(i)"
   ]
  },
  {
   "cell_type": "code",
   "execution_count": null,
   "id": "3fdf868e",
   "metadata": {},
   "outputs": [],
   "source": [
    "break --> it helps us to get out of the loop any time"
   ]
  },
  {
   "cell_type": "code",
   "execution_count": 19,
   "id": "015b261d",
   "metadata": {},
   "outputs": [
    {
     "name": "stdout",
     "output_type": "stream",
     "text": [
      "mango\n",
      "orange\n"
     ]
    }
   ],
   "source": [
    "fruit_basket = [\"apple\",\"mango\",\"banana\",\"orange\"]\n",
    "for i in fruit_basket:\n",
    "    if \"o\" in i:\n",
    "        print(i)\n",
    "        "
   ]
  },
  {
   "cell_type": "code",
   "execution_count": 20,
   "id": "9283c47c",
   "metadata": {},
   "outputs": [
    {
     "name": "stdout",
     "output_type": "stream",
     "text": [
      "mango\n"
     ]
    }
   ],
   "source": [
    "fruit_basket = [\"apple\",\"mango\",\"banana\",\"orange\"]\n",
    "for i in fruit_basket:\n",
    "    if \"o\" in i:\n",
    "        print(i)\n",
    "        break   # here we used break condition and it wodn't allow to check another value once the condition got satisfied."
   ]
  },
  {
   "cell_type": "code",
   "execution_count": null,
   "id": "8dce6883",
   "metadata": {},
   "outputs": [],
   "source": [
    "range() --> gives you sequence of numbers"
   ]
  },
  {
   "cell_type": "code",
   "execution_count": 21,
   "id": "2ec26adc",
   "metadata": {},
   "outputs": [
    {
     "name": "stdout",
     "output_type": "stream",
     "text": [
      "0\n",
      "1\n",
      "2\n",
      "3\n",
      "4\n",
      "5\n",
      "6\n",
      "7\n",
      "8\n",
      "9\n"
     ]
    }
   ],
   "source": [
    "for i in range(10):\n",
    "    print(i)"
   ]
  },
  {
   "cell_type": "code",
   "execution_count": 27,
   "id": "313a73d8",
   "metadata": {},
   "outputs": [
    {
     "name": "stdout",
     "output_type": "stream",
     "text": [
      "1 mango\n"
     ]
    }
   ],
   "source": [
    "fruit_basket = [\"apple\",\"mango\",\"banana\",\"orange\"]\n",
    "for i in range(len(fruit_basket)):   # length operator will find the lenght of the iterables\n",
    "    if fruit_basket[i] == 'mango':\n",
    "        print(i,fruit_basket[i])\n",
    "        break"
   ]
  },
  {
   "cell_type": "code",
   "execution_count": 23,
   "id": "5a2f7535",
   "metadata": {},
   "outputs": [
    {
     "name": "stdout",
     "output_type": "stream",
     "text": [
      "mango\n",
      "orange\n"
     ]
    }
   ],
   "source": [
    "fruit_basket = [\"apple\",\"mango\",\"banana\",\"orange\"]\n",
    "count = 0\n",
    "for i in fruit_basket:\n",
    "    if \"o\" in i:    \n",
    "        count+=1     # we can use count operator also\n",
    "        print(i)"
   ]
  },
  {
   "cell_type": "code",
   "execution_count": null,
   "id": "3047cd82",
   "metadata": {},
   "outputs": [],
   "source": []
  }
 ],
 "metadata": {
  "kernelspec": {
   "display_name": "Python 3 (ipykernel)",
   "language": "python",
   "name": "python3"
  },
  "language_info": {
   "codemirror_mode": {
    "name": "ipython",
    "version": 3
   },
   "file_extension": ".py",
   "mimetype": "text/x-python",
   "name": "python",
   "nbconvert_exporter": "python",
   "pygments_lexer": "ipython3",
   "version": "3.10.2"
  }
 },
 "nbformat": 4,
 "nbformat_minor": 5
}
