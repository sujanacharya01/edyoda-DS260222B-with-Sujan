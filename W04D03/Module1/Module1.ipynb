{
 "cells": [
  {
   "cell_type": "code",
   "execution_count": 1,
   "id": "4155fa31",
   "metadata": {},
   "outputs": [],
   "source": [
    "import math\n",
    "\n",
    "pie = math.pi\n",
    "\n",
    "def area(shape, *side):\n",
    "    if shape.lower() == \"circle\":\n",
    "        return pie*(side[0]**2)\n",
    "    elif shape.lower() == \"square\":\n",
    "        return side[0]**2\n",
    "    elif shape.lower() == \"rectangle\":\n",
    "        return side[0]*side[1]\n",
    "    elif shape.lower() == \"triangle\":\n",
    "        s = (side[0]+side[1]+side[2])/2\n",
    "        v = s*(s-side[0])(s-side[1])(s-side[2])\n",
    "        return math.sqrt(v)\n",
    "    else:\n",
    "        print(\"This shape is currently under progress\")"
   ]
  },
  {
   "cell_type": "code",
   "execution_count": null,
   "id": "42ea6038",
   "metadata": {},
   "outputs": [],
   "source": []
  }
 ],
 "metadata": {
  "kernelspec": {
   "display_name": "Python 3 (ipykernel)",
   "language": "python",
   "name": "python3"
  },
  "language_info": {
   "codemirror_mode": {
    "name": "ipython",
    "version": 3
   },
   "file_extension": ".py",
   "mimetype": "text/x-python",
   "name": "python",
   "nbconvert_exporter": "python",
   "pygments_lexer": "ipython3",
   "version": "3.10.2"
  }
 },
 "nbformat": 4,
 "nbformat_minor": 5
}
