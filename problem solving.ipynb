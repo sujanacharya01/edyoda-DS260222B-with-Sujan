{
 "cells": [
  {
   "cell_type": "code",
   "execution_count": null,
   "id": "ef650292",
   "metadata": {},
   "outputs": [],
   "source": [
    "Write a function - Hacker Rank Solution\n",
    "Write a function - Hacker Rank Solution\n",
    "We add a Leap Day on February 29, almost every four years. The leap day is an extra, or intercalary, day and we add it to the shortest month of the year, February. \n",
    "\n",
    "In the Gregorian calendar three criteria must be taken into account to identify leap years:\n",
    "The year can be evenly divided by 4;\n",
    "If the year can be evenly divided by 100, it is NOT a leap year, unless;\n",
    "The year is also evenly divisible by 400. Then it is a leap year.\n",
    "This means that in the Gregorian calendar, the years 2000 and 2400 are leap years, while 1800, 1900, 2100, 2200, 2300 and 2500 are NOT leap years.Source\n",
    "Task \n",
    "You are given the year, and you have to write a function to check if the year is leap or not.\n",
    "Note that you have to complete the function and remaining code is given as template.\n",
    "Input Format\n",
    "Read y, the year that needs to be checked.\n",
    "Constraints\n",
    "Output Format\n",
    "Output is taken care of by the template. Your function must return a boolean value (True/False)"
   ]
  },
  {
   "cell_type": "code",
   "execution_count": 1,
   "id": "0dc12941",
   "metadata": {},
   "outputs": [
    {
     "name": "stdout",
     "output_type": "stream",
     "text": [
      "6\n",
      "False\n"
     ]
    }
   ],
   "source": [
    "def is_leap(n):\n",
    "    if n % 400 == 0:\n",
    "        return True\n",
    "    if n % 100 == 0:\n",
    "        return False\n",
    "    if n % 4 == 0:\n",
    "        return True\n",
    "    return False\n",
    "\n",
    "print(is_leap(int(input())))"
   ]
  },
  {
   "cell_type": "code",
   "execution_count": null,
   "id": "53253d8e",
   "metadata": {},
   "outputs": [],
   "source": [
    "Problem Statement :\n",
    "\n",
    "The included code stub will read an integer,  n, from STDIN.\n",
    "\n",
    "Without using any string methods, try to print the following:   \n",
    "        123...n   \n",
    "\n",
    "Note that \"\" represents the consecutive values in between.\n",
    "\n",
    "\n",
    "\n",
    "Example:\n",
    "     n=5 \n",
    "     Print the string 12345.\n"
   ]
  },
  {
   "cell_type": "code",
   "execution_count": 2,
   "id": "27612b00",
   "metadata": {},
   "outputs": [
    {
     "name": "stdout",
     "output_type": "stream",
     "text": [
      "4\n",
      "123"
     ]
    }
   ],
   "source": [
    "n = int(input())\n",
    "for i in range(1,4):\n",
    "        print(i,end=\"\")"
   ]
  },
  {
   "cell_type": "code",
   "execution_count": 1,
   "id": "6612797e",
   "metadata": {},
   "outputs": [
    {
     "name": "stdout",
     "output_type": "stream",
     "text": [
      "0\n",
      "1\n",
      "1\n",
      "2\n",
      "3\n",
      "5\n",
      "8\n",
      "13\n",
      "21\n",
      "34\n"
     ]
    }
   ],
   "source": [
    "x=1\n",
    "y=0\n",
    "while y<50:\n",
    "    print(y)\n",
    "    x,y = y,x+y"
   ]
  },
  {
   "cell_type": "code",
   "execution_count": null,
   "id": "b1ffaeda",
   "metadata": {},
   "outputs": [],
   "source": []
  }
 ],
 "metadata": {
  "kernelspec": {
   "display_name": "Python 3 (ipykernel)",
   "language": "python",
   "name": "python3"
  },
  "language_info": {
   "codemirror_mode": {
    "name": "ipython",
    "version": 3
   },
   "file_extension": ".py",
   "mimetype": "text/x-python",
   "name": "python",
   "nbconvert_exporter": "python",
   "pygments_lexer": "ipython3",
   "version": "3.10.2"
  }
 },
 "nbformat": 4,
 "nbformat_minor": 5
}
