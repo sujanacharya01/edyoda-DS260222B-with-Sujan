{
 "cells": [
  {
   "cell_type": "code",
   "execution_count": 1,
   "id": "09451fd3",
   "metadata": {},
   "outputs": [
    {
     "name": "stdout",
     "output_type": "stream",
     "text": [
      "odd number\n"
     ]
    }
   ],
   "source": [
    "num = 3\n",
    "if num %2 == 0:\n",
    "    print(\"even number\")\n",
    "else:\n",
    "     print(\"odd number\")"
   ]
  },
  {
   "cell_type": "code",
   "execution_count": 1,
   "id": "6b8d6792",
   "metadata": {},
   "outputs": [
    {
     "name": "stdout",
     "output_type": "stream",
     "text": [
      "Enter a number: 5\n",
      "5 is Odd number\n"
     ]
    }
   ],
   "source": [
    "num = int(input(\"Enter a number: \"))\t\n",
    "if (num % 2) == 0:\n",
    "    print(\"{0} is Even number\". format(num))\n",
    "else:\n",
    "    print(\"{0} is Odd number\". format(num))   "
   ]
  },
  {
   "cell_type": "code",
   "execution_count": 1,
   "id": "eae789f6",
   "metadata": {},
   "outputs": [
    {
     "name": "stdout",
     "output_type": "stream",
     "text": [
      "Enter a number: 5\n",
      "5 is odd number\n"
     ]
    }
   ],
   "source": [
    "num = int(input(\"Enter a number: \"))\t\n",
    "if num % 2 == 0:\n",
    "    print(num,\"is even number\")\n",
    "else:\n",
    "    print(num,\"is odd number\")  "
   ]
  },
  {
   "cell_type": "code",
   "execution_count": null,
   "id": "8373af88",
   "metadata": {},
   "outputs": [],
   "source": []
  },
  {
   "cell_type": "code",
   "execution_count": 42,
   "id": "b346bc5a",
   "metadata": {},
   "outputs": [
    {
     "name": "stdout",
     "output_type": "stream",
     "text": [
      "odd\n"
     ]
    }
   ],
   "source": [
    "data = 25\n",
    "if type(data) == int:\n",
    "    if data %2 == 0:\n",
    "        print(\"even\")\n",
    "    else:\n",
    "        print(\"odd\") \n",
    "elif type(data) == str:\n",
    "           print(\"string\")\n",
    "else:\n",
    "     print(\"Other Values\")  "
   ]
  },
  {
   "cell_type": "code",
   "execution_count": 45,
   "id": "34f338b3",
   "metadata": {},
   "outputs": [
    {
     "name": "stdout",
     "output_type": "stream",
     "text": [
      "Enter a number: 2-3\n",
      "string\n"
     ]
    }
   ],
   "source": [
    "data = input(\"Enter a number: \")\n",
    "if type(data) == int:\n",
    "    if data %2 == 0:\n",
    "        print(\"even\")\n",
    "    else:\n",
    "        print(\"odd\") \n",
    "elif type(data) == str:\n",
    "           print(\"string\")\n",
    "else:\n",
    "     print(\"Other Values\")  "
   ]
  },
  {
   "cell_type": "markdown",
   "id": "637b983d",
   "metadata": {},
   "source": [
    "Q) WAP to add two integers and print there values. the input need to be taken from user"
   ]
  },
  {
   "cell_type": "code",
   "execution_count": 5,
   "id": "4fc373a3",
   "metadata": {},
   "outputs": [
    {
     "name": "stdout",
     "output_type": "stream",
     "text": [
      "Enter a number 1 : 8\n",
      "Enter a number 2 : 9\n",
      "17\n"
     ]
    }
   ],
   "source": [
    "a = int(input(\"Enter a number 1 : \"))\n",
    "b = int(input(\"Enter a number 2 : \"))\n",
    "print(a+b)"
   ]
  },
  {
   "cell_type": "code",
   "execution_count": null,
   "id": "11c94240",
   "metadata": {},
   "outputs": [],
   "source": [
    "Q) WAP to add two integers and print there values. the input need not to be taken from user"
   ]
  },
  {
   "cell_type": "code",
   "execution_count": 4,
   "id": "93fb7c70",
   "metadata": {},
   "outputs": [
    {
     "name": "stdout",
     "output_type": "stream",
     "text": [
      "5\n"
     ]
    }
   ],
   "source": [
    "a = int(2.4)\n",
    "b = int(3)\n",
    "print(a+b)"
   ]
  },
  {
   "cell_type": "code",
   "execution_count": null,
   "id": "0f602e3b",
   "metadata": {},
   "outputs": [],
   "source": [
    "Q) WAP to concatenate two strings:\n",
    "    1) \"I study \"\n",
    "    2) \"in Edyoda\"\n",
    "    and print the result in console"
   ]
  },
  {
   "cell_type": "code",
   "execution_count": 6,
   "id": "d3a5dfb3",
   "metadata": {},
   "outputs": [
    {
     "name": "stdout",
     "output_type": "stream",
     "text": [
      "I study in Edyoda\n"
     ]
    }
   ],
   "source": [
    "a = \"I study \"\n",
    "b = \"in Edyoda\"\n",
    "concate = print(a+b)"
   ]
  },
  {
   "cell_type": "markdown",
   "id": "d5299d36",
   "metadata": {},
   "source": [
    "`Conditional Statement`"
   ]
  },
  {
   "cell_type": "code",
   "execution_count": null,
   "id": "0cf288e1",
   "metadata": {},
   "outputs": [],
   "source": [
    "Descison-making statements in programming language decide the flow of execution"
   ]
  },
  {
   "cell_type": "code",
   "execution_count": null,
   "id": "81117252",
   "metadata": {},
   "outputs": [],
   "source": [
    "descision making statements:\n",
    "    if you eat chole bhature:\n",
    "        ...\n",
    "    else if you ate hajmola and eat chole:\n",
    "        its fine"
   ]
  },
  {
   "cell_type": "code",
   "execution_count": null,
   "id": "94b48bdf",
   "metadata": {},
   "outputs": [],
   "source": [
    "tommorow is exam:\n",
    "    if you study:\n",
    "        you may pass\n",
    "    else:\n",
    "         you may fail"
   ]
  },
  {
   "cell_type": "code",
   "execution_count": 16,
   "id": "87e6dcab",
   "metadata": {},
   "outputs": [
    {
     "name": "stdout",
     "output_type": "stream",
     "text": [
      "Have You Prepared for your examination(Yes/No):Yes\n",
      "you may pass\n"
     ]
    }
   ],
   "source": [
    "exam = str(input(\"Have You Prepared for your examination(Yes/No):\"))\n",
    "exam = exam.upper()  # --.upper is used to make lower case input in upper case\n",
    "if exam == str(\"YES\"):\n",
    "    print(\"you may pass\")\n",
    "else:\n",
    "    print(\"you may fail\")\n"
   ]
  },
  {
   "cell_type": "code",
   "execution_count": null,
   "id": "1a235b18",
   "metadata": {},
   "outputs": [],
   "source": [
    "tommorow is exam:\n",
    "    if you study:\n",
    "        you may pass\n",
    "    else:\n",
    "         you may fail\n",
    "   # if the user given invalid comment."
   ]
  },
  {
   "cell_type": "code",
   "execution_count": 19,
   "id": "a5e8bb6d",
   "metadata": {},
   "outputs": [
    {
     "name": "stdout",
     "output_type": "stream",
     "text": [
      "Have You Prepared for your examination(Yes/No):yes\n",
      "you may pass\n"
     ]
    }
   ],
   "source": [
    "exam = str(input(\"Have You Prepared for your examination(Yes/No):\"))\n",
    "exam = exam.upper()  # --.upper is used to make lower case input in upper case\n",
    "if exam == str(\"YES\"):\n",
    "    print(\"you may pass\")\n",
    "elif exam != str(\"NO\"):\n",
    "    print(\"You have given invalid comment\")\n",
    "else:\n",
    "    print(\"you may fail\")"
   ]
  },
  {
   "cell_type": "code",
   "execution_count": null,
   "id": "53f07422",
   "metadata": {},
   "outputs": [],
   "source": []
  },
  {
   "cell_type": "code",
   "execution_count": null,
   "id": "1ac0c963",
   "metadata": {},
   "outputs": [],
   "source": [
    "Q)if the password given contains name of user:\n",
    "    your name should not be in password\n",
    "else:\n",
    "    password is fine"
   ]
  },
  {
   "cell_type": "code",
   "execution_count": 26,
   "id": "f7054296",
   "metadata": {},
   "outputs": [
    {
     "name": "stdout",
     "output_type": "stream",
     "text": [
      "Enter a user name: na\n",
      "Conggrats your name is not in the password\n"
     ]
    }
   ],
   "source": [
    "User_Name = str(input(\"Enter a user name: \"))\n",
    "Password = (\"Sujan@2020!abc\")\n",
    "Password = Password.lower()  # -- .lowe() is used to make upper case character to lower case character.\n",
    "if User_Name in Password:\n",
    "    print(\"Please don't use your name in the password\")\n",
    "else:\n",
    "    print(\"Congrats your name is not in the password\")"
   ]
  },
  {
   "cell_type": "code",
   "execution_count": 23,
   "id": "1de3c030",
   "metadata": {},
   "outputs": [],
   "source": [
    "#Q) check if the given number is positive"
   ]
  },
  {
   "cell_type": "code",
   "execution_count": 4,
   "id": "7f710497",
   "metadata": {},
   "outputs": [
    {
     "name": "stdout",
     "output_type": "stream",
     "text": [
      "Enter a number-1\n",
      "-1  is Negative Number\n"
     ]
    }
   ],
   "source": [
    "Num = int(input(\"Enter a number\"))\n",
    "if Num > 0:\n",
    "    print(Num,\" is Positive Number\")\n",
    "else:\n",
    "    print(Num, \" is Negative Number\")\n",
    "    "
   ]
  },
  {
   "cell_type": "code",
   "execution_count": null,
   "id": "7929373b",
   "metadata": {},
   "outputs": [],
   "source": [
    "#Q) check if the given number is positive or negative or zero"
   ]
  },
  {
   "cell_type": "code",
   "execution_count": 12,
   "id": "9b454364",
   "metadata": {},
   "outputs": [
    {
     "name": "stdout",
     "output_type": "stream",
     "text": [
      "Enter a number : 0\n",
      "You have entered zero\n"
     ]
    }
   ],
   "source": [
    "Num = int(input(\"Enter a number : \"))\n",
    "if Num > 0:\n",
    "    print(Num,\" is Positive Number\")\n",
    "elif Num == 0:\n",
    "    print(\"You have entered zero\")      \n",
    "else:\n",
    "    print(Num, \" is Negative Number\")\n",
    "   \n"
   ]
  },
  {
   "cell_type": "code",
   "execution_count": null,
   "id": "f50636c3",
   "metadata": {},
   "outputs": [],
   "source": [
    "#Syntax 2->  if ... else statement\n",
    "if expression:\n",
    "    # statements\n",
    "else:\n",
    "    # statement 2"
   ]
  },
  {
   "cell_type": "code",
   "execution_count": null,
   "id": "813cdb1c",
   "metadata": {},
   "outputs": [],
   "source": [
    "if expression1:\n",
    "    #statement 1\n",
    "elif expression2:\n",
    "    #statement 2\n",
    "elif expression3:\n",
    "    #statement 3\n",
    "...\n",
    "else:\n",
    "    #stement for else"
   ]
  },
  {
   "cell_type": "code",
   "execution_count": null,
   "id": "5fb40a60",
   "metadata": {},
   "outputs": [],
   "source": [
    "# WAP in python to check if the given two numbers is equal or not"
   ]
  },
  {
   "cell_type": "code",
   "execution_count": 28,
   "id": "d726fa27",
   "metadata": {},
   "outputs": [
    {
     "name": "stdout",
     "output_type": "stream",
     "text": [
      "Enter a first number: 4\n",
      "Enter a second number: 2\n",
      "not equal\n"
     ]
    }
   ],
   "source": [
    "a = int(input(\"Enter a first number: \"))\n",
    "b = int(input(\"Enter a second number: \"))\n",
    "if a==b:\n",
    "    print(\"Equal\")\n",
    "else:\n",
    "    print(\"not equal\")"
   ]
  },
  {
   "cell_type": "code",
   "execution_count": null,
   "id": "f9349019",
   "metadata": {},
   "outputs": [],
   "source": [
    "Nested if statement:\n",
    "    if...elif...else under if..elif..else"
   ]
  },
  {
   "cell_type": "code",
   "execution_count": null,
   "id": "4eba929a",
   "metadata": {},
   "outputs": [],
   "source": [
    "if expression1:\n",
    "    #outer statement\n",
    "    if expressionA:\n",
    "        #inner statement\n",
    "    else:\n",
    "        #inner statement 2\n",
    "else:\n",
    "    #outer statement"
   ]
  },
  {
   "cell_type": "code",
   "execution_count": null,
   "id": "3762e46e",
   "metadata": {},
   "outputs": [],
   "source": [
    "WAP to check the type of a data:\n",
    "    if the data is int:\n",
    "        print Even if the number is even else print odd\n",
    "    else if the data is string :\n",
    "        print string\n",
    "    else\n",
    "        other type"
   ]
  },
  {
   "cell_type": "code",
   "execution_count": 51,
   "id": "65640999",
   "metadata": {},
   "outputs": [
    {
     "name": "stdout",
     "output_type": "stream",
     "text": [
      "other data type\n"
     ]
    }
   ],
   "source": [
    "data = 24+3j\n",
    "if type(data) == int:\n",
    "    if data%2 == 0:\n",
    "        print(\"Even\")\n",
    "    else:\n",
    "        print(\"Odd\")\n",
    "elif type(data) == str:\n",
    "    print(\"Yay!! String Found\")\n",
    "else:\n",
    "    print(\"other data type\")"
   ]
  },
  {
   "cell_type": "code",
   "execution_count": null,
   "id": "0e692247",
   "metadata": {},
   "outputs": [],
   "source": []
  }
 ],
 "metadata": {
  "kernelspec": {
   "display_name": "Python 3 (ipykernel)",
   "language": "python",
   "name": "python3"
  },
  "language_info": {
   "codemirror_mode": {
    "name": "ipython",
    "version": 3
   },
   "file_extension": ".py",
   "mimetype": "text/x-python",
   "name": "python",
   "nbconvert_exporter": "python",
   "pygments_lexer": "ipython3",
   "version": "3.10.2"
  }
 },
 "nbformat": 4,
 "nbformat_minor": 5
}
